{
 "cells": [
  {
   "cell_type": "markdown",
   "metadata": {},
   "source": [
    " **Capstone Project: Create a Customer Segmentation Report for Arvato Financial Services**\n",
    "\n",
    "In this project, you will analyze demographics data for customers of a mail-order sales company in Germany, comparing it against demographics information for the general population. You'll use unsupervised learning techniques to perform customer segmentation, identifying the parts of the population that best describe the core customer base of the company. Then, you'll apply what you've learned on a third dataset with demographics information for targets of a marketing campaign for the company, and use a model to predict which individuals are most likely to convert into becoming customers for the company. The data that you will use has been provided by our partners at Bertelsmann Arvato Analytics, and represents a real-life data science task.\n",
    "\n",
    "If you completed the first term of this program, you will be familiar with the first part of this project, from the unsupervised learning project. The versions of those two datasets used in this project will include many more features and has not been pre-cleaned. You are also free to choose whatever approach you'd like to analyzing the data rather than follow pre-determined steps. In your work on this project, make sure that you carefully document your steps and decisions, since your main deliverable for this project will be a blog post reporting your findings."
   ]
  },
  {
   "cell_type": "code",
   "execution_count": 160,
   "metadata": {},
   "outputs": [],
   "source": [
    "# import libraries here; add more as necessary\n",
    "\n",
    "import numpy as np\n",
    "import pandas as pd\n",
    "import matplotlib.pyplot as plt\n",
    "import seaborn as sns\n",
    "\n",
    "import ast\n",
    "\n",
    "import time\n",
    "import pickle\n",
    "\n",
    "# from sklearn.preprocessing import Imputer\n",
    "from sklearn.impute import SimpleImputer\n",
    "from sklearn.preprocessing import StandardScaler\n",
    "from sklearn.decomposition import PCA\n",
    "from sklearn.cluster import KMeans\n",
    "\n",
    "from sklearn.utils import resample\n",
    "\n",
    "from sklearn.model_selection import GridSearchCV\n",
    "from sklearn.linear_model import LogisticRegression\n",
    "from sklearn.ensemble import AdaBoostClassifier\n",
    "from sklearn.ensemble import RandomForestClassifier\n",
    "from sklearn.ensemble import GradientBoostingClassifier\n",
    "from lightgbm import LGBMClassifier\n",
    "import xgboost as xgb\n",
    "\n",
    "from sklearn.svm import SVC\n",
    "\n",
    "from sklearn.metrics import roc_auc_score, fbeta_score, accuracy_score, precision_score, recall_score\n",
    "\n",
    "\n",
    "# magic word for producing visualizations in notebook\n",
    "%matplotlib inline"
   ]
  },
  {
   "cell_type": "code",
   "execution_count": null,
   "metadata": {},
   "outputs": [],
   "source": []
  },
  {
   "cell_type": "markdown",
   "metadata": {},
   "source": [
    "## Get to Know the Data\n",
    "\n",
    "There are four data files associated with this project:\n",
    "\n",
    "- `Udacity_AZDIAS_052018.csv`: Demographics data for the general population of Germany; 891 211 persons (rows) x 366 features (columns).\n",
    "- `Udacity_CUSTOMERS_052018.csv`: Demographics data for customers of a mail-order company; 191 652 persons (rows) x 369 features (columns).\n",
    "- `Udacity_MAILOUT_052018_TRAIN.csv`: Demographics data for individuals who were targets of a marketing campaign; 42 982 persons (rows) x 367 (columns).\n",
    "- `Udacity_MAILOUT_052018_TEST.csv`: Demographics data for individuals who were targets of a marketing campaign; 42 833 persons (rows) x 366 (columns).\n",
    "\n",
    "Each row of the demographics files represents a single person, but also includes information outside of individuals, including information about their household, building, and neighborhood. Use the information from the first two files to figure out how customers (\"CUSTOMERS\") are similar to or differ from the general population at large (\"AZDIAS\"), then use your analysis to make predictions on the other two files (\"MAILOUT\"), predicting which recipients are most likely to become a customer for the mail-order company.\n",
    "\n",
    "The \"CUSTOMERS\" file contains three extra columns ('CUSTOMER_GROUP', 'ONLINE_PURCHASE', and 'PRODUCT_GROUP'), which provide broad information about the customers depicted in the file. The original \"MAILOUT\" file included one additional column, \"RESPONSE\", which indicated whether or not each recipient became a customer of the company. For the \"TRAIN\" subset, this column has been retained, but in the \"TEST\" subset it has been removed; it is against that withheld column that your final predictions will be assessed in the Kaggle competition.\n",
    "\n",
    "Otherwise, all of the remaining columns are the same between the three data files. For more information about the columns depicted in the files, you can refer to two Excel spreadsheets provided in the workspace. [One of them](./DIAS Information Levels - Attributes 2017.xlsx) is a top-level list of attributes and descriptions, organized by informational category. [The other](./DIAS Attributes - Values 2017.xlsx) is a detailed mapping of data values for each feature in alphabetical order.\n",
    "\n",
    "In the below cell, we've provided some initial code to load in the first two datasets. Note for all of the `.csv` data files in this project that they're semicolon (`;`) delimited, so an additional argument in the [`read_csv()`](https://pandas.pydata.org/pandas-docs/stable/generated/pandas.read_csv.html) call has been included to read in the data properly. Also, considering the size of the datasets, it may take some time for them to load completely.\n",
    "\n",
    "You'll notice when the data is loaded in that a warning message will immediately pop up. Before you really start digging into the modeling and analysis, you're going to need to perform some cleaning. Take some time to browse the structure of the data and look over the informational spreadsheets to understand the data values. Make some decisions on which features to keep, which features to drop, and if any revisions need to be made on data formats. It'll be a good idea to create a function with pre-processing steps, since you'll need to clean all of the datasets before you work with them."
   ]
  },
  {
   "cell_type": "code",
   "execution_count": 2,
   "metadata": {},
   "outputs": [],
   "source": [
    "# # load in the data\n",
    "# azdias = pd.read_csv(r'..\\data\\Udacity_AZDIAS_052018.csv', sep=';', dtype={18:'str',19:'str'})\n",
    "# customers = pd.read_csv(r'..\\data\\Udacity_CUSTOMERS_052018.csv', sep=';', dtype={18:'str',19:'str'})"
   ]
  },
  {
   "cell_type": "code",
   "execution_count": 3,
   "metadata": {},
   "outputs": [],
   "source": [
    "# # Saving datatsets as pickle to speed up loading next time\n",
    "# azdias.to_pickle('azdias.pickle')\n",
    "# customers.to_pickle('customers.pickle')"
   ]
  },
  {
   "cell_type": "code",
   "execution_count": 4,
   "metadata": {},
   "outputs": [],
   "source": [
    "# Loading pickle datasets\n",
    "azdias = pd.read_pickle('azdias.pickle')\n",
    "customers = pd.read_pickle('customers.pickle')"
   ]
  },
  {
   "cell_type": "markdown",
   "metadata": {},
   "source": [
    "### Reading in Datasets (AZDIAS & CUSTOMERS)"
   ]
  },
  {
   "cell_type": "markdown",
   "metadata": {},
   "source": [
    "**AZDIAS** Dataset"
   ]
  },
  {
   "cell_type": "code",
   "execution_count": 5,
   "metadata": {},
   "outputs": [
    {
     "data": {
      "text/html": [
       "<div>\n",
       "<style scoped>\n",
       "    .dataframe tbody tr th:only-of-type {\n",
       "        vertical-align: middle;\n",
       "    }\n",
       "\n",
       "    .dataframe tbody tr th {\n",
       "        vertical-align: top;\n",
       "    }\n",
       "\n",
       "    .dataframe thead th {\n",
       "        text-align: right;\n",
       "    }\n",
       "</style>\n",
       "<table border=\"1\" class=\"dataframe\">\n",
       "  <thead>\n",
       "    <tr style=\"text-align: right;\">\n",
       "      <th></th>\n",
       "      <th>LNR</th>\n",
       "      <th>AGER_TYP</th>\n",
       "      <th>AKT_DAT_KL</th>\n",
       "      <th>ALTER_HH</th>\n",
       "      <th>ALTER_KIND1</th>\n",
       "      <th>ALTER_KIND2</th>\n",
       "      <th>ALTER_KIND3</th>\n",
       "      <th>ALTER_KIND4</th>\n",
       "      <th>ALTERSKATEGORIE_FEIN</th>\n",
       "      <th>ANZ_HAUSHALTE_AKTIV</th>\n",
       "      <th>...</th>\n",
       "      <th>VHN</th>\n",
       "      <th>VK_DHT4A</th>\n",
       "      <th>VK_DISTANZ</th>\n",
       "      <th>VK_ZG11</th>\n",
       "      <th>W_KEIT_KIND_HH</th>\n",
       "      <th>WOHNDAUER_2008</th>\n",
       "      <th>WOHNLAGE</th>\n",
       "      <th>ZABEOTYP</th>\n",
       "      <th>ANREDE_KZ</th>\n",
       "      <th>ALTERSKATEGORIE_GROB</th>\n",
       "    </tr>\n",
       "  </thead>\n",
       "  <tbody>\n",
       "    <tr>\n",
       "      <th>0</th>\n",
       "      <td>910215.0</td>\n",
       "      <td>NaN</td>\n",
       "      <td>NaN</td>\n",
       "      <td>NaN</td>\n",
       "      <td>NaN</td>\n",
       "      <td>NaN</td>\n",
       "      <td>NaN</td>\n",
       "      <td>NaN</td>\n",
       "      <td>NaN</td>\n",
       "      <td>NaN</td>\n",
       "      <td>...</td>\n",
       "      <td>NaN</td>\n",
       "      <td>NaN</td>\n",
       "      <td>NaN</td>\n",
       "      <td>NaN</td>\n",
       "      <td>NaN</td>\n",
       "      <td>NaN</td>\n",
       "      <td>NaN</td>\n",
       "      <td>3.0</td>\n",
       "      <td>1.0</td>\n",
       "      <td>2.0</td>\n",
       "    </tr>\n",
       "    <tr>\n",
       "      <th>1</th>\n",
       "      <td>910220.0</td>\n",
       "      <td>NaN</td>\n",
       "      <td>9.0</td>\n",
       "      <td>NaN</td>\n",
       "      <td>NaN</td>\n",
       "      <td>NaN</td>\n",
       "      <td>NaN</td>\n",
       "      <td>NaN</td>\n",
       "      <td>21.0</td>\n",
       "      <td>11.0</td>\n",
       "      <td>...</td>\n",
       "      <td>4.0</td>\n",
       "      <td>8.0</td>\n",
       "      <td>11.0</td>\n",
       "      <td>10.0</td>\n",
       "      <td>3.0</td>\n",
       "      <td>9.0</td>\n",
       "      <td>4.0</td>\n",
       "      <td>5.0</td>\n",
       "      <td>2.0</td>\n",
       "      <td>1.0</td>\n",
       "    </tr>\n",
       "    <tr>\n",
       "      <th>2</th>\n",
       "      <td>910225.0</td>\n",
       "      <td>NaN</td>\n",
       "      <td>9.0</td>\n",
       "      <td>17.0</td>\n",
       "      <td>NaN</td>\n",
       "      <td>NaN</td>\n",
       "      <td>NaN</td>\n",
       "      <td>NaN</td>\n",
       "      <td>17.0</td>\n",
       "      <td>10.0</td>\n",
       "      <td>...</td>\n",
       "      <td>2.0</td>\n",
       "      <td>9.0</td>\n",
       "      <td>9.0</td>\n",
       "      <td>6.0</td>\n",
       "      <td>3.0</td>\n",
       "      <td>9.0</td>\n",
       "      <td>2.0</td>\n",
       "      <td>5.0</td>\n",
       "      <td>2.0</td>\n",
       "      <td>3.0</td>\n",
       "    </tr>\n",
       "    <tr>\n",
       "      <th>3</th>\n",
       "      <td>910226.0</td>\n",
       "      <td>2.0</td>\n",
       "      <td>1.0</td>\n",
       "      <td>13.0</td>\n",
       "      <td>NaN</td>\n",
       "      <td>NaN</td>\n",
       "      <td>NaN</td>\n",
       "      <td>NaN</td>\n",
       "      <td>13.0</td>\n",
       "      <td>1.0</td>\n",
       "      <td>...</td>\n",
       "      <td>0.0</td>\n",
       "      <td>7.0</td>\n",
       "      <td>10.0</td>\n",
       "      <td>11.0</td>\n",
       "      <td>NaN</td>\n",
       "      <td>9.0</td>\n",
       "      <td>7.0</td>\n",
       "      <td>3.0</td>\n",
       "      <td>2.0</td>\n",
       "      <td>4.0</td>\n",
       "    </tr>\n",
       "    <tr>\n",
       "      <th>4</th>\n",
       "      <td>910241.0</td>\n",
       "      <td>NaN</td>\n",
       "      <td>1.0</td>\n",
       "      <td>20.0</td>\n",
       "      <td>NaN</td>\n",
       "      <td>NaN</td>\n",
       "      <td>NaN</td>\n",
       "      <td>NaN</td>\n",
       "      <td>14.0</td>\n",
       "      <td>3.0</td>\n",
       "      <td>...</td>\n",
       "      <td>2.0</td>\n",
       "      <td>3.0</td>\n",
       "      <td>5.0</td>\n",
       "      <td>4.0</td>\n",
       "      <td>2.0</td>\n",
       "      <td>9.0</td>\n",
       "      <td>3.0</td>\n",
       "      <td>4.0</td>\n",
       "      <td>1.0</td>\n",
       "      <td>3.0</td>\n",
       "    </tr>\n",
       "  </tbody>\n",
       "</table>\n",
       "<p>5 rows × 366 columns</p>\n",
       "</div>"
      ],
      "text/plain": [
       "        LNR  AGER_TYP  AKT_DAT_KL  ALTER_HH  ALTER_KIND1  ALTER_KIND2  \\\n",
       "0  910215.0       NaN         NaN       NaN          NaN          NaN   \n",
       "1  910220.0       NaN         9.0       NaN          NaN          NaN   \n",
       "2  910225.0       NaN         9.0      17.0          NaN          NaN   \n",
       "3  910226.0       2.0         1.0      13.0          NaN          NaN   \n",
       "4  910241.0       NaN         1.0      20.0          NaN          NaN   \n",
       "\n",
       "   ALTER_KIND3  ALTER_KIND4  ALTERSKATEGORIE_FEIN  ANZ_HAUSHALTE_AKTIV  ...  \\\n",
       "0          NaN          NaN                   NaN                  NaN  ...   \n",
       "1          NaN          NaN                  21.0                 11.0  ...   \n",
       "2          NaN          NaN                  17.0                 10.0  ...   \n",
       "3          NaN          NaN                  13.0                  1.0  ...   \n",
       "4          NaN          NaN                  14.0                  3.0  ...   \n",
       "\n",
       "   VHN  VK_DHT4A  VK_DISTANZ  VK_ZG11  W_KEIT_KIND_HH  WOHNDAUER_2008  \\\n",
       "0  NaN       NaN         NaN      NaN             NaN             NaN   \n",
       "1  4.0       8.0        11.0     10.0             3.0             9.0   \n",
       "2  2.0       9.0         9.0      6.0             3.0             9.0   \n",
       "3  0.0       7.0        10.0     11.0             NaN             9.0   \n",
       "4  2.0       3.0         5.0      4.0             2.0             9.0   \n",
       "\n",
       "   WOHNLAGE ZABEOTYP ANREDE_KZ ALTERSKATEGORIE_GROB  \n",
       "0       NaN      3.0       1.0                  2.0  \n",
       "1       4.0      5.0       2.0                  1.0  \n",
       "2       2.0      5.0       2.0                  3.0  \n",
       "3       7.0      3.0       2.0                  4.0  \n",
       "4       3.0      4.0       1.0                  3.0  \n",
       "\n",
       "[5 rows x 366 columns]"
      ]
     },
     "execution_count": 5,
     "metadata": {},
     "output_type": "execute_result"
    }
   ],
   "source": [
    "azdias.head()"
   ]
  },
  {
   "cell_type": "code",
   "execution_count": 6,
   "metadata": {},
   "outputs": [
    {
     "name": "stdout",
     "output_type": "stream",
     "text": [
      "<class 'pandas.core.frame.DataFrame'>\n",
      "RangeIndex: 891221 entries, 0 to 891220\n",
      "Columns: 366 entries, LNR to ALTERSKATEGORIE_GROB\n",
      "dtypes: float64(360), object(6)\n",
      "memory usage: 2.4+ GB\n"
     ]
    }
   ],
   "source": [
    "azdias.info()"
   ]
  },
  {
   "cell_type": "code",
   "execution_count": 7,
   "metadata": {},
   "outputs": [
    {
     "data": {
      "text/plain": [
       "(891221, 366)"
      ]
     },
     "execution_count": 7,
     "metadata": {},
     "output_type": "execute_result"
    }
   ],
   "source": [
    "azdias.shape"
   ]
  },
  {
   "cell_type": "markdown",
   "metadata": {},
   "source": [
    "**CUSTOMERS** Dataset"
   ]
  },
  {
   "cell_type": "code",
   "execution_count": 8,
   "metadata": {},
   "outputs": [
    {
     "data": {
      "text/html": [
       "<div>\n",
       "<style scoped>\n",
       "    .dataframe tbody tr th:only-of-type {\n",
       "        vertical-align: middle;\n",
       "    }\n",
       "\n",
       "    .dataframe tbody tr th {\n",
       "        vertical-align: top;\n",
       "    }\n",
       "\n",
       "    .dataframe thead th {\n",
       "        text-align: right;\n",
       "    }\n",
       "</style>\n",
       "<table border=\"1\" class=\"dataframe\">\n",
       "  <thead>\n",
       "    <tr style=\"text-align: right;\">\n",
       "      <th></th>\n",
       "      <th>LNR</th>\n",
       "      <th>AGER_TYP</th>\n",
       "      <th>AKT_DAT_KL</th>\n",
       "      <th>ALTER_HH</th>\n",
       "      <th>ALTER_KIND1</th>\n",
       "      <th>ALTER_KIND2</th>\n",
       "      <th>ALTER_KIND3</th>\n",
       "      <th>ALTER_KIND4</th>\n",
       "      <th>ALTERSKATEGORIE_FEIN</th>\n",
       "      <th>ANZ_HAUSHALTE_AKTIV</th>\n",
       "      <th>...</th>\n",
       "      <th>VK_ZG11</th>\n",
       "      <th>W_KEIT_KIND_HH</th>\n",
       "      <th>WOHNDAUER_2008</th>\n",
       "      <th>WOHNLAGE</th>\n",
       "      <th>ZABEOTYP</th>\n",
       "      <th>PRODUCT_GROUP</th>\n",
       "      <th>CUSTOMER_GROUP</th>\n",
       "      <th>ONLINE_PURCHASE</th>\n",
       "      <th>ANREDE_KZ</th>\n",
       "      <th>ALTERSKATEGORIE_GROB</th>\n",
       "    </tr>\n",
       "  </thead>\n",
       "  <tbody>\n",
       "    <tr>\n",
       "      <th>0</th>\n",
       "      <td>9626</td>\n",
       "      <td>2</td>\n",
       "      <td>1.0</td>\n",
       "      <td>10.0</td>\n",
       "      <td>NaN</td>\n",
       "      <td>NaN</td>\n",
       "      <td>NaN</td>\n",
       "      <td>NaN</td>\n",
       "      <td>10.0</td>\n",
       "      <td>1.0</td>\n",
       "      <td>...</td>\n",
       "      <td>2.0</td>\n",
       "      <td>6.0</td>\n",
       "      <td>9.0</td>\n",
       "      <td>7.0</td>\n",
       "      <td>3</td>\n",
       "      <td>COSMETIC_AND_FOOD</td>\n",
       "      <td>MULTI_BUYER</td>\n",
       "      <td>0</td>\n",
       "      <td>1</td>\n",
       "      <td>4</td>\n",
       "    </tr>\n",
       "    <tr>\n",
       "      <th>1</th>\n",
       "      <td>9628</td>\n",
       "      <td>-1</td>\n",
       "      <td>9.0</td>\n",
       "      <td>11.0</td>\n",
       "      <td>NaN</td>\n",
       "      <td>NaN</td>\n",
       "      <td>NaN</td>\n",
       "      <td>NaN</td>\n",
       "      <td>NaN</td>\n",
       "      <td>NaN</td>\n",
       "      <td>...</td>\n",
       "      <td>3.0</td>\n",
       "      <td>0.0</td>\n",
       "      <td>9.0</td>\n",
       "      <td>NaN</td>\n",
       "      <td>3</td>\n",
       "      <td>FOOD</td>\n",
       "      <td>SINGLE_BUYER</td>\n",
       "      <td>0</td>\n",
       "      <td>1</td>\n",
       "      <td>4</td>\n",
       "    </tr>\n",
       "    <tr>\n",
       "      <th>2</th>\n",
       "      <td>143872</td>\n",
       "      <td>-1</td>\n",
       "      <td>1.0</td>\n",
       "      <td>6.0</td>\n",
       "      <td>NaN</td>\n",
       "      <td>NaN</td>\n",
       "      <td>NaN</td>\n",
       "      <td>NaN</td>\n",
       "      <td>0.0</td>\n",
       "      <td>1.0</td>\n",
       "      <td>...</td>\n",
       "      <td>11.0</td>\n",
       "      <td>6.0</td>\n",
       "      <td>9.0</td>\n",
       "      <td>2.0</td>\n",
       "      <td>3</td>\n",
       "      <td>COSMETIC_AND_FOOD</td>\n",
       "      <td>MULTI_BUYER</td>\n",
       "      <td>0</td>\n",
       "      <td>2</td>\n",
       "      <td>4</td>\n",
       "    </tr>\n",
       "    <tr>\n",
       "      <th>3</th>\n",
       "      <td>143873</td>\n",
       "      <td>1</td>\n",
       "      <td>1.0</td>\n",
       "      <td>8.0</td>\n",
       "      <td>NaN</td>\n",
       "      <td>NaN</td>\n",
       "      <td>NaN</td>\n",
       "      <td>NaN</td>\n",
       "      <td>8.0</td>\n",
       "      <td>0.0</td>\n",
       "      <td>...</td>\n",
       "      <td>2.0</td>\n",
       "      <td>NaN</td>\n",
       "      <td>9.0</td>\n",
       "      <td>7.0</td>\n",
       "      <td>1</td>\n",
       "      <td>COSMETIC</td>\n",
       "      <td>MULTI_BUYER</td>\n",
       "      <td>0</td>\n",
       "      <td>1</td>\n",
       "      <td>4</td>\n",
       "    </tr>\n",
       "    <tr>\n",
       "      <th>4</th>\n",
       "      <td>143874</td>\n",
       "      <td>-1</td>\n",
       "      <td>1.0</td>\n",
       "      <td>20.0</td>\n",
       "      <td>NaN</td>\n",
       "      <td>NaN</td>\n",
       "      <td>NaN</td>\n",
       "      <td>NaN</td>\n",
       "      <td>14.0</td>\n",
       "      <td>7.0</td>\n",
       "      <td>...</td>\n",
       "      <td>4.0</td>\n",
       "      <td>2.0</td>\n",
       "      <td>9.0</td>\n",
       "      <td>3.0</td>\n",
       "      <td>1</td>\n",
       "      <td>FOOD</td>\n",
       "      <td>MULTI_BUYER</td>\n",
       "      <td>0</td>\n",
       "      <td>1</td>\n",
       "      <td>3</td>\n",
       "    </tr>\n",
       "  </tbody>\n",
       "</table>\n",
       "<p>5 rows × 369 columns</p>\n",
       "</div>"
      ],
      "text/plain": [
       "      LNR  AGER_TYP  AKT_DAT_KL  ALTER_HH  ALTER_KIND1  ALTER_KIND2  \\\n",
       "0    9626         2         1.0      10.0          NaN          NaN   \n",
       "1    9628        -1         9.0      11.0          NaN          NaN   \n",
       "2  143872        -1         1.0       6.0          NaN          NaN   \n",
       "3  143873         1         1.0       8.0          NaN          NaN   \n",
       "4  143874        -1         1.0      20.0          NaN          NaN   \n",
       "\n",
       "   ALTER_KIND3  ALTER_KIND4  ALTERSKATEGORIE_FEIN  ANZ_HAUSHALTE_AKTIV  ...  \\\n",
       "0          NaN          NaN                  10.0                  1.0  ...   \n",
       "1          NaN          NaN                   NaN                  NaN  ...   \n",
       "2          NaN          NaN                   0.0                  1.0  ...   \n",
       "3          NaN          NaN                   8.0                  0.0  ...   \n",
       "4          NaN          NaN                  14.0                  7.0  ...   \n",
       "\n",
       "   VK_ZG11  W_KEIT_KIND_HH  WOHNDAUER_2008  WOHNLAGE  ZABEOTYP  \\\n",
       "0      2.0             6.0             9.0       7.0         3   \n",
       "1      3.0             0.0             9.0       NaN         3   \n",
       "2     11.0             6.0             9.0       2.0         3   \n",
       "3      2.0             NaN             9.0       7.0         1   \n",
       "4      4.0             2.0             9.0       3.0         1   \n",
       "\n",
       "       PRODUCT_GROUP  CUSTOMER_GROUP ONLINE_PURCHASE ANREDE_KZ  \\\n",
       "0  COSMETIC_AND_FOOD     MULTI_BUYER               0         1   \n",
       "1               FOOD    SINGLE_BUYER               0         1   \n",
       "2  COSMETIC_AND_FOOD     MULTI_BUYER               0         2   \n",
       "3           COSMETIC     MULTI_BUYER               0         1   \n",
       "4               FOOD     MULTI_BUYER               0         1   \n",
       "\n",
       "  ALTERSKATEGORIE_GROB  \n",
       "0                    4  \n",
       "1                    4  \n",
       "2                    4  \n",
       "3                    4  \n",
       "4                    3  \n",
       "\n",
       "[5 rows x 369 columns]"
      ]
     },
     "execution_count": 8,
     "metadata": {},
     "output_type": "execute_result"
    }
   ],
   "source": [
    "customers.head()"
   ]
  },
  {
   "cell_type": "code",
   "execution_count": 9,
   "metadata": {},
   "outputs": [
    {
     "name": "stdout",
     "output_type": "stream",
     "text": [
      "<class 'pandas.core.frame.DataFrame'>\n",
      "RangeIndex: 191652 entries, 0 to 191651\n",
      "Columns: 369 entries, LNR to ALTERSKATEGORIE_GROB\n",
      "dtypes: float64(267), int64(94), object(8)\n",
      "memory usage: 539.5+ MB\n"
     ]
    }
   ],
   "source": [
    "customers.info()"
   ]
  },
  {
   "cell_type": "code",
   "execution_count": 10,
   "metadata": {},
   "outputs": [
    {
     "data": {
      "text/plain": [
       "(191652, 369)"
      ]
     },
     "execution_count": 10,
     "metadata": {},
     "output_type": "execute_result"
    }
   ],
   "source": [
    "customers.shape"
   ]
  },
  {
   "cell_type": "markdown",
   "metadata": {},
   "source": [
    "## DATA PREPROCESSING"
   ]
  },
  {
   "cell_type": "markdown",
   "metadata": {},
   "source": [
    "Preprocessing the AZDIAS Dataset"
   ]
  },
  {
   "cell_type": "markdown",
   "metadata": {},
   "source": [
    "### Comparing features in AZDIAS, CUSTOMER and DIAS"
   ]
  },
  {
   "cell_type": "markdown",
   "metadata": {},
   "source": [
    "Exploring 'DIAS Attributes - Values 2017.xlsx'. There's 4 columns: **['Attribute', 'Description', 'Value', 'Meaning']**\n",
    "\n",
    "Will perform some data cleaning and compare all the features here with the features in AZDIAS and CUSTOMES datasets"
   ]
  },
  {
   "cell_type": "code",
   "execution_count": 11,
   "metadata": {},
   "outputs": [],
   "source": [
    "# Loading DIAS Attributes Values 2017.xlsx\n",
    "attributes_values = pd.read_excel('../DIAS Attributes - Values 2017.xlsx', header=1)"
   ]
  },
  {
   "cell_type": "code",
   "execution_count": 12,
   "metadata": {},
   "outputs": [
    {
     "data": {
      "text/html": [
       "<div>\n",
       "<style scoped>\n",
       "    .dataframe tbody tr th:only-of-type {\n",
       "        vertical-align: middle;\n",
       "    }\n",
       "\n",
       "    .dataframe tbody tr th {\n",
       "        vertical-align: top;\n",
       "    }\n",
       "\n",
       "    .dataframe thead th {\n",
       "        text-align: right;\n",
       "    }\n",
       "</style>\n",
       "<table border=\"1\" class=\"dataframe\">\n",
       "  <thead>\n",
       "    <tr style=\"text-align: right;\">\n",
       "      <th></th>\n",
       "      <th>Unnamed: 0</th>\n",
       "      <th>Attribute</th>\n",
       "      <th>Description</th>\n",
       "      <th>Value</th>\n",
       "      <th>Meaning</th>\n",
       "    </tr>\n",
       "  </thead>\n",
       "  <tbody>\n",
       "    <tr>\n",
       "      <th>0</th>\n",
       "      <td>NaN</td>\n",
       "      <td>AGER_TYP</td>\n",
       "      <td>best-ager typology</td>\n",
       "      <td>-1</td>\n",
       "      <td>unknown</td>\n",
       "    </tr>\n",
       "    <tr>\n",
       "      <th>1</th>\n",
       "      <td>NaN</td>\n",
       "      <td>NaN</td>\n",
       "      <td>NaN</td>\n",
       "      <td>0</td>\n",
       "      <td>no classification possible</td>\n",
       "    </tr>\n",
       "    <tr>\n",
       "      <th>2</th>\n",
       "      <td>NaN</td>\n",
       "      <td>NaN</td>\n",
       "      <td>NaN</td>\n",
       "      <td>1</td>\n",
       "      <td>passive elderly</td>\n",
       "    </tr>\n",
       "  </tbody>\n",
       "</table>\n",
       "</div>"
      ],
      "text/plain": [
       "   Unnamed: 0 Attribute         Description Value                     Meaning\n",
       "0         NaN  AGER_TYP  best-ager typology    -1                     unknown\n",
       "1         NaN       NaN                 NaN     0  no classification possible\n",
       "2         NaN       NaN                 NaN     1             passive elderly"
      ]
     },
     "execution_count": 12,
     "metadata": {},
     "output_type": "execute_result"
    }
   ],
   "source": [
    "attributes_values.head(3)"
   ]
  },
  {
   "cell_type": "code",
   "execution_count": 13,
   "metadata": {},
   "outputs": [
    {
     "name": "stdout",
     "output_type": "stream",
     "text": [
      "attributes_values | Data shape (rows, cols):  (314, 4)\n"
     ]
    }
   ],
   "source": [
    "attributes_values = attributes_values[attributes_values.columns[1:]]\n",
    "attributes_values = attributes_values[attributes_values['Attribute'].notnull()]\n",
    "print('attributes_values | Data shape (rows, cols): ', attributes_values.shape)\n"
   ]
  },
  {
   "cell_type": "code",
   "execution_count": 14,
   "metadata": {},
   "outputs": [
    {
     "name": "stdout",
     "output_type": "stream",
     "text": [
      "Number of features present only in Azdias:  94 \n",
      "\n"
     ]
    }
   ],
   "source": [
    "azdias_features_exclusive = list(set(azdias) - set(attributes_values['Attribute'].tolist()))\n",
    "print('Number of features present only in Azdias: ', len(azdias_features_exclusive), '\\n')"
   ]
  },
  {
   "cell_type": "code",
   "execution_count": 15,
   "metadata": {},
   "outputs": [
    {
     "name": "stdout",
     "output_type": "stream",
     "text": [
      "Number of features present only in customers:  3 \n",
      "\n",
      "{'ONLINE_PURCHASE', 'CUSTOMER_GROUP', 'PRODUCT_GROUP'}\n"
     ]
    }
   ],
   "source": [
    "customers_features_exclusive = set(customers) - set(azdias)\n",
    "print('Number of features present only in customers: ', len(customers_features_exclusive), '\\n')\n",
    "print(customers_features_exclusive)\n"
   ]
  },
  {
   "cell_type": "markdown",
   "metadata": {},
   "source": [
    "There are 3 additional features in CUSTOMERS compared with AZDIAS: ['ONLINE_PURCHASE', 'CUSTOMER_GROUP', 'PRODUCT_GROUP']\n",
    "we need to take this difference into consideration in further analysis."
   ]
  },
  {
   "cell_type": "markdown",
   "metadata": {},
   "source": [
    "###  Addressing unknown values"
   ]
  },
  {
   "cell_type": "markdown",
   "metadata": {},
   "source": [
    "The main idea in this step is to address the unknown values. In the attributes-values dataframe, unknown records are represented by one or multiple numerical values. These unknown values should be treated as missing entries.  So, let's find these unknowns values and change them to NaN values in AZDIAS dataset."
   ]
  },
  {
   "cell_type": "code",
   "execution_count": 16,
   "metadata": {},
   "outputs": [
    {
     "data": {
      "text/plain": [
       "{'Event travelers',\n",
       " 'Universal',\n",
       " 'Work-Life-Balance',\n",
       " 'building is located in a 125 x 125m-grid cell (RA1), which is a consumption cell',\n",
       " 'business cell',\n",
       " \"doesn't belong to the green avantgarde\",\n",
       " 'highest activity within the last 12 months',\n",
       " 'low-income earners',\n",
       " 'mainly 1-2 family homes',\n",
       " 'no Online-transactions within the last 12 months',\n",
       " 'no transaction known',\n",
       " 'no transactions known',\n",
       " 'none',\n",
       " 'numeric value',\n",
       " 'numeric value (typically coded from 1-10)',\n",
       " 'numeric value (typically coded from 1-3)',\n",
       " 'single ',\n",
       " 'single low-income earners of younger age',\n",
       " 'single low-income- and average earners of younger age ',\n",
       " 'typical low-income earners',\n",
       " 'unknown',\n",
       " 'unknown / no main age detectable',\n",
       " 'very high mobility',\n",
       " 'very low',\n",
       " 'very low car quote'}"
      ]
     },
     "execution_count": 16,
     "metadata": {},
     "output_type": "execute_result"
    }
   ],
   "source": [
    "# check the meaning of first values pre attributes\n",
    "set(attributes_values['Meaning'].tolist())"
   ]
  },
  {
   "cell_type": "code",
   "execution_count": 17,
   "metadata": {},
   "outputs": [
    {
     "data": {
      "text/plain": [
       "{'unknown', 'unknown / no main age detectable'}"
      ]
     },
     "execution_count": 17,
     "metadata": {},
     "output_type": "execute_result"
    }
   ],
   "source": [
    "unknown = attributes_values[attributes_values['Meaning'].isin(['unknown','unknown / no main age detectable'])]\n",
    "set(unknown['Meaning'].tolist())"
   ]
  },
  {
   "cell_type": "code",
   "execution_count": 18,
   "metadata": {},
   "outputs": [],
   "source": [
    "for column in azdias.columns:\n",
    "    if azdias[column].dtype == np.int64:\n",
    "        azdias[column] = azdias[column].astype(np.float64)\n",
    "    if column not in set(unknown['Attribute']):\n",
    "        continue\n",
    "    unknown_value = unknown.loc[unknown['Attribute']==column].Value.item()\n",
    "    unknown_valuen = set(float(x) for x in unknown_value.split(', ')) if type(unknown_value) is str else set([float(unknown_value)])\n",
    "    azdias[column] = azdias[column].mask(azdias[column].isin(unknown_valuen), other=np.nan)"
   ]
  },
  {
   "cell_type": "code",
   "execution_count": 19,
   "metadata": {},
   "outputs": [
    {
     "name": "stdout",
     "output_type": "stream",
     "text": [
      "AZDIAS|Data shape (rows, cols):  (891221, 366)\n"
     ]
    }
   ],
   "source": [
    "print('AZDIAS|Data shape (rows, cols): ', azdias.shape)"
   ]
  },
  {
   "cell_type": "code",
   "execution_count": 20,
   "metadata": {},
   "outputs": [
    {
     "data": {
      "text/html": [
       "<div>\n",
       "<style scoped>\n",
       "    .dataframe tbody tr th:only-of-type {\n",
       "        vertical-align: middle;\n",
       "    }\n",
       "\n",
       "    .dataframe tbody tr th {\n",
       "        vertical-align: top;\n",
       "    }\n",
       "\n",
       "    .dataframe thead th {\n",
       "        text-align: right;\n",
       "    }\n",
       "</style>\n",
       "<table border=\"1\" class=\"dataframe\">\n",
       "  <thead>\n",
       "    <tr style=\"text-align: right;\">\n",
       "      <th></th>\n",
       "      <th>LNR</th>\n",
       "      <th>AGER_TYP</th>\n",
       "      <th>AKT_DAT_KL</th>\n",
       "      <th>ALTER_HH</th>\n",
       "      <th>ALTER_KIND1</th>\n",
       "      <th>ALTER_KIND2</th>\n",
       "      <th>ALTER_KIND3</th>\n",
       "      <th>ALTER_KIND4</th>\n",
       "      <th>ALTERSKATEGORIE_FEIN</th>\n",
       "      <th>ANZ_HAUSHALTE_AKTIV</th>\n",
       "      <th>...</th>\n",
       "      <th>VHN</th>\n",
       "      <th>VK_DHT4A</th>\n",
       "      <th>VK_DISTANZ</th>\n",
       "      <th>VK_ZG11</th>\n",
       "      <th>W_KEIT_KIND_HH</th>\n",
       "      <th>WOHNDAUER_2008</th>\n",
       "      <th>WOHNLAGE</th>\n",
       "      <th>ZABEOTYP</th>\n",
       "      <th>ANREDE_KZ</th>\n",
       "      <th>ALTERSKATEGORIE_GROB</th>\n",
       "    </tr>\n",
       "  </thead>\n",
       "  <tbody>\n",
       "    <tr>\n",
       "      <th>0</th>\n",
       "      <td>910215.0</td>\n",
       "      <td>NaN</td>\n",
       "      <td>NaN</td>\n",
       "      <td>NaN</td>\n",
       "      <td>NaN</td>\n",
       "      <td>NaN</td>\n",
       "      <td>NaN</td>\n",
       "      <td>NaN</td>\n",
       "      <td>NaN</td>\n",
       "      <td>NaN</td>\n",
       "      <td>...</td>\n",
       "      <td>NaN</td>\n",
       "      <td>NaN</td>\n",
       "      <td>NaN</td>\n",
       "      <td>NaN</td>\n",
       "      <td>NaN</td>\n",
       "      <td>NaN</td>\n",
       "      <td>NaN</td>\n",
       "      <td>3.0</td>\n",
       "      <td>1.0</td>\n",
       "      <td>2.0</td>\n",
       "    </tr>\n",
       "    <tr>\n",
       "      <th>1</th>\n",
       "      <td>910220.0</td>\n",
       "      <td>NaN</td>\n",
       "      <td>9.0</td>\n",
       "      <td>NaN</td>\n",
       "      <td>NaN</td>\n",
       "      <td>NaN</td>\n",
       "      <td>NaN</td>\n",
       "      <td>NaN</td>\n",
       "      <td>21.0</td>\n",
       "      <td>11.0</td>\n",
       "      <td>...</td>\n",
       "      <td>4.0</td>\n",
       "      <td>8.0</td>\n",
       "      <td>11.0</td>\n",
       "      <td>10.0</td>\n",
       "      <td>3.0</td>\n",
       "      <td>9.0</td>\n",
       "      <td>4.0</td>\n",
       "      <td>5.0</td>\n",
       "      <td>2.0</td>\n",
       "      <td>1.0</td>\n",
       "    </tr>\n",
       "    <tr>\n",
       "      <th>2</th>\n",
       "      <td>910225.0</td>\n",
       "      <td>NaN</td>\n",
       "      <td>9.0</td>\n",
       "      <td>17.0</td>\n",
       "      <td>NaN</td>\n",
       "      <td>NaN</td>\n",
       "      <td>NaN</td>\n",
       "      <td>NaN</td>\n",
       "      <td>17.0</td>\n",
       "      <td>10.0</td>\n",
       "      <td>...</td>\n",
       "      <td>2.0</td>\n",
       "      <td>9.0</td>\n",
       "      <td>9.0</td>\n",
       "      <td>6.0</td>\n",
       "      <td>3.0</td>\n",
       "      <td>9.0</td>\n",
       "      <td>2.0</td>\n",
       "      <td>5.0</td>\n",
       "      <td>2.0</td>\n",
       "      <td>3.0</td>\n",
       "    </tr>\n",
       "  </tbody>\n",
       "</table>\n",
       "<p>3 rows × 366 columns</p>\n",
       "</div>"
      ],
      "text/plain": [
       "        LNR  AGER_TYP  AKT_DAT_KL  ALTER_HH  ALTER_KIND1  ALTER_KIND2  \\\n",
       "0  910215.0       NaN         NaN       NaN          NaN          NaN   \n",
       "1  910220.0       NaN         9.0       NaN          NaN          NaN   \n",
       "2  910225.0       NaN         9.0      17.0          NaN          NaN   \n",
       "\n",
       "   ALTER_KIND3  ALTER_KIND4  ALTERSKATEGORIE_FEIN  ANZ_HAUSHALTE_AKTIV  ...  \\\n",
       "0          NaN          NaN                   NaN                  NaN  ...   \n",
       "1          NaN          NaN                  21.0                 11.0  ...   \n",
       "2          NaN          NaN                  17.0                 10.0  ...   \n",
       "\n",
       "   VHN  VK_DHT4A  VK_DISTANZ  VK_ZG11  W_KEIT_KIND_HH  WOHNDAUER_2008  \\\n",
       "0  NaN       NaN         NaN      NaN             NaN             NaN   \n",
       "1  4.0       8.0        11.0     10.0             3.0             9.0   \n",
       "2  2.0       9.0         9.0      6.0             3.0             9.0   \n",
       "\n",
       "   WOHNLAGE ZABEOTYP ANREDE_KZ ALTERSKATEGORIE_GROB  \n",
       "0       NaN      3.0       1.0                  2.0  \n",
       "1       4.0      5.0       2.0                  1.0  \n",
       "2       2.0      5.0       2.0                  3.0  \n",
       "\n",
       "[3 rows x 366 columns]"
      ]
     },
     "execution_count": 20,
     "metadata": {},
     "output_type": "execute_result"
    }
   ],
   "source": [
    "azdias.head(3)"
   ]
  },
  {
   "cell_type": "markdown",
   "metadata": {},
   "source": [
    "### Exploring missing values column-wise and row-wise"
   ]
  },
  {
   "cell_type": "markdown",
   "metadata": {},
   "source": [
    "At this point, all unknowns values have been replaced with NaN values. But there's still many missing values.  Therefore, text next step we are going to do is to deal with this missing values"
   ]
  },
  {
   "cell_type": "markdown",
   "metadata": {},
   "source": [
    "**i) Let's start with analyzing how many missing values each column has.**"
   ]
  },
  {
   "cell_type": "code",
   "execution_count": 21,
   "metadata": {},
   "outputs": [
    {
     "data": {
      "text/plain": [
       "LNR                      0.000000\n",
       "AGER_TYP                76.019640\n",
       "AKT_DAT_KL               8.247000\n",
       "ALTER_HH                34.813699\n",
       "ALTER_KIND1             90.904837\n",
       "                          ...    \n",
       "WOHNDAUER_2008           8.247000\n",
       "WOHNLAGE                10.451729\n",
       "ZABEOTYP                 0.000000\n",
       "ANREDE_KZ                0.000000\n",
       "ALTERSKATEGORIE_GROB     0.000000\n",
       "Length: 366, dtype: float64"
      ]
     },
     "execution_count": 21,
     "metadata": {},
     "output_type": "execute_result"
    }
   ],
   "source": [
    "percent_missing_col = azdias.isnull().mean() * 100\n",
    "percent_missing_col"
   ]
  },
  {
   "cell_type": "code",
   "execution_count": 22,
   "metadata": {},
   "outputs": [
    {
     "data": {
      "image/png": "[encoded data removed]",
      "text/plain": [
       "<Figure size 432x288 with 1 Axes>"
      ]
     },
     "metadata": {
      "needs_background": "light"
     },
     "output_type": "display_data"
    }
   ],
   "source": [
    "missing_value_col_df = pd.DataFrame({'column_name': azdias.columns,\n",
    "                                 'percent_missing': percent_missing_col})\n",
    "# sort the missing percentage\n",
    "missing_value_col_df.sort_values('percent_missing', ascending=False, inplace=True)\n",
    "# plot percent of missing values for the first 50 columns\n",
    "missing_value_col_df[:50].plot(x='column_name', y='percent_missing', kind=\"bar\", legend=False)\n",
    "plt.xlabel('AZDIAS features')\n",
    "plt.ylabel('Proportion of missing values (%)')\n",
    "plt.title('Proportion of missing values in AZDIAS features')\n",
    "plt.tick_params(axis='x', which='major', labelsize=5)\n",
    "plt.tight_layout()"
   ]
  },
  {
   "cell_type": "markdown",
   "metadata": {},
   "source": [
    "The figure above displays which column contains missing values and the percentage of them in that column.\n",
    "There are many missing values in the dataset, especially eight features having more than 60% missing values.\n",
    "To figure out a threshold for dropping columns, we can plot number of columns at different percentage of missing values"
   ]
  },
  {
   "cell_type": "code",
   "execution_count": 23,
   "metadata": {},
   "outputs": [
    {
     "data": {
      "text/plain": [
       "Text(0.5, 1.0, 'Proportion of missing values in AZDIAS features')"
      ]
     },
     "execution_count": 23,
     "metadata": {},
     "output_type": "execute_result"
    },
    {
     "data": {
      "image/png": "[encoded data removed]",
      "text/plain": [
       "<Figure size 432x288 with 1 Axes>"
      ]
     },
     "metadata": {
      "needs_background": "light"
     },
     "output_type": "display_data"
    }
   ],
   "source": [
    "plt.hist(percent_missing_col, bins=40);\n",
    "\n",
    "plt.xlabel('Proportion of missing values (%)')\n",
    "plt.ylabel('Number of AZDIAS features')\n",
    "plt.title('Proportion of missing values in AZDIAS features')"
   ]
  },
  {
   "cell_type": "markdown",
   "metadata": {},
   "source": [
    "1.The histogram above shows the number of columns for the proportion of missing values.\n",
    "\n",
    "2.Most of the columns have percentage of missing values of less than 20%. \n",
    "\n",
    "**I decided we can take 20% as the cut-off**"
   ]
  },
  {
   "cell_type": "code",
   "execution_count": 24,
   "metadata": {},
   "outputs": [
    {
     "data": {
      "text/plain": [
       "Index(['AGER_TYP', 'ALTER_HH', 'ALTER_KIND1', 'ALTER_KIND2', 'ALTER_KIND3',\n",
       "       'ALTER_KIND4', 'ALTERSKATEGORIE_FEIN', 'D19_BANKEN_ONLINE_QUOTE_12',\n",
       "       'D19_GESAMT_ONLINE_QUOTE_12', 'D19_KONSUMTYP',\n",
       "       'D19_LETZTER_KAUF_BRANCHE', 'D19_LOTTO', 'D19_SOZIALES',\n",
       "       'D19_TELKO_ONLINE_QUOTE_12', 'D19_VERSAND_ONLINE_QUOTE_12',\n",
       "       'D19_VERSI_ONLINE_QUOTE_12', 'EXTSEL992', 'KBA05_BAUMAX',\n",
       "       'KK_KUNDENTYP', 'TITEL_KZ'],\n",
       "      dtype='object')"
      ]
     },
     "execution_count": 24,
     "metadata": {},
     "output_type": "execute_result"
    }
   ],
   "source": [
    "columns_to_drop = percent_missing_col[percent_missing_col > 20].index\n",
    "\n",
    "columns_to_drop"
   ]
  },
  {
   "cell_type": "code",
   "execution_count": 25,
   "metadata": {},
   "outputs": [],
   "source": [
    "azdias.drop(labels=columns_to_drop, axis=1, inplace=True)"
   ]
  },
  {
   "cell_type": "code",
   "execution_count": 26,
   "metadata": {},
   "outputs": [
    {
     "name": "stdout",
     "output_type": "stream",
     "text": [
      "AZDIAS|Data shape (rows, cols):  (891221, 346)\n"
     ]
    }
   ],
   "source": [
    "print('AZDIAS|Data shape (rows, cols): ', azdias.shape)"
   ]
  },
  {
   "cell_type": "markdown",
   "metadata": {},
   "source": [
    "**ii) Let's start with analyzing how many missing values each row has.**"
   ]
  },
  {
   "cell_type": "code",
   "execution_count": 27,
   "metadata": {},
   "outputs": [],
   "source": [
    "percent_missing_row = azdias.isnull().mean(axis=1) * 100"
   ]
  },
  {
   "cell_type": "code",
   "execution_count": 28,
   "metadata": {},
   "outputs": [
    {
     "data": {
      "text/plain": [
       "0         68.786127\n",
       "1          0.000000\n",
       "2          0.000000\n",
       "3          1.156069\n",
       "4          0.000000\n",
       "            ...    \n",
       "891216     1.734104\n",
       "891217     1.156069\n",
       "891218     0.578035\n",
       "891219     0.000000\n",
       "891220     0.000000\n",
       "Length: 891221, dtype: float64"
      ]
     },
     "execution_count": 28,
     "metadata": {},
     "output_type": "execute_result"
    }
   ],
   "source": [
    "percent_missing_row\n"
   ]
  },
  {
   "cell_type": "code",
   "execution_count": 29,
   "metadata": {},
   "outputs": [
    {
     "data": {
      "text/plain": [
       "Text(0.5, 1.0, 'Proportion of missing values in AZDIAS rows')"
      ]
     },
     "execution_count": 29,
     "metadata": {},
     "output_type": "execute_result"
    },
    {
     "data": {
      "image/png": "[encoded data removed]",
      "text/plain": [
       "<Figure size 432x288 with 1 Axes>"
      ]
     },
     "metadata": {
      "needs_background": "light"
     },
     "output_type": "display_data"
    }
   ],
   "source": [
    "plt.hist(percent_missing_row, bins=40);\n",
    "\n",
    "plt.xlabel('Proportion of missing values (%)')\n",
    "plt.ylabel('Number of AZDIAS rows')\n",
    "plt.title('Proportion of missing values in AZDIAS rows')"
   ]
  },
  {
   "cell_type": "markdown",
   "metadata": {},
   "source": [
    "1.The histogram above shows the number of rows for the proportion of missing values.\n",
    "\n",
    "2.Most of the columns have percentage of missing values of less than 10%. However, there are also a high number of rows with missing values greater than 60%.\n",
    "\n",
    "**I decide to drop any rows that have over 10% missing values.**"
   ]
  },
  {
   "cell_type": "code",
   "execution_count": 30,
   "metadata": {},
   "outputs": [],
   "source": [
    "azdias = azdias[percent_missing_row <= 10]"
   ]
  },
  {
   "cell_type": "code",
   "execution_count": 31,
   "metadata": {},
   "outputs": [
    {
     "name": "stdout",
     "output_type": "stream",
     "text": [
      "AZDIAS|Data shape (rows, cols):  (737287, 346)\n"
     ]
    }
   ],
   "source": [
    "print('AZDIAS|Data shape (rows, cols): ', azdias.shape)"
   ]
  },
  {
   "cell_type": "markdown",
   "metadata": {},
   "source": [
    "### Encoding categorical and mixed features"
   ]
  },
  {
   "cell_type": "markdown",
   "metadata": {},
   "source": [
    "Some columns in the AZDIAS dataset contain categorical values. Some other may include mixed types. To prepare these for feature extraction, we'll want to convert these into numerical values."
   ]
  },
  {
   "cell_type": "markdown",
   "metadata": {},
   "source": [
    "#### Exploring categorical features"
   ]
  },
  {
   "cell_type": "code",
   "execution_count": 32,
   "metadata": {},
   "outputs": [],
   "source": [
    "# find out columns with the type as object\n",
    "# azdias.agg(['nunique'])\n",
    "azdias_object_cols = azdias.columns[azdias.dtypes == \"object\"]"
   ]
  },
  {
   "cell_type": "code",
   "execution_count": 33,
   "metadata": {},
   "outputs": [
    {
     "name": "stdout",
     "output_type": "stream",
     "text": [
      "CAMEO_DEU_2015 :  46 values,  ['8A' '4C' '2A' '6B' '8C' '4A' '2D' '1A' '1E' '9D' '7A' '5D' '9E' '5C'\n",
      " '9B' '1B' '8B' '3D' nan '4E' '4B' '3C' '5A' '7B' '9A' '6E' '6D' '2C' '7C'\n",
      " '9C' '7D' '5E' '1D' '8D' '6C' '6A' '5B' '4D' '3A' '2B' '7E' '3B' '6F'\n",
      " '5F' '1C' 'XX']\n",
      "CAMEO_DEUG_2015 :  11 values,  ['8' '4' '2' '6' '1' '9' '7' '5' '3' nan 'X']\n",
      "CAMEO_INTL_2015 :  23 values,  ['51' '24' '12' '43' '54' '22' '14' '13' '15' '41' '34' '55' '33' '25' nan\n",
      " '23' '31' '52' '45' '35' '44' '32' 'XX']\n",
      "EINGEFUEGT_AM :  2819 values,  ['1992-02-10 00:00:00' '1992-02-12 00:00:00' '1997-04-21 00:00:00' ...\n",
      " '1994-10-24 00:00:00' '2000-03-09 00:00:00' '2005-03-19 00:00:00']\n",
      "OST_WEST_KZ :  2 values,  ['W' 'O']\n"
     ]
    }
   ],
   "source": [
    "for col in azdias_object_cols:\n",
    "    print(col, ': ', len(azdias[col].unique()), 'values, ', azdias[col].unique())"
   ]
  },
  {
   "cell_type": "markdown",
   "metadata": {},
   "source": [
    "From the 5 object columns, we know that the exist binary, multi-level and mixed categorical varibales as well as mixed features.\n",
    "\n",
    "Although there are 2819 values in EINGEFUEGT_AM, it seems that it should be in datetime type.\n",
    "\n",
    "We may consider treating 'X' and 'XX' as NAN values"
   ]
  },
  {
   "cell_type": "code",
   "execution_count": 34,
   "metadata": {},
   "outputs": [
    {
     "name": "stdout",
     "output_type": "stream",
     "text": [
      "EINGEFUEGT_AM:  15 values,  [1992 1997 1995 1996 2005 2004 2000 1994 1993 2003 1999 2001 1998 2002\n",
      " 1991]\n"
     ]
    }
   ],
   "source": [
    "# change the type of EINGEFUEGT_AM to be datetime\n",
    "azdias[\"EINGEFUEGT_AM\"] = pd.to_datetime(azdias[\"EINGEFUEGT_AM\"])\n",
    "azdias[\"EINGEFUEGT_AM\"] = azdias['EINGEFUEGT_AM'].map(lambda x: x.year)\n",
    "\n",
    "print('EINGEFUEGT_AM: ', len(azdias[\"EINGEFUEGT_AM\"].unique()), \\\n",
    "      'values, ', azdias[\"EINGEFUEGT_AM\"].unique())"
   ]
  },
  {
   "cell_type": "code",
   "execution_count": 35,
   "metadata": {},
   "outputs": [],
   "source": [
    "# treat 'X' and 'XX' as nan values\n",
    "azdias['CAMEO_DEUG_2015'] = azdias['CAMEO_DEUG_2015'].replace('X', np.nan)\n",
    "azdias['CAMEO_INTL_2015'] = azdias['CAMEO_INTL_2015'].replace('XX', np.nan)\n",
    "\n",
    "# change str to float\n",
    "azdias['CAMEO_DEUG_2015'] = azdias['CAMEO_DEUG_2015'].astype(float)\n",
    "azdias['CAMEO_INTL_2015'] = azdias['CAMEO_INTL_2015'].astype(float)"
   ]
  },
  {
   "cell_type": "code",
   "execution_count": 36,
   "metadata": {},
   "outputs": [
    {
     "name": "stdout",
     "output_type": "stream",
     "text": [
      "CAMEO_DEUG_2015:  10 values,  [ 8.  4.  2.  6.  1.  9.  7.  5.  3. nan]\n",
      "CAMEO_INTL_2015:  22 values,  [51. 24. 12. 43. 54. 22. 14. 13. 15. 41. 34. 55. 33. 25. nan 23. 31. 52.\n",
      " 45. 35. 44. 32.]\n"
     ]
    }
   ],
   "source": [
    "print('CAMEO_DEUG_2015: ', len(azdias[\"CAMEO_DEUG_2015\"].unique()), \\\n",
    "      'values, ', azdias[\"CAMEO_DEUG_2015\"].unique())\n",
    "print('CAMEO_INTL_2015: ', len(azdias[\"CAMEO_INTL_2015\"].unique()), \\\n",
    "      'values, ', azdias[\"CAMEO_INTL_2015\"].unique())"
   ]
  },
  {
   "cell_type": "markdown",
   "metadata": {},
   "source": [
    "**1. Re-encode binary categorical variables**\n",
    "\n",
    "For binary categorical variables that have non-numerical values, we need to convert them to numerical data.\n",
    "\n",
    "'OST_WEST_KZ' is the binary categorical variable that should be converted to numerical values. According to DIAS Attributes - Values 2017.xlsx, O represents East (GDR) whereas W stands for West (FRG)."
   ]
  },
  {
   "cell_type": "code",
   "execution_count": 37,
   "metadata": {},
   "outputs": [],
   "source": [
    "azdias['OST_WEST_KZ'] = azdias['OST_WEST_KZ'].map({'W': 0, 'O': 1})"
   ]
  },
  {
   "cell_type": "markdown",
   "metadata": {},
   "source": [
    "**b. Drop multi-level categorical variables**\n",
    "\n",
    "For multi-level categorical varaibles, they may incearease the number of features for modeling. Therfore, we may consider dropping them."
   ]
  },
  {
   "cell_type": "code",
   "execution_count": 38,
   "metadata": {},
   "outputs": [],
   "source": [
    "# drop categorical variables with more than 10 values\n",
    "azdias.drop(['CAMEO_DEU_2015', 'EINGEFUEGT_AM'], axis=1, inplace=True)"
   ]
  },
  {
   "cell_type": "code",
   "execution_count": 39,
   "metadata": {},
   "outputs": [
    {
     "data": {
      "text/plain": [
       "(737287, 344)"
      ]
     },
     "execution_count": 39,
     "metadata": {},
     "output_type": "execute_result"
    }
   ],
   "source": [
    "azdias.shape"
   ]
  },
  {
   "cell_type": "markdown",
   "metadata": {},
   "source": [
    "**c. Convert mixed features to numerical vlaues**\n",
    "\n",
    "There exist 4 mixed features, including CAMEO_INTL_2015, LP_LEBENSPHASE_FEIN, LP_LEBENSPHASE_GROB and PRAEGENDE_JUGENDJAHRE. For these, we need to split them into multiple single-type features.\n",
    "\n",
    "Let's first take a look at CAMEO_INTL_2015. From DIAS Attributes - Values 2017.xlsx, we can find that CAMEO_INTL_2015 (CAMEO_DEUINTL_2015 in attributes-values) can be split into two features, wealth level and status.\n",
    "\n",
    "CAMEO_INTL_2015 can be re-encoded as the following.\n",
    "\n",
    "**Status**\n",
    "\n",
    "1: Pre-Family Couples & Singles\n",
    "\n",
    "2: Young Couples With Children\n",
    "\n",
    "3: Families With School Age Children\n",
    "\n",
    "4: Older Families & Mature Couples\n",
    "\n",
    "5: Elders In Retirement)\n",
    "\n",
    "**Wealth Level**\n",
    "\n",
    "1: Wealthy\n",
    "\n",
    "2: Prosperous\n",
    "\n",
    "3: comfortable\n",
    "\n",
    "4: less affluent\n",
    "\n",
    "5: poorer"
   ]
  },
  {
   "cell_type": "code",
   "execution_count": 40,
   "metadata": {},
   "outputs": [],
   "source": [
    "# split CAMEO_INTL_2015\n",
    "azdias['CAMEO_INTL_2015_WEALTH_LEVEL'] = azdias['CAMEO_INTL_2015'].apply(lambda x: np.floor(pd.to_numeric(x)/10))\n",
    "azdias['CAMEO_INTL_2015_STATUS'] = azdias['CAMEO_INTL_2015'].apply(lambda x: pd.to_numeric(x)%10)\n",
    "\n",
    "# drop CAMEO_INTL_2015\n",
    "azdias.drop('CAMEO_INTL_2015', axis=1, inplace=True)"
   ]
  },
  {
   "cell_type": "code",
   "execution_count": 41,
   "metadata": {},
   "outputs": [
    {
     "data": {
      "text/plain": [
       "(737287, 345)"
      ]
     },
     "execution_count": 41,
     "metadata": {},
     "output_type": "execute_result"
    }
   ],
   "source": [
    "azdias.shape"
   ]
  },
  {
   "cell_type": "markdown",
   "metadata": {},
   "source": [
    "LP_LEBENSPHASE_FEIN and LP_LEBENSPHASE_GROB are another two mixed features. Among the six columns that start with LP, there are duplicated information and we might need to do some additional data cleaning."
   ]
  },
  {
   "cell_type": "code",
   "execution_count": 42,
   "metadata": {},
   "outputs": [
    {
     "name": "stdout",
     "output_type": "stream",
     "text": [
      "LP_LEBENSPHASE_FEIN:  42 values,  [21.  3.  0. 32.  8.  2.  5. 10.  4.  6. 20.  1. 25. 13. 18. 31. 38. 35.\n",
      " 30.  7. 22. 29. 24. 28. 37. 26. 12. 39. 27. 36.  9. 14. 34. 33. 15. nan\n",
      " 11. 40. 16. 19. 23. 17.]\n",
      "LP_LEBENSPHASE_GROB:  14 values,  [ 6.  1.  0. 10.  2.  3.  5.  7. 12. 11.  9.  8.  4. nan]\n",
      "LP_STATUS_FEIN:  11 values,  [ 2.  3.  9.  4.  1. 10.  8.  5.  6.  7. nan]\n",
      "LP_STATUS_GROB:  6 values,  [ 1.  2.  4.  5.  3. nan]\n",
      "LP_FAMILIE_FEIN:  13 values,  [ 5.  1.  0. 10.  2.  7. 11.  8.  4.  6. nan  9.  3.]\n",
      "LP_FAMILIE_GROB:  7 values,  [ 3.  1.  0.  5.  2.  4. nan]\n"
     ]
    }
   ],
   "source": [
    "print('LP_LEBENSPHASE_FEIN: ', len(azdias[\"LP_LEBENSPHASE_FEIN\"].unique()), \\\n",
    "      'values, ', azdias[\"LP_LEBENSPHASE_FEIN\"].unique())\n",
    "\n",
    "print('LP_LEBENSPHASE_GROB: ', len(azdias[\"LP_LEBENSPHASE_GROB\"].unique()), \\\n",
    "      'values, ', azdias[\"LP_LEBENSPHASE_GROB\"].unique())\n",
    "\n",
    "print('LP_STATUS_FEIN: ', len(azdias[\"LP_STATUS_FEIN\"].unique()), \\\n",
    "      'values, ', azdias[\"LP_STATUS_FEIN\"].unique())\n",
    "\n",
    "print('LP_STATUS_GROB: ', len(azdias[\"LP_STATUS_GROB\"].unique()), \\\n",
    "      'values, ', azdias[\"LP_STATUS_GROB\"].unique())\n",
    "\n",
    "print('LP_FAMILIE_FEIN: ', len(azdias[\"LP_FAMILIE_FEIN\"].unique()), \\\n",
    "      'values, ', azdias[\"LP_FAMILIE_FEIN\"].unique())\n",
    "\n",
    "print('LP_FAMILIE_GROB: ', len(azdias[\"LP_FAMILIE_GROB\"].unique()), \\\n",
    "      'values, ', azdias[\"LP_FAMILIE_GROB\"].unique())"
   ]
  },
  {
   "cell_type": "markdown",
   "metadata": {},
   "source": [
    "Columns LP_LEBENSPHASE_FEIN, LP_LEBENSPHASE_GROB, LP_FAMILIE_FEIN and LP_FAMILIE_GROB have 0 as one category. However, 0 should not be included according to DIAS Attributes - Values 2017.xlsx. Therefore, any 0s in the four columns will be converted into nan.\n",
    "\n",
    "If we further look into DIAS Attributes - Values 2017.xlsx, we will find that LP_FAMILIE_GROB and LP_STATUS_GROB are broderer categorization of LP_FAMILIE_FEIN and LP_STATUS_FEIN, respectively. Since each pair contains the same information and the two fine categorizations have over 10 values, LP_FAMILIE_FEIN and LP_STATUS_FEIN will be dropped. Similarly, both LP_LEBENSPHASE_GROB and LP_LEBENSPHASE_FEIN will be dropped since they are complex mixed-features.\n",
    "\n",
    "LP_STATUS_GROB and LP_FAMILIE_GROB can be re-encoded as the following.\n",
    "\n",
    "**LP_STATUS_GROB:**\n",
    "\n",
    "Social status\n",
    "\n",
    "1: low-income earners\n",
    "\n",
    "2: average earners\n",
    "\n",
    "3: independants\n",
    "\n",
    "4: houseowners\n",
    "\n",
    "5: top earners\n",
    "\n",
    "**LP_FAMILIE_GROB:**\n",
    "\n",
    "Family type\n",
    "\n",
    "1: single\n",
    "\n",
    "2: couple\n",
    "\n",
    "3: single parent\n",
    "\n",
    "4: family\n",
    "\n",
    "5: multiperson household"
   ]
  },
  {
   "cell_type": "code",
   "execution_count": 43,
   "metadata": {},
   "outputs": [],
   "source": [
    "# lp is short for LP_*\n",
    "def encode_lp(df):\n",
    "    \"\"\"\n",
    "    Re-encode LP_* columns:\n",
    "    - replace 0s with nan values\n",
    "    - drop complex and/or duplicate columns\n",
    "    - split columns with mixed features.\n",
    "    \"\"\"\n",
    "    # replace 0s with nan values\n",
    "    cols = [\"LP_LEBENSPHASE_FEIN\",\"LP_LEBENSPHASE_GROB\", \"LP_FAMILIE_FEIN\", \"LP_FAMILIE_GROB\"]\n",
    "    df[cols] = df[cols].replace({0: np.nan})\n",
    "    \n",
    "    # drop complex and/or duplicate columns\n",
    "    df.drop(['LP_FAMILIE_FEIN','LP_STATUS_FEIN','LP_LEBENSPHASE_FEIN','LP_LEBENSPHASE_GROB'], axis=1, inplace=True)\n",
    "    \n",
    "    # re-encode LP_STATUS_GROB and LP_FAMILIE_GROB\n",
    "    status = {1: 1, 2: 1, 3: 2, \n",
    "              4: 2, 5: 2, 6: 3, \n",
    "              7: 3, 8: 4, 9: 4, \n",
    "              10: 5}\n",
    "    familie = {1: 1, 2: 2, 3: 3, \n",
    "               4: 3, 5: 3, 6: 4, \n",
    "               7: 4, 8: 4, 9: 5, \n",
    "               10: 5, 11: 5}\n",
    "    df[\"LP_STATUS_GROB\"] = df[\"LP_STATUS_GROB\"].map(status)                                              \n",
    "    df[\"LP_FAMILIE_GROB\"] = df[\"LP_FAMILIE_GROB\"].map(familie)    \n",
    "    \n",
    "    return df"
   ]
  },
  {
   "cell_type": "code",
   "execution_count": 44,
   "metadata": {},
   "outputs": [],
   "source": [
    "azdias = encode_lp(azdias)"
   ]
  },
  {
   "cell_type": "code",
   "execution_count": 45,
   "metadata": {},
   "outputs": [
    {
     "data": {
      "text/plain": [
       "(737287, 341)"
      ]
     },
     "execution_count": 45,
     "metadata": {},
     "output_type": "execute_result"
    }
   ],
   "source": [
    "azdias.shape"
   ]
  },
  {
   "cell_type": "markdown",
   "metadata": {},
   "source": [
    "The 4th mixed-feature column is PRAEGENDE_JUGENDJAHRE. This feature takes unknown values being -1 and 0 and known values ranging from 1 to 15 and. It represents two types of donimating movements in the person's youth.\n",
    "\n",
    "We can re-encode this feature to contain two values being Mainstream and Avantgarde, respectively."
   ]
  },
  {
   "cell_type": "code",
   "execution_count": 46,
   "metadata": {},
   "outputs": [
    {
     "name": "stdout",
     "output_type": "stream",
     "text": [
      "PRAEGENDE_JUGENDJAHRE:  16 values,  [14. 15.  8.  3. 10. 11.  9.  6.  4. nan  5.  2.  1. 12. 13.  7.]\n"
     ]
    }
   ],
   "source": [
    "print('PRAEGENDE_JUGENDJAHRE: ', len(azdias[\"PRAEGENDE_JUGENDJAHRE\"].unique()), \\\n",
    "      'values, ', azdias[\"PRAEGENDE_JUGENDJAHRE\"].unique())"
   ]
  },
  {
   "cell_type": "code",
   "execution_count": 47,
   "metadata": {},
   "outputs": [],
   "source": [
    "# pj is short for PRAEGENDE_JUGENDJAHRE\n",
    "def encode_pj(val):\n",
    "    \"\"\"\n",
    "    Re-encode PRAEGENDE_JUGENDJAHRE:\n",
    "    0: Mainstream\n",
    "    1: Avantgarde\n",
    "    \"\"\"\n",
    "    mainstream = [1, 3, 5, 8, 10, 12, 14]\n",
    "    avantgarde = [2, 4, 6, 7, 9, 11, 13, 15]\n",
    "    if val in mainstream: \n",
    "        return 0\n",
    "    elif val in avantgarde: \n",
    "        return 1\n",
    "    else:\n",
    "        return val"
   ]
  },
  {
   "cell_type": "code",
   "execution_count": 48,
   "metadata": {},
   "outputs": [],
   "source": [
    "azdias['PRAEGENDE_JUGENDJAHRE'] = azdias['PRAEGENDE_JUGENDJAHRE'].apply(lambda x: encode_pj(x))"
   ]
  },
  {
   "cell_type": "code",
   "execution_count": 49,
   "metadata": {},
   "outputs": [
    {
     "name": "stdout",
     "output_type": "stream",
     "text": [
      "PRAEGENDE_JUGENDJAHRE:  3 values,  [ 0.  1. nan]\n"
     ]
    }
   ],
   "source": [
    "# check values in column PRAEGENDE_JUGENDJAHRE\n",
    "print('PRAEGENDE_JUGENDJAHRE: ', len(azdias[\"PRAEGENDE_JUGENDJAHRE\"].unique()), \\\n",
    "      'values, ', azdias[\"PRAEGENDE_JUGENDJAHRE\"].unique())"
   ]
  },
  {
   "cell_type": "code",
   "execution_count": 50,
   "metadata": {},
   "outputs": [
    {
     "data": {
      "text/plain": [
       "(737287, 341)"
      ]
     },
     "execution_count": 50,
     "metadata": {},
     "output_type": "execute_result"
    }
   ],
   "source": [
    "azdias.shape"
   ]
  },
  {
   "cell_type": "markdown",
   "metadata": {},
   "source": [
    "**Droping highly correlated features**\n",
    "\n",
    "We will be implementing feature correlation to determine too high-correlated features since they many over-inflate the importance of a single feature. \n",
    "\n",
    "I decided that features having correlations higher than 0.9 should be dropped"
   ]
  },
  {
   "cell_type": "code",
   "execution_count": 51,
   "metadata": {},
   "outputs": [],
   "source": [
    "# Running de correlation calculations.  This step can take a while to finish depending on the machine.\n",
    "corr_matrix = azdias.corr().abs().round(2)"
   ]
  },
  {
   "cell_type": "code",
   "execution_count": 52,
   "metadata": {},
   "outputs": [],
   "source": [
    "corr_features = set()\n",
    "for i in range(len(corr_matrix.columns)):\n",
    "    for j in range(i):\n",
    "        if abs(corr_matrix.iloc[i, j]) > 0.9:\n",
    "            col = corr_matrix.columns[i]\n",
    "            corr_features.add(col)"
   ]
  },
  {
   "cell_type": "code",
   "execution_count": 53,
   "metadata": {},
   "outputs": [
    {
     "name": "stdout",
     "output_type": "stream",
     "text": [
      "Number of too highly correlated features:  15\n",
      "{'D19_VERSAND_DATUM', 'KBA13_KMH_250', 'ORTSGR_KLS9', 'CAMEO_INTL_2015_WEALTH_LEVEL', 'KBA13_HALTER_66', 'PLZ8_ANTG1', 'ANZ_STATISTISCHE_HAUSHALTE', 'PLZ8_BAUMAX', 'PLZ8_GBZ', 'D19_VERSAND_ANZ_24', 'PLZ8_HHZ', 'PLZ8_ANTG3', 'PRAEGENDE_JUGENDJAHRE', 'KBA13_HERST_SONST', 'D19_VERSAND_ONLINE_DATUM'}\n"
     ]
    }
   ],
   "source": [
    "print('Number of too highly correlated features: ', len(corr_features))\n",
    "print(corr_features)"
   ]
  },
  {
   "cell_type": "code",
   "execution_count": 54,
   "metadata": {},
   "outputs": [],
   "source": [
    "azdias.drop(labels=corr_features, axis=1, inplace=True)"
   ]
  },
  {
   "cell_type": "code",
   "execution_count": 55,
   "metadata": {},
   "outputs": [
    {
     "data": {
      "text/plain": [
       "(737287, 326)"
      ]
     },
     "execution_count": 55,
     "metadata": {},
     "output_type": "execute_result"
    }
   ],
   "source": [
    "azdias.shape"
   ]
  },
  {
   "cell_type": "markdown",
   "metadata": {},
   "source": [
    "**Inputing missing values using median strategy**\n",
    "\n",
    "Missing values will be imputed by using median values for each column."
   ]
  },
  {
   "cell_type": "code",
   "execution_count": 56,
   "metadata": {},
   "outputs": [],
   "source": [
    "# choose the strategy as median\n",
    "imputer = SimpleImputer(missing_values=np.nan, strategy='median')\n",
    "azdias_imputed = pd.DataFrame(imputer.fit_transform(azdias))"
   ]
  },
  {
   "cell_type": "code",
   "execution_count": 57,
   "metadata": {},
   "outputs": [
    {
     "data": {
      "text/plain": [
       "(737287, 326)"
      ]
     },
     "execution_count": 57,
     "metadata": {},
     "output_type": "execute_result"
    }
   ],
   "source": [
    "azdias_imputed.shape"
   ]
  },
  {
   "cell_type": "markdown",
   "metadata": {},
   "source": [
    "**DATA CLEANING FUNCTION**\n",
    "\n",
    "Now I'll be adding all the steps above in a function to apply to the customer dataset"
   ]
  },
  {
   "cell_type": "code",
   "execution_count": 58,
   "metadata": {},
   "outputs": [],
   "source": [
    "def clean_data(df, attributes_values, columns_to_drop, nan_threshold, corr_features):\n",
    "    \"\"\"\n",
    "    Clean and prerpocess a dataframe\n",
    "    - convert missing and unknown values to nan values\n",
    "    - drop columns (features) with high %nan vlaues\n",
    "    - drop rows with high %nan vlaues\n",
    "    - re-encode categorical and mixed features\n",
    "    - drop too highly correlated features\n",
    "    - impute missing values\n",
    "    \n",
    "    INPUT\n",
    "    - df (DataFrame): the DataFrame to be cleaned and preprocessed\n",
    "    - attributes_values (DataFrame): the DataFrame to find unknown values for each feature\n",
    "    - columns_to_drop (list): list of features to be droped due to high %nan values\n",
    "    - nan_threshold (int): threshold to use for dropping rows having high %nan values\n",
    "    - corr_features (list): list of features that too highly correlate with other features\n",
    "    \n",
    "    OUTPUT\n",
    "    - df_imputed (DataFrame): a cleaned and preprocessed DataFrame with nan values imputed\n",
    "    \"\"\"\n",
    "    # convert missing and unknown values to nan values\n",
    "    attributes_values = attributes_values[attributes_values.columns[1:]]\n",
    "    attributes_values = attributes_values[attributes_values['Attribute'].notnull()]\n",
    "    unknown = attributes_values[attributes_values['Meaning'].isin(['unknown', 'unknown / no main age detectable'])]\n",
    "\n",
    "    for column in df.columns:\n",
    "        if df[column].dtype == np.int64:\n",
    "            df[column] = df[column].astype(np.float64)\n",
    "        if column not in set(unknown['Attribute']):\n",
    "            continue\n",
    "        \n",
    "        unknown_value = unknown.loc[unknown['Attribute'] == column].Value.item()\n",
    "        unknown_value = set(float(x) for x in unknown_value.split(', ')) if type(unknown_value) is str else set([float(unknown_value)])\n",
    "        df[column] = df[column].mask(df[column].isin(unknown_value), other=np.nan)\n",
    "    \n",
    "    \n",
    "    \n",
    "    # drop columns (features) with %nan values over a threshold\n",
    "    df.drop(labels=columns_to_drop, axis=1, inplace=True)\n",
    "\n",
    "    # drop rows with %missing values over a threshold\n",
    "    percent_missing_row = df.isnull().mean(axis=1) * 100\n",
    "    df = df[percent_missing_row <= nan_threshold]\n",
    "\n",
    "    # RE-ENCODE CATEGORICAL & MIXED FEATURES #\n",
    "    # change the type of EINGEFUEGT_AM to be datetime\n",
    "    df[\"EINGEFUEGT_AM\"] = pd.to_datetime(df[\"EINGEFUEGT_AM\"])\n",
    "    df[\"EINGEFUEGT_AM\"] = df['EINGEFUEGT_AM'].map(lambda x: x.year)\n",
    "    \n",
    "    # treat 'X' and 'XX' as nan values\n",
    "    df['CAMEO_DEUG_2015'] = df['CAMEO_DEUG_2015'].replace('X', np.nan)\n",
    "    df['CAMEO_INTL_2015'] = df['CAMEO_INTL_2015'].replace('XX', np.nan)\n",
    "    \n",
    "    df['CAMEO_DEUG_2015'] = df['CAMEO_DEUG_2015'].astype(float)\n",
    "    df['CAMEO_INTL_2015'] = df['CAMEO_INTL_2015'].astype(float)\n",
    "    \n",
    "    # re-encode binary categorical variables\n",
    "    df['OST_WEST_KZ'] = df['OST_WEST_KZ'].map({'W': 0, 'O': 1})\n",
    "    \n",
    "    # drop multi-level categorical variables with more than 10 values\n",
    "    df.drop(['CAMEO_DEU_2015', 'EINGEFUEGT_AM'], axis=1, inplace=True)\n",
    "    \n",
    "    \n",
    "    # re-encode CAMEO_INTL_2015\n",
    "    df['CAMEO_INTL_2015_WEALTH_LEVEL'] = df['CAMEO_INTL_2015'].apply(lambda x: np.floor(pd.to_numeric(x)/10))\n",
    "    df['CAMEO_INTL_2015_STATUS'] = df['CAMEO_INTL_2015'].apply(lambda x: pd.to_numeric(x)%10)\n",
    "    df.drop('CAMEO_INTL_2015', axis=1, inplace=True)\n",
    "    \n",
    "    # re-encode LP_*\n",
    "    df = encode_lp(df)\n",
    "    \n",
    "    # re-encode PRAEGENDE_JUGENDJAHRE\n",
    "    df['PRAEGENDE_JUGENDJAHRE'] = df['PRAEGENDE_JUGENDJAHRE'].apply(lambda x: encode_pj(x))\n",
    "    \n",
    "    # drop too highly correlated features\n",
    "    df.drop(labels=corr_features, axis=1, inplace=True)\n",
    "    \n",
    "    # impute missing values\n",
    "    imputer = SimpleImputer(missing_values=np.nan, strategy='median')\n",
    "    df_imputed = pd.DataFrame(imputer.fit_transform(df))\n",
    "    \n",
    "    return df_imputed"
   ]
  },
  {
   "cell_type": "code",
   "execution_count": 59,
   "metadata": {},
   "outputs": [],
   "source": [
    "#customers = pd.read_csv('Udacity_CUSTOMERS_052018.csv', sep=',')\n",
    "customers.drop(['CUSTOMER_GROUP', 'PRODUCT_GROUP', 'ONLINE_PURCHASE'], axis=1, inplace=True)"
   ]
  },
  {
   "cell_type": "code",
   "execution_count": 60,
   "metadata": {},
   "outputs": [],
   "source": [
    "attributes_values = pd.read_excel('../DIAS Attributes - Values 2017.xlsx', header=1)"
   ]
  },
  {
   "cell_type": "code",
   "execution_count": 61,
   "metadata": {},
   "outputs": [],
   "source": [
    "import warnings\n",
    "warnings.filterwarnings('ignore')\n",
    "\n",
    "customers_imputed = clean_data(customers, attributes_values, columns_to_drop, 10, corr_features)"
   ]
  },
  {
   "cell_type": "code",
   "execution_count": 62,
   "metadata": {},
   "outputs": [
    {
     "data": {
      "text/plain": [
       "(134246, 326)"
      ]
     },
     "execution_count": 62,
     "metadata": {},
     "output_type": "execute_result"
    }
   ],
   "source": [
    "customers_imputed.shape"
   ]
  },
  {
   "cell_type": "code",
   "execution_count": 63,
   "metadata": {},
   "outputs": [
    {
     "data": {
      "text/plain": [
       "(737287, 326)"
      ]
     },
     "execution_count": 63,
     "metadata": {},
     "output_type": "execute_result"
    }
   ],
   "source": [
    "azdias_imputed.shape"
   ]
  },
  {
   "cell_type": "code",
   "execution_count": 64,
   "metadata": {},
   "outputs": [
    {
     "data": {
      "text/plain": [
       "[]"
      ]
     },
     "execution_count": 64,
     "metadata": {},
     "output_type": "execute_result"
    }
   ],
   "source": [
    "list(set(customers_imputed)-set(azdias_imputed))"
   ]
  },
  {
   "cell_type": "markdown",
   "metadata": {},
   "source": [
    "As we can see above, both datasets has the same number of features now."
   ]
  },
  {
   "cell_type": "markdown",
   "metadata": {},
   "source": [
    "**Scaling Featueres**\n",
    "\n",
    "Prior to applying PCA, we need to scale features to be of the same range since PCA may be influenced by variations in scales of features."
   ]
  },
  {
   "cell_type": "code",
   "execution_count": 65,
   "metadata": {},
   "outputs": [],
   "source": [
    "scaler = StandardScaler()\n",
    "azdias_scaled = pd.DataFrame(scaler.fit_transform(azdias_imputed), columns=azdias_imputed.columns)\n",
    "customers_scaled = pd.DataFrame(scaler.fit_transform(customers_imputed), columns=customers_imputed.columns)"
   ]
  },
  {
   "cell_type": "code",
   "execution_count": 66,
   "metadata": {},
   "outputs": [
    {
     "data": {
      "text/plain": [
       "((737287, 326), (134246, 326))"
      ]
     },
     "execution_count": 66,
     "metadata": {},
     "output_type": "execute_result"
    }
   ],
   "source": [
    "azdias_scaled.shape, customers_scaled.shape"
   ]
  },
  {
   "cell_type": "code",
   "execution_count": 67,
   "metadata": {},
   "outputs": [
    {
     "data": {
      "text/html": [
       "<div>\n",
       "<style scoped>\n",
       "    .dataframe tbody tr th:only-of-type {\n",
       "        vertical-align: middle;\n",
       "    }\n",
       "\n",
       "    .dataframe tbody tr th {\n",
       "        vertical-align: top;\n",
       "    }\n",
       "\n",
       "    .dataframe thead th {\n",
       "        text-align: right;\n",
       "    }\n",
       "</style>\n",
       "<table border=\"1\" class=\"dataframe\">\n",
       "  <thead>\n",
       "    <tr style=\"text-align: right;\">\n",
       "      <th></th>\n",
       "      <th>0</th>\n",
       "      <th>1</th>\n",
       "      <th>2</th>\n",
       "      <th>3</th>\n",
       "      <th>4</th>\n",
       "      <th>5</th>\n",
       "      <th>6</th>\n",
       "      <th>7</th>\n",
       "      <th>8</th>\n",
       "      <th>9</th>\n",
       "      <th>...</th>\n",
       "      <th>316</th>\n",
       "      <th>317</th>\n",
       "      <th>318</th>\n",
       "      <th>319</th>\n",
       "      <th>320</th>\n",
       "      <th>321</th>\n",
       "      <th>322</th>\n",
       "      <th>323</th>\n",
       "      <th>324</th>\n",
       "      <th>325</th>\n",
       "    </tr>\n",
       "  </thead>\n",
       "  <tbody>\n",
       "    <tr>\n",
       "      <th>count</th>\n",
       "      <td>7.372870e+05</td>\n",
       "      <td>7.372870e+05</td>\n",
       "      <td>7.372870e+05</td>\n",
       "      <td>7.372870e+05</td>\n",
       "      <td>7.372870e+05</td>\n",
       "      <td>7.372870e+05</td>\n",
       "      <td>7.372870e+05</td>\n",
       "      <td>7.372870e+05</td>\n",
       "      <td>7.372870e+05</td>\n",
       "      <td>7.372870e+05</td>\n",
       "      <td>...</td>\n",
       "      <td>7.372870e+05</td>\n",
       "      <td>7.372870e+05</td>\n",
       "      <td>7.372870e+05</td>\n",
       "      <td>7.372870e+05</td>\n",
       "      <td>7.372870e+05</td>\n",
       "      <td>7.372870e+05</td>\n",
       "      <td>7.372870e+05</td>\n",
       "      <td>7.372870e+05</td>\n",
       "      <td>7.372870e+05</td>\n",
       "      <td>7.372870e+05</td>\n",
       "    </tr>\n",
       "    <tr>\n",
       "      <th>mean</th>\n",
       "      <td>1.012269e-16</td>\n",
       "      <td>1.884075e-15</td>\n",
       "      <td>1.588333e-16</td>\n",
       "      <td>-7.864999e-15</td>\n",
       "      <td>6.173240e-15</td>\n",
       "      <td>-1.130081e-14</td>\n",
       "      <td>-2.297216e-15</td>\n",
       "      <td>-1.039266e-14</td>\n",
       "      <td>2.740016e-15</td>\n",
       "      <td>-1.777286e-15</td>\n",
       "      <td>...</td>\n",
       "      <td>-5.049294e-16</td>\n",
       "      <td>1.342859e-15</td>\n",
       "      <td>4.511240e-15</td>\n",
       "      <td>1.046969e-14</td>\n",
       "      <td>-1.072407e-14</td>\n",
       "      <td>-3.167748e-15</td>\n",
       "      <td>-2.970597e-15</td>\n",
       "      <td>1.034187e-16</td>\n",
       "      <td>-1.857247e-15</td>\n",
       "      <td>-3.151907e-15</td>\n",
       "    </tr>\n",
       "    <tr>\n",
       "      <th>std</th>\n",
       "      <td>1.000001e+00</td>\n",
       "      <td>1.000001e+00</td>\n",
       "      <td>1.000001e+00</td>\n",
       "      <td>1.000001e+00</td>\n",
       "      <td>1.000001e+00</td>\n",
       "      <td>1.000001e+00</td>\n",
       "      <td>1.000001e+00</td>\n",
       "      <td>1.000001e+00</td>\n",
       "      <td>1.000001e+00</td>\n",
       "      <td>1.000001e+00</td>\n",
       "      <td>...</td>\n",
       "      <td>1.000001e+00</td>\n",
       "      <td>1.000001e+00</td>\n",
       "      <td>1.000001e+00</td>\n",
       "      <td>1.000001e+00</td>\n",
       "      <td>1.000001e+00</td>\n",
       "      <td>1.000001e+00</td>\n",
       "      <td>1.000001e+00</td>\n",
       "      <td>1.000001e+00</td>\n",
       "      <td>1.000001e+00</td>\n",
       "      <td>1.000001e+00</td>\n",
       "    </tr>\n",
       "    <tr>\n",
       "      <th>min</th>\n",
       "      <td>-1.730544e+00</td>\n",
       "      <td>-9.343317e-01</td>\n",
       "      <td>-5.411579e-01</td>\n",
       "      <td>-1.253033e-01</td>\n",
       "      <td>-2.990608e-01</td>\n",
       "      <td>-1.493626e+00</td>\n",
       "      <td>-6.066053e-02</td>\n",
       "      <td>-2.190006e+00</td>\n",
       "      <td>-1.437978e+00</td>\n",
       "      <td>-1.839493e+00</td>\n",
       "      <td>...</td>\n",
       "      <td>-1.758622e+00</td>\n",
       "      <td>-2.004888e+00</td>\n",
       "      <td>-1.765953e+00</td>\n",
       "      <td>-1.865184e+00</td>\n",
       "      <td>-3.687915e+00</td>\n",
       "      <td>-2.137633e+00</td>\n",
       "      <td>-1.700551e+00</td>\n",
       "      <td>-1.043352e+00</td>\n",
       "      <td>-1.682096e+00</td>\n",
       "      <td>-1.258089e+00</td>\n",
       "    </tr>\n",
       "    <tr>\n",
       "      <th>25%</th>\n",
       "      <td>-8.632372e-01</td>\n",
       "      <td>-9.343317e-01</td>\n",
       "      <td>-4.087997e-01</td>\n",
       "      <td>-1.253033e-01</td>\n",
       "      <td>-2.990608e-01</td>\n",
       "      <td>-6.344692e-01</td>\n",
       "      <td>-6.066053e-02</td>\n",
       "      <td>-1.784099e-01</td>\n",
       "      <td>-9.803702e-01</td>\n",
       "      <td>-1.034018e+00</td>\n",
       "      <td>...</td>\n",
       "      <td>-7.044515e-01</td>\n",
       "      <td>-7.758946e-01</td>\n",
       "      <td>-6.894056e-01</td>\n",
       "      <td>-6.892461e-01</td>\n",
       "      <td>1.835682e-02</td>\n",
       "      <td>-5.558155e-01</td>\n",
       "      <td>-2.796633e-01</td>\n",
       "      <td>-1.043352e+00</td>\n",
       "      <td>-7.570353e-01</td>\n",
       "      <td>-1.258089e+00</td>\n",
       "    </tr>\n",
       "    <tr>\n",
       "      <th>50%</th>\n",
       "      <td>-7.263976e-03</td>\n",
       "      <td>-3.851864e-01</td>\n",
       "      <td>-2.764415e-01</td>\n",
       "      <td>-1.253033e-01</td>\n",
       "      <td>-2.990608e-01</td>\n",
       "      <td>-6.344692e-01</td>\n",
       "      <td>-6.066053e-02</td>\n",
       "      <td>-1.784099e-01</td>\n",
       "      <td>3.924520e-01</td>\n",
       "      <td>1.741958e-01</td>\n",
       "      <td>...</td>\n",
       "      <td>-1.670956e-03</td>\n",
       "      <td>1.458503e-01</td>\n",
       "      <td>2.829279e-02</td>\n",
       "      <td>-1.012771e-01</td>\n",
       "      <td>5.478243e-01</td>\n",
       "      <td>-5.558155e-01</td>\n",
       "      <td>-2.796633e-01</td>\n",
       "      <td>9.584489e-01</td>\n",
       "      <td>1.680258e-01</td>\n",
       "      <td>8.781378e-02</td>\n",
       "    </tr>\n",
       "    <tr>\n",
       "      <th>75%</th>\n",
       "      <td>8.714860e-01</td>\n",
       "      <td>1.262249e+00</td>\n",
       "      <td>5.445398e-02</td>\n",
       "      <td>-1.253033e-01</td>\n",
       "      <td>-2.990608e-01</td>\n",
       "      <td>2.246875e-01</td>\n",
       "      <td>-6.066053e-02</td>\n",
       "      <td>8.273883e-01</td>\n",
       "      <td>8.500594e-01</td>\n",
       "      <td>9.796714e-01</td>\n",
       "      <td>...</td>\n",
       "      <td>7.011096e-01</td>\n",
       "      <td>7.603469e-01</td>\n",
       "      <td>7.459912e-01</td>\n",
       "      <td>1.074661e+00</td>\n",
       "      <td>5.478243e-01</td>\n",
       "      <td>4.987292e-01</td>\n",
       "      <td>4.307805e-01</td>\n",
       "      <td>9.584489e-01</td>\n",
       "      <td>1.093087e+00</td>\n",
       "      <td>7.607649e-01</td>\n",
       "    </tr>\n",
       "    <tr>\n",
       "      <th>max</th>\n",
       "      <td>1.727560e+00</td>\n",
       "      <td>1.262249e+00</td>\n",
       "      <td>3.493084e+01</td>\n",
       "      <td>6.412654e+01</td>\n",
       "      <td>2.221387e+01</td>\n",
       "      <td>3.115433e+01</td>\n",
       "      <td>5.855561e+01</td>\n",
       "      <td>5.856379e+00</td>\n",
       "      <td>1.307667e+00</td>\n",
       "      <td>1.382409e+00</td>\n",
       "      <td>...</td>\n",
       "      <td>1.755281e+00</td>\n",
       "      <td>1.682092e+00</td>\n",
       "      <td>1.822539e+00</td>\n",
       "      <td>1.074661e+00</td>\n",
       "      <td>5.478243e-01</td>\n",
       "      <td>2.080546e+00</td>\n",
       "      <td>1.851668e+00</td>\n",
       "      <td>9.584489e-01</td>\n",
       "      <td>5.718392e+00</td>\n",
       "      <td>1.433716e+00</td>\n",
       "    </tr>\n",
       "  </tbody>\n",
       "</table>\n",
       "<p>8 rows × 326 columns</p>\n",
       "</div>"
      ],
      "text/plain": [
       "                0             1             2             3             4    \\\n",
       "count  7.372870e+05  7.372870e+05  7.372870e+05  7.372870e+05  7.372870e+05   \n",
       "mean   1.012269e-16  1.884075e-15  1.588333e-16 -7.864999e-15  6.173240e-15   \n",
       "std    1.000001e+00  1.000001e+00  1.000001e+00  1.000001e+00  1.000001e+00   \n",
       "min   -1.730544e+00 -9.343317e-01 -5.411579e-01 -1.253033e-01 -2.990608e-01   \n",
       "25%   -8.632372e-01 -9.343317e-01 -4.087997e-01 -1.253033e-01 -2.990608e-01   \n",
       "50%   -7.263976e-03 -3.851864e-01 -2.764415e-01 -1.253033e-01 -2.990608e-01   \n",
       "75%    8.714860e-01  1.262249e+00  5.445398e-02 -1.253033e-01 -2.990608e-01   \n",
       "max    1.727560e+00  1.262249e+00  3.493084e+01  6.412654e+01  2.221387e+01   \n",
       "\n",
       "                5             6             7             8             9    \\\n",
       "count  7.372870e+05  7.372870e+05  7.372870e+05  7.372870e+05  7.372870e+05   \n",
       "mean  -1.130081e-14 -2.297216e-15 -1.039266e-14  2.740016e-15 -1.777286e-15   \n",
       "std    1.000001e+00  1.000001e+00  1.000001e+00  1.000001e+00  1.000001e+00   \n",
       "min   -1.493626e+00 -6.066053e-02 -2.190006e+00 -1.437978e+00 -1.839493e+00   \n",
       "25%   -6.344692e-01 -6.066053e-02 -1.784099e-01 -9.803702e-01 -1.034018e+00   \n",
       "50%   -6.344692e-01 -6.066053e-02 -1.784099e-01  3.924520e-01  1.741958e-01   \n",
       "75%    2.246875e-01 -6.066053e-02  8.273883e-01  8.500594e-01  9.796714e-01   \n",
       "max    3.115433e+01  5.855561e+01  5.856379e+00  1.307667e+00  1.382409e+00   \n",
       "\n",
       "       ...           316           317           318           319  \\\n",
       "count  ...  7.372870e+05  7.372870e+05  7.372870e+05  7.372870e+05   \n",
       "mean   ... -5.049294e-16  1.342859e-15  4.511240e-15  1.046969e-14   \n",
       "std    ...  1.000001e+00  1.000001e+00  1.000001e+00  1.000001e+00   \n",
       "min    ... -1.758622e+00 -2.004888e+00 -1.765953e+00 -1.865184e+00   \n",
       "25%    ... -7.044515e-01 -7.758946e-01 -6.894056e-01 -6.892461e-01   \n",
       "50%    ... -1.670956e-03  1.458503e-01  2.829279e-02 -1.012771e-01   \n",
       "75%    ...  7.011096e-01  7.603469e-01  7.459912e-01  1.074661e+00   \n",
       "max    ...  1.755281e+00  1.682092e+00  1.822539e+00  1.074661e+00   \n",
       "\n",
       "                320           321           322           323           324  \\\n",
       "count  7.372870e+05  7.372870e+05  7.372870e+05  7.372870e+05  7.372870e+05   \n",
       "mean  -1.072407e-14 -3.167748e-15 -2.970597e-15  1.034187e-16 -1.857247e-15   \n",
       "std    1.000001e+00  1.000001e+00  1.000001e+00  1.000001e+00  1.000001e+00   \n",
       "min   -3.687915e+00 -2.137633e+00 -1.700551e+00 -1.043352e+00 -1.682096e+00   \n",
       "25%    1.835682e-02 -5.558155e-01 -2.796633e-01 -1.043352e+00 -7.570353e-01   \n",
       "50%    5.478243e-01 -5.558155e-01 -2.796633e-01  9.584489e-01  1.680258e-01   \n",
       "75%    5.478243e-01  4.987292e-01  4.307805e-01  9.584489e-01  1.093087e+00   \n",
       "max    5.478243e-01  2.080546e+00  1.851668e+00  9.584489e-01  5.718392e+00   \n",
       "\n",
       "                325  \n",
       "count  7.372870e+05  \n",
       "mean  -3.151907e-15  \n",
       "std    1.000001e+00  \n",
       "min   -1.258089e+00  \n",
       "25%   -1.258089e+00  \n",
       "50%    8.781378e-02  \n",
       "75%    7.607649e-01  \n",
       "max    1.433716e+00  \n",
       "\n",
       "[8 rows x 326 columns]"
      ]
     },
     "execution_count": 67,
     "metadata": {},
     "output_type": "execute_result"
    }
   ],
   "source": [
    "azdias_scaled.describe()"
   ]
  },
  {
   "cell_type": "code",
   "execution_count": 68,
   "metadata": {},
   "outputs": [
    {
     "data": {
      "text/html": [
       "<div>\n",
       "<style scoped>\n",
       "    .dataframe tbody tr th:only-of-type {\n",
       "        vertical-align: middle;\n",
       "    }\n",
       "\n",
       "    .dataframe tbody tr th {\n",
       "        vertical-align: top;\n",
       "    }\n",
       "\n",
       "    .dataframe thead th {\n",
       "        text-align: right;\n",
       "    }\n",
       "</style>\n",
       "<table border=\"1\" class=\"dataframe\">\n",
       "  <thead>\n",
       "    <tr style=\"text-align: right;\">\n",
       "      <th></th>\n",
       "      <th>0</th>\n",
       "      <th>1</th>\n",
       "      <th>2</th>\n",
       "      <th>3</th>\n",
       "      <th>4</th>\n",
       "      <th>5</th>\n",
       "      <th>6</th>\n",
       "      <th>7</th>\n",
       "      <th>8</th>\n",
       "      <th>9</th>\n",
       "      <th>...</th>\n",
       "      <th>316</th>\n",
       "      <th>317</th>\n",
       "      <th>318</th>\n",
       "      <th>319</th>\n",
       "      <th>320</th>\n",
       "      <th>321</th>\n",
       "      <th>322</th>\n",
       "      <th>323</th>\n",
       "      <th>324</th>\n",
       "      <th>325</th>\n",
       "    </tr>\n",
       "  </thead>\n",
       "  <tbody>\n",
       "    <tr>\n",
       "      <th>count</th>\n",
       "      <td>1.342460e+05</td>\n",
       "      <td>1.342460e+05</td>\n",
       "      <td>1.342460e+05</td>\n",
       "      <td>1.342460e+05</td>\n",
       "      <td>1.342460e+05</td>\n",
       "      <td>1.342460e+05</td>\n",
       "      <td>1.342460e+05</td>\n",
       "      <td>1.342460e+05</td>\n",
       "      <td>1.342460e+05</td>\n",
       "      <td>1.342460e+05</td>\n",
       "      <td>...</td>\n",
       "      <td>1.342460e+05</td>\n",
       "      <td>1.342460e+05</td>\n",
       "      <td>1.342460e+05</td>\n",
       "      <td>1.342460e+05</td>\n",
       "      <td>1.342460e+05</td>\n",
       "      <td>1.342460e+05</td>\n",
       "      <td>1.342460e+05</td>\n",
       "      <td>1.342460e+05</td>\n",
       "      <td>1.342460e+05</td>\n",
       "      <td>1.342460e+05</td>\n",
       "    </tr>\n",
       "    <tr>\n",
       "      <th>mean</th>\n",
       "      <td>6.529464e-17</td>\n",
       "      <td>3.317863e-15</td>\n",
       "      <td>-4.849289e-16</td>\n",
       "      <td>-1.808430e-15</td>\n",
       "      <td>4.725501e-15</td>\n",
       "      <td>3.529572e-16</td>\n",
       "      <td>2.508109e-15</td>\n",
       "      <td>1.528662e-15</td>\n",
       "      <td>3.957836e-15</td>\n",
       "      <td>-3.917103e-16</td>\n",
       "      <td>...</td>\n",
       "      <td>-5.535551e-16</td>\n",
       "      <td>3.145602e-17</td>\n",
       "      <td>-4.246728e-16</td>\n",
       "      <td>2.583138e-16</td>\n",
       "      <td>3.010280e-15</td>\n",
       "      <td>2.634512e-17</td>\n",
       "      <td>-1.961312e-15</td>\n",
       "      <td>2.371304e-15</td>\n",
       "      <td>-3.773180e-15</td>\n",
       "      <td>2.821006e-16</td>\n",
       "    </tr>\n",
       "    <tr>\n",
       "      <th>std</th>\n",
       "      <td>1.000004e+00</td>\n",
       "      <td>1.000004e+00</td>\n",
       "      <td>1.000004e+00</td>\n",
       "      <td>1.000004e+00</td>\n",
       "      <td>1.000004e+00</td>\n",
       "      <td>1.000004e+00</td>\n",
       "      <td>1.000004e+00</td>\n",
       "      <td>1.000004e+00</td>\n",
       "      <td>1.000004e+00</td>\n",
       "      <td>1.000004e+00</td>\n",
       "      <td>...</td>\n",
       "      <td>1.000004e+00</td>\n",
       "      <td>1.000004e+00</td>\n",
       "      <td>1.000004e+00</td>\n",
       "      <td>1.000004e+00</td>\n",
       "      <td>1.000004e+00</td>\n",
       "      <td>1.000004e+00</td>\n",
       "      <td>1.000004e+00</td>\n",
       "      <td>1.000004e+00</td>\n",
       "      <td>1.000004e+00</td>\n",
       "      <td>1.000004e+00</td>\n",
       "    </tr>\n",
       "    <tr>\n",
       "      <th>min</th>\n",
       "      <td>-1.733437e+00</td>\n",
       "      <td>-3.678580e-01</td>\n",
       "      <td>-3.477195e-01</td>\n",
       "      <td>-1.249603e-01</td>\n",
       "      <td>-2.653181e-01</td>\n",
       "      <td>-1.636359e+00</td>\n",
       "      <td>-1.347255e-01</td>\n",
       "      <td>-1.814141e+00</td>\n",
       "      <td>-1.557789e+00</td>\n",
       "      <td>-1.403989e+00</td>\n",
       "      <td>...</td>\n",
       "      <td>-1.150497e+00</td>\n",
       "      <td>-1.226384e+00</td>\n",
       "      <td>-9.615050e-01</td>\n",
       "      <td>-1.822137e+00</td>\n",
       "      <td>-7.381633e+00</td>\n",
       "      <td>-1.804932e+00</td>\n",
       "      <td>-1.073113e+00</td>\n",
       "      <td>-6.995274e-01</td>\n",
       "      <td>-3.314552e+00</td>\n",
       "      <td>-1.773220e+00</td>\n",
       "    </tr>\n",
       "    <tr>\n",
       "      <th>25%</th>\n",
       "      <td>-8.671151e-01</td>\n",
       "      <td>-3.678580e-01</td>\n",
       "      <td>-2.748025e-01</td>\n",
       "      <td>-1.249603e-01</td>\n",
       "      <td>-2.653181e-01</td>\n",
       "      <td>-9.218211e-01</td>\n",
       "      <td>-1.347255e-01</td>\n",
       "      <td>-8.228227e-01</td>\n",
       "      <td>-1.085126e+00</td>\n",
       "      <td>-9.826484e-01</td>\n",
       "      <td>...</td>\n",
       "      <td>-8.073028e-01</td>\n",
       "      <td>-8.769981e-01</td>\n",
       "      <td>-9.615050e-01</td>\n",
       "      <td>-1.275011e+00</td>\n",
       "      <td>2.739039e-01</td>\n",
       "      <td>-8.367601e-01</td>\n",
       "      <td>-1.073113e+00</td>\n",
       "      <td>-6.995274e-01</td>\n",
       "      <td>-6.707328e-01</td>\n",
       "      <td>-1.026315e+00</td>\n",
       "    </tr>\n",
       "    <tr>\n",
       "      <th>50%</th>\n",
       "      <td>8.142341e-04</td>\n",
       "      <td>-3.678580e-01</td>\n",
       "      <td>-2.748025e-01</td>\n",
       "      <td>-1.249603e-01</td>\n",
       "      <td>-2.653181e-01</td>\n",
       "      <td>-2.072833e-01</td>\n",
       "      <td>-1.347255e-01</td>\n",
       "      <td>1.684960e-01</td>\n",
       "      <td>3.328633e-01</td>\n",
       "      <td>-1.399676e-01</td>\n",
       "      <td>...</td>\n",
       "      <td>-1.209152e-01</td>\n",
       "      <td>-1.782271e-01</td>\n",
       "      <td>-5.059517e-02</td>\n",
       "      <td>3.663673e-01</td>\n",
       "      <td>2.739039e-01</td>\n",
       "      <td>-3.526740e-01</td>\n",
       "      <td>4.624907e-01</td>\n",
       "      <td>-6.995274e-01</td>\n",
       "      <td>6.511768e-01</td>\n",
       "      <td>4.674961e-01</td>\n",
       "    </tr>\n",
       "    <tr>\n",
       "      <th>75%</th>\n",
       "      <td>8.680393e-01</td>\n",
       "      <td>-3.678580e-01</td>\n",
       "      <td>-5.605137e-02</td>\n",
       "      <td>-1.249603e-01</td>\n",
       "      <td>-2.653181e-01</td>\n",
       "      <td>5.072544e-01</td>\n",
       "      <td>-1.347255e-01</td>\n",
       "      <td>1.159815e+00</td>\n",
       "      <td>8.055264e-01</td>\n",
       "      <td>7.027131e-01</td>\n",
       "      <td>...</td>\n",
       "      <td>9.086662e-01</td>\n",
       "      <td>5.205440e-01</td>\n",
       "      <td>4.048597e-01</td>\n",
       "      <td>9.134933e-01</td>\n",
       "      <td>2.739039e-01</td>\n",
       "      <td>6.154982e-01</td>\n",
       "      <td>4.624907e-01</td>\n",
       "      <td>1.429537e+00</td>\n",
       "      <td>6.511768e-01</td>\n",
       "      <td>4.674961e-01</td>\n",
       "    </tr>\n",
       "    <tr>\n",
       "      <th>max</th>\n",
       "      <td>1.727589e+00</td>\n",
       "      <td>3.818379e+00</td>\n",
       "      <td>3.778789e+01</td>\n",
       "      <td>3.939311e+01</td>\n",
       "      <td>1.665932e+01</td>\n",
       "      <td>1.336893e+01</td>\n",
       "      <td>3.247682e+01</td>\n",
       "      <td>6.116408e+00</td>\n",
       "      <td>1.278190e+00</td>\n",
       "      <td>1.966734e+00</td>\n",
       "      <td>...</td>\n",
       "      <td>2.281441e+00</td>\n",
       "      <td>2.966243e+00</td>\n",
       "      <td>3.593044e+00</td>\n",
       "      <td>9.134933e-01</td>\n",
       "      <td>2.739039e-01</td>\n",
       "      <td>2.067757e+00</td>\n",
       "      <td>2.765896e+00</td>\n",
       "      <td>1.429537e+00</td>\n",
       "      <td>7.260725e+00</td>\n",
       "      <td>1.214402e+00</td>\n",
       "    </tr>\n",
       "  </tbody>\n",
       "</table>\n",
       "<p>8 rows × 326 columns</p>\n",
       "</div>"
      ],
      "text/plain": [
       "                0             1             2             3             4    \\\n",
       "count  1.342460e+05  1.342460e+05  1.342460e+05  1.342460e+05  1.342460e+05   \n",
       "mean   6.529464e-17  3.317863e-15 -4.849289e-16 -1.808430e-15  4.725501e-15   \n",
       "std    1.000004e+00  1.000004e+00  1.000004e+00  1.000004e+00  1.000004e+00   \n",
       "min   -1.733437e+00 -3.678580e-01 -3.477195e-01 -1.249603e-01 -2.653181e-01   \n",
       "25%   -8.671151e-01 -3.678580e-01 -2.748025e-01 -1.249603e-01 -2.653181e-01   \n",
       "50%    8.142341e-04 -3.678580e-01 -2.748025e-01 -1.249603e-01 -2.653181e-01   \n",
       "75%    8.680393e-01 -3.678580e-01 -5.605137e-02 -1.249603e-01 -2.653181e-01   \n",
       "max    1.727589e+00  3.818379e+00  3.778789e+01  3.939311e+01  1.665932e+01   \n",
       "\n",
       "                5             6             7             8             9    \\\n",
       "count  1.342460e+05  1.342460e+05  1.342460e+05  1.342460e+05  1.342460e+05   \n",
       "mean   3.529572e-16  2.508109e-15  1.528662e-15  3.957836e-15 -3.917103e-16   \n",
       "std    1.000004e+00  1.000004e+00  1.000004e+00  1.000004e+00  1.000004e+00   \n",
       "min   -1.636359e+00 -1.347255e-01 -1.814141e+00 -1.557789e+00 -1.403989e+00   \n",
       "25%   -9.218211e-01 -1.347255e-01 -8.228227e-01 -1.085126e+00 -9.826484e-01   \n",
       "50%   -2.072833e-01 -1.347255e-01  1.684960e-01  3.328633e-01 -1.399676e-01   \n",
       "75%    5.072544e-01 -1.347255e-01  1.159815e+00  8.055264e-01  7.027131e-01   \n",
       "max    1.336893e+01  3.247682e+01  6.116408e+00  1.278190e+00  1.966734e+00   \n",
       "\n",
       "       ...           316           317           318           319  \\\n",
       "count  ...  1.342460e+05  1.342460e+05  1.342460e+05  1.342460e+05   \n",
       "mean   ... -5.535551e-16  3.145602e-17 -4.246728e-16  2.583138e-16   \n",
       "std    ...  1.000004e+00  1.000004e+00  1.000004e+00  1.000004e+00   \n",
       "min    ... -1.150497e+00 -1.226384e+00 -9.615050e-01 -1.822137e+00   \n",
       "25%    ... -8.073028e-01 -8.769981e-01 -9.615050e-01 -1.275011e+00   \n",
       "50%    ... -1.209152e-01 -1.782271e-01 -5.059517e-02  3.663673e-01   \n",
       "75%    ...  9.086662e-01  5.205440e-01  4.048597e-01  9.134933e-01   \n",
       "max    ...  2.281441e+00  2.966243e+00  3.593044e+00  9.134933e-01   \n",
       "\n",
       "                320           321           322           323           324  \\\n",
       "count  1.342460e+05  1.342460e+05  1.342460e+05  1.342460e+05  1.342460e+05   \n",
       "mean   3.010280e-15  2.634512e-17 -1.961312e-15  2.371304e-15 -3.773180e-15   \n",
       "std    1.000004e+00  1.000004e+00  1.000004e+00  1.000004e+00  1.000004e+00   \n",
       "min   -7.381633e+00 -1.804932e+00 -1.073113e+00 -6.995274e-01 -3.314552e+00   \n",
       "25%    2.739039e-01 -8.367601e-01 -1.073113e+00 -6.995274e-01 -6.707328e-01   \n",
       "50%    2.739039e-01 -3.526740e-01  4.624907e-01 -6.995274e-01  6.511768e-01   \n",
       "75%    2.739039e-01  6.154982e-01  4.624907e-01  1.429537e+00  6.511768e-01   \n",
       "max    2.739039e-01  2.067757e+00  2.765896e+00  1.429537e+00  7.260725e+00   \n",
       "\n",
       "                325  \n",
       "count  1.342460e+05  \n",
       "mean   2.821006e-16  \n",
       "std    1.000004e+00  \n",
       "min   -1.773220e+00  \n",
       "25%   -1.026315e+00  \n",
       "50%    4.674961e-01  \n",
       "75%    4.674961e-01  \n",
       "max    1.214402e+00  \n",
       "\n",
       "[8 rows x 326 columns]"
      ]
     },
     "execution_count": 68,
     "metadata": {},
     "output_type": "execute_result"
    }
   ],
   "source": [
    "customers_scaled.describe()"
   ]
  },
  {
   "cell_type": "code",
   "execution_count": 69,
   "metadata": {},
   "outputs": [],
   "source": [
    "#Saving both scaled datasets to pickle\n",
    "azdias_scaled.to_pickle('azdias_scaled.pkl')\n",
    "customers_scaled.to_pickle('customers_scaled.pkl')"
   ]
  },
  {
   "cell_type": "code",
   "execution_count": null,
   "metadata": {},
   "outputs": [],
   "source": []
  },
  {
   "cell_type": "markdown",
   "metadata": {},
   "source": [
    "**Part 1: Customer Segmentation Report**\n",
    "\n",
    "The main bulk of your analysis will come in this part of the project. Here, you should use unsupervised learning techniques to describe the relationship between the demographics of the company's existing customers and the general population of Germany. By the end of this part, you should be able to describe parts of the general population that are more likely to be part of the mail-order company's main customer base, and which parts of the general population are less so."
   ]
  },
  {
   "cell_type": "code",
   "execution_count": null,
   "metadata": {},
   "outputs": [],
   "source": [
    "# load cleaned and scaled azdias\n",
    "#azdias_scaled = pd.read_pickle('azdias_scaled.pkl')"
   ]
  },
  {
   "cell_type": "code",
   "execution_count": null,
   "metadata": {},
   "outputs": [],
   "source": [
    "# load cleaned and scaled customers\n",
    "#customers_scaled = pd.read_pickle('customers_scaled.pkl')"
   ]
  },
  {
   "cell_type": "markdown",
   "metadata": {},
   "source": [
    "**Reduce dimensionality - PCA**\n",
    "\n",
    "Instead of using all features, we will create dimenisoality-reduced datasets where we will only select top n components to use.\n",
    "\n",
    "PCA on AZDIAS"
   ]
  },
  {
   "cell_type": "code",
   "execution_count": 70,
   "metadata": {},
   "outputs": [
    {
     "name": "stdout",
     "output_type": "stream",
     "text": [
      "Eigenvectors \n",
      "[[-0.02753318  0.08463831  0.01683704 ... -0.00237292  0.00438431\n",
      "  -0.00111056]\n",
      " [ 0.07391359  0.0246559   0.00646461 ... -0.00457041 -0.00416583\n",
      "  -0.01353243]\n",
      " [ 0.07930139  0.02064253  0.00890085 ... -0.01589068  0.01136838\n",
      "  -0.01814566]\n",
      " ...\n",
      " [ 0.00599174  0.00543883  0.00803758 ... -0.00142569 -0.00231617\n",
      "  -0.00806761]\n",
      " [-0.03583517  0.0037783  -0.16345966 ...  0.02803092  0.0411274\n",
      "   0.03906303]\n",
      " [-0.07862779 -0.00244847 -0.04219119 ... -0.0281933  -0.01197221\n",
      "   0.0100099 ]]\n",
      "Eigenvalues \n",
      "[2.51260459e+01 1.72786473e+01 1.54728314e+01 1.18437041e+01\n",
      " 8.40481694e+00 7.09140893e+00 6.61954823e+00 5.76532886e+00\n",
      " 5.09939012e+00 4.73570150e+00 4.32746566e+00 3.87065949e+00\n",
      " 3.69975756e+00 3.52748416e+00 3.20937240e+00 3.04603481e+00\n",
      " 2.99153597e+00 2.87579390e+00 2.80937938e+00 2.66718853e+00\n",
      " 2.47106071e+00 2.42474789e+00 2.38817745e+00 2.30668865e+00\n",
      " 2.26176101e+00 2.22268538e+00 2.15102890e+00 2.10275499e+00\n",
      " 2.02587301e+00 1.96826805e+00 1.94272953e+00 1.91532457e+00\n",
      " 1.86389973e+00 1.82827307e+00 1.78133835e+00 1.73654744e+00\n",
      " 1.65255318e+00 1.62177102e+00 1.58247260e+00 1.56536745e+00\n",
      " 1.53377147e+00 1.49989739e+00 1.46563746e+00 1.45010158e+00\n",
      " 1.44412503e+00 1.38767281e+00 1.36842776e+00 1.34552816e+00\n",
      " 1.34031088e+00 1.31175656e+00 1.29038853e+00 1.27655547e+00\n",
      " 1.23868465e+00 1.26053584e+00 1.22475413e+00 1.20931863e+00\n",
      " 1.19524945e+00 1.18097750e+00 1.17397067e+00 1.15932995e+00\n",
      " 1.14353576e+00 1.12351102e+00 1.10520739e+00 1.08565942e+00\n",
      " 1.07690275e+00 1.07332715e+00 1.06757236e+00 1.04626028e+00\n",
      " 1.04429929e+00 1.03472636e+00 1.03120565e+00 1.01371200e+00\n",
      " 1.01027643e+00 9.89546050e-01 1.00000827e+00 9.99815835e-01\n",
      " 9.28186910e-01 9.28906106e-01 9.44445836e-01 9.66442408e-01\n",
      " 9.62641531e-01 9.60134713e-01 9.56019122e-01 9.51264984e-01\n",
      " 9.19606876e-01 9.14779950e-01 9.09304138e-01 9.12436537e-01\n",
      " 9.01188593e-01 8.90915918e-01 8.89110573e-01 8.86649851e-01\n",
      " 8.77564283e-01 8.69442024e-01 8.66628688e-01 8.61358371e-01\n",
      " 8.59026921e-01 8.53800222e-01 8.48327403e-01 8.43928202e-01\n",
      " 8.27419877e-01 8.37616720e-01 8.32351019e-01 8.34482480e-01\n",
      " 7.73070701e-01 7.79676352e-01 7.82462866e-01 8.20003684e-01\n",
      " 7.93847867e-01 8.00604639e-01 8.10481785e-01 8.08696680e-01\n",
      " 8.05915907e-01 8.04884680e-01 7.67441676e-01 7.59884928e-01\n",
      " 7.57311543e-01 7.50354076e-01 7.49254146e-01 7.42120792e-01\n",
      " 7.38993855e-01 7.31888804e-01 7.30295777e-01 7.29834135e-01\n",
      " 7.19685243e-01 7.18558220e-01 7.08778221e-01 7.06578103e-01\n",
      " 7.02861284e-01 6.99384031e-01 6.89786997e-01 6.71001710e-01\n",
      " 6.82552914e-01 6.80650694e-01 6.78387743e-01 6.76665132e-01\n",
      " 2.30944120e-02 5.92378483e-01 5.91209078e-01 6.07107473e-01\n",
      " 6.08885030e-01 6.15652270e-01 6.67748644e-01 6.64345314e-01\n",
      " 6.20091618e-01 6.24538268e-01 6.33935571e-01 6.29455102e-01\n",
      " 6.60074750e-01 6.49321407e-01 6.46373535e-01 6.43553600e-01\n",
      " 6.55095486e-01 6.56031859e-01 5.23330270e-01 5.30212387e-01\n",
      " 5.34397820e-01 5.38322638e-01 5.39265443e-01 5.83701868e-01\n",
      " 5.78104930e-01 5.79611131e-01 5.71611104e-01 5.54342137e-01\n",
      " 5.56142197e-01 5.61410824e-01 5.66125048e-01 5.14080022e-01\n",
      " 5.10383152e-01 5.02938986e-01 4.95567877e-01 4.89392604e-01\n",
      " 4.86105757e-01 4.46794772e-01 4.72341892e-01 4.52639764e-01\n",
      " 4.55453162e-01 4.61210570e-01 4.65048685e-01 5.63246698e-01\n",
      " 4.37708853e-02 5.38961858e-02 5.69316720e-02 6.49519543e-02\n",
      " 6.63510095e-02 4.24753981e-01 4.20295219e-01 4.23734812e-01\n",
      " 4.01075272e-01 4.09945681e-01 4.07391570e-01 4.06434749e-01\n",
      " 3.96141316e-01 3.94715615e-01 3.89945573e-01 3.79137359e-01\n",
      " 3.75866324e-01 3.35864914e-01 3.43550462e-01 3.47589117e-01\n",
      " 3.51573496e-01 3.57757330e-01 3.62856681e-01 3.69697653e-01\n",
      " 3.71810839e-01 6.86486036e-02 7.05220493e-02 7.23304358e-02\n",
      " 7.25161504e-02 8.42078128e-02 7.40823567e-02 8.22047028e-02\n",
      " 8.17060125e-02 8.04417540e-02 7.96425631e-02 7.54863681e-02\n",
      " 7.74642759e-02 7.61463302e-02 7.67496445e-02 7.64096585e-02\n",
      " 3.31078278e-01 3.31332076e-01 8.50903671e-02 8.73410572e-02\n",
      " 8.82991518e-02 3.22859217e-01 3.19654169e-01 3.14275253e-01\n",
      " 3.07257440e-01 3.12214888e-01 8.99054617e-02 9.48058068e-02\n",
      " 9.71880181e-02 9.67389335e-02 9.65679988e-02 9.87248977e-02\n",
      " 9.99766740e-02 1.03087820e-01 1.01849141e-01 3.16791229e-01\n",
      " 3.03469565e-01 3.02846074e-01 2.81392166e-01 2.83651293e-01\n",
      " 2.87302411e-01 2.89795364e-01 2.95738603e-01 2.97779720e-01\n",
      " 3.00171053e-01 2.72606063e-01 2.77643345e-01 2.77131429e-01\n",
      " 2.64028007e-01 2.60861245e-01 2.54240894e-01 2.54887307e-01\n",
      " 2.51386352e-01 1.07916060e-01 1.09739741e-01 1.10887594e-01\n",
      " 1.12460393e-01 1.14729502e-01 1.14024060e-01 1.16141948e-01\n",
      " 1.18490780e-01 1.20484248e-01 2.50055781e-01 2.36941926e-01\n",
      " 2.35002633e-01 2.40793140e-01 2.29016727e-01 2.12886923e-01\n",
      " 2.09489344e-01 2.07057738e-01 2.26921523e-01 2.23040904e-01\n",
      " 2.19514045e-01 2.01706001e-01 1.24134032e-01 1.11738476e-01\n",
      " 1.34644647e-01 1.32845777e-01 1.38683521e-01 1.81826822e-01\n",
      " 1.42156503e-01 1.51266621e-01 1.53675753e-01 1.78477407e-01\n",
      " 1.75801245e-01 1.70840517e-01 1.66968998e-01 1.64089019e-01\n",
      " 1.47555632e-01 1.46436000e-01 1.45076961e-01 2.43395898e-01\n",
      " 2.47915573e-01 2.45872067e-01 1.25636738e-01 1.30120765e-01\n",
      " 1.31005847e-01 2.21257000e-01 2.18183166e-01 1.41019304e-01\n",
      " 1.59176688e-01 1.98614552e-01 2.04825351e-01 1.69214099e-01\n",
      " 1.97792813e-01 1.90714305e-01 1.85067449e-01 1.94629451e-01\n",
      " 1.62519479e-01 1.76861823e-01 1.26380974e-01 2.25841311e-01\n",
      " 2.43727252e-01 1.28332292e-01 1.27241057e-01 1.27351644e-01\n",
      " 1.45707058e-01 1.58663864e-01 1.61998636e-01 1.86845049e-01\n",
      " 1.89381907e-01 1.92515565e-01]\n"
     ]
    }
   ],
   "source": [
    "# perform eigendecomposition on covariance matrix\n",
    "\n",
    "cov_mat = np.cov(azdias_scaled.T)\n",
    "\n",
    "eig_vals, eig_vecs = np.linalg.eig(cov_mat)\n",
    "\n",
    "print('Eigenvectors \\n%s' %eig_vecs)\n",
    "print('Eigenvalues \\n%s' %eig_vals)"
   ]
  },
  {
   "cell_type": "code",
   "execution_count": 74,
   "metadata": {},
   "outputs": [
    {
     "data": {
      "image/png": "[encoded data removed]",
      "text/plain": [
       "<Figure size 1296x432 with 1 Axes>"
      ]
     },
     "metadata": {
      "needs_background": "light"
     },
     "output_type": "display_data"
    }
   ],
   "source": [
    "# plot explained variance on AZDIAS\n",
    "\n",
    "pca = PCA()\n",
    "azdias_pca = pca.fit_transform(azdias_scaled)\n",
    "plt.figure(figsize=(18,6))\n",
    "plt.plot(np.cumsum(pca.explained_variance_ratio_))\n",
    "plt.title('Explained variance by principal components (AZDIAS)')\n",
    "plt.xlabel('Number of principle components')\n",
    "plt.ylabel('Explained variance')\n",
    "\n",
    "plt.show()"
   ]
  },
  {
   "cell_type": "code",
   "execution_count": 75,
   "metadata": {},
   "outputs": [
    {
     "name": "stdout",
     "output_type": "stream",
     "text": [
      "Eigenvectors \n",
      "[[ 3.72421187e-05 -6.50256748e-04  3.54058790e-04 ...  1.42600115e-04\n",
      "   6.39414643e-04  1.16797658e-04]\n",
      " [-3.18567995e-02  1.52487334e-02  2.64467866e-02 ...  7.11777147e-03\n",
      "   4.68031929e-03  1.26039841e-03]\n",
      " [-8.40570340e-02  2.17994262e-02  1.73943632e-02 ...  9.31442051e-02\n",
      "  -2.85509700e-01 -7.13809502e-02]\n",
      " ...\n",
      " [-4.80383127e-02  4.07069426e-02  2.63132610e-02 ... -6.29244531e-03\n",
      "  -7.52640064e-04 -9.16414041e-03]\n",
      " [-2.43804483e-04 -1.89522921e-02 -1.30046477e-01 ...  1.05014693e-01\n",
      "   1.58382936e-01 -4.26234901e-02]\n",
      " [ 2.92799751e-02 -6.40449448e-02 -4.20151588e-02 ... -1.41956869e-02\n",
      "  -4.31984639e-03  2.71151333e-03]]\n",
      "Eigenvalues \n",
      "[20.9797106  18.55427504 13.39947845  8.91504149  7.17773088  6.69539484\n",
      "  6.33309807  5.6749331   4.8894193   4.67905178  4.33808044  4.09108427\n",
      "  3.69041791  3.50840757  3.33216032  3.17233153  3.12936939  2.92958235\n",
      "  2.85396097  2.73453864  2.70386035  2.59444802  2.5400137   2.49223875\n",
      "  2.4606813   2.32244401  2.26152678  2.20034766  2.06992343  2.01881343\n",
      "  2.01000344  1.98152865  1.9688155   1.9164394   1.8469838   1.76909578\n",
      "  1.74186165  1.68037342  1.64857198  1.59700224  1.54586278  1.51125442\n",
      "  1.50609813  1.49387983  1.46285536  1.45347408  1.42271935  1.39336358\n",
      "  1.37607985  1.36656725  1.34774566  1.32426319  1.31099129  1.27050107\n",
      "  1.25890353  1.24954087  1.24179961  1.19858682  1.21394717  1.17194468\n",
      "  1.16022846  1.1610316   1.13592021  1.12380874  1.11243848  1.10154501\n",
      "  1.08812786  1.07803996  1.06797682  1.0607846   1.04569581  1.04178306\n",
      "  1.0282552   1.0189215   1.01694127  1.01346957  1.00213298  1.00040865\n",
      "  0.98761422  0.99512167  0.9943565   0.97797431  0.97262894  0.96144851\n",
      "  0.96006721  0.93109155  0.93406344  0.93669453  0.94584645  0.94971357\n",
      "  0.92691964  0.91868391  0.90967647  0.90848749  0.90402798  0.89634355\n",
      "  0.84946497  0.85341439  0.8553438   0.88791554  0.88700098  0.88085237\n",
      "  0.86356432  0.87540553  0.87078627  0.87040496  0.80030289  0.80599548\n",
      "  0.80939019  0.81285622  0.82120013  0.82527646  0.82776097  0.83524609\n",
      "  0.83817836  0.84151347  0.84509919  0.79428015  0.75410093  0.76318991\n",
      "  0.78559113  0.78325267  0.76927974  0.77216129  0.77746652  0.77619814\n",
      "  0.0240091   0.7498423   0.74193308  0.74313341  0.73957523  0.73421492\n",
      "  0.70374463  0.72906873  0.72392023  0.71182262  0.71705299  0.71915864\n",
      "  0.04623264  0.6122982   0.62027503  0.63410884  0.62907447  0.63030123\n",
      "  0.64076799  0.64548207  0.71344267  0.65532844  0.65825264  0.66275453\n",
      "  0.69278922  0.68846897  0.6978008   0.68410555  0.66874086  0.67956676\n",
      "  0.67441477  0.55611935  0.54942328  0.54623765  0.56484837  0.57531797\n",
      "  0.58172247  0.58447424  0.58885281  0.59121324  0.60100326  0.59847766\n",
      "  0.59787743  0.48306055  0.49271246  0.52690863  0.5243031   0.51667952\n",
      "  0.5065769   0.50536126  0.50301883  0.67326057  0.05661524  0.46911591\n",
      "  0.4736218   0.4771649   0.07574308  0.07695125  0.07753262  0.07937465\n",
      "  0.07907114  0.4602528   0.44990497  0.44389743  0.43886742  0.43360134\n",
      "  0.4283119   0.42183279  0.41473775  0.41087775  0.40854804  0.40073189\n",
      "  0.39984036  0.39493427  0.38752272  0.38141602  0.38318367  0.08215184\n",
      "  0.08324768  0.08248461  0.083849    0.08654147  0.08798679  0.08943132\n",
      "  0.09090962  0.09328637  0.09259576  0.09625092  0.09525329  0.09517489\n",
      "  0.37613305  0.09727577  0.09937574  0.09896448  0.37042003  0.3626515\n",
      "  0.10613842  0.10464676  0.10128722  0.10319023  0.10209569  0.3591795\n",
      "  0.35533543  0.35245749  0.34735284  0.34460893  0.34587421  0.10707224\n",
      "  0.10854788  0.11081889  0.11276765  0.11416908  0.34153901  0.33829753\n",
      "  0.33595367  0.33468954  0.32743263  0.32108385  0.32274807  0.11726213\n",
      "  0.1182799   0.12489082  0.12149036  0.12050605  0.31606287  0.31499326\n",
      "  0.30542632  0.30834911  0.29955763  0.29645311  0.2897371   0.24600297\n",
      "  0.23973121  0.23519675  0.23613149  0.1260625   0.13927964  0.14129983\n",
      "  0.13501987  0.12918585  0.13303162  0.13253368  0.31349616  0.28692455\n",
      "  0.2818551   0.29482527  0.24854723  0.25872894  0.25374967  0.22912693\n",
      "  0.22570105  0.22040915  0.1479485   0.14504291  0.18078749  0.17682708\n",
      "  0.17420553  0.15277457  0.3074763   0.26237849  0.25302153  0.21774775\n",
      "  0.11978522  0.18327185  0.13123844  0.16091616  0.15839685  0.1459524\n",
      "  0.17187672  0.15470773  0.2761724   0.27755748  0.27150203  0.26981964\n",
      "  0.26102496  0.1300767   0.21447963  0.20599788  0.21076845  0.20124065\n",
      "  0.19843713  0.19114864  0.19212     0.1881176   0.16886305  0.16615778\n",
      "  0.16712501  0.21685043  0.20928809  0.27343274  0.14554173  0.28434856\n",
      "  0.27028     0.15434893  0.16408433  0.17004742  0.18741175  0.19495244\n",
      "  0.2002015   0.20859258]\n"
     ]
    }
   ],
   "source": [
    "# perform eigendecomposition on covariance matrix\n",
    "\n",
    "cov_mat_cus = np.cov(customers_scaled.T)\n",
    "\n",
    "eig_vals_cus, eig_vecs_cus = np.linalg.eig(cov_mat_cus)\n",
    "\n",
    "print('Eigenvectors \\n%s' %eig_vecs_cus)\n",
    "print('Eigenvalues \\n%s' %eig_vals_cus)"
   ]
  },
  {
   "cell_type": "code",
   "execution_count": 76,
   "metadata": {},
   "outputs": [
    {
     "data": {
      "image/png": "[encoded data removed]",
      "text/plain": [
       "<Figure size 1296x432 with 1 Axes>"
      ]
     },
     "metadata": {
      "needs_background": "light"
     },
     "output_type": "display_data"
    }
   ],
   "source": [
    "# plot explained variance on CUSTOMERS\n",
    "\n",
    "pca = PCA()\n",
    "customers_pca = pca.fit_transform(customers_scaled)\n",
    "\n",
    "plt.figure(figsize=(18,6))\n",
    "plt.plot(np.cumsum(pca.explained_variance_ratio_))\n",
    "plt.title('Explained variance by principal components (CUSTOMERS)')\n",
    "plt.xlabel('Number of principle components')\n",
    "plt.ylabel('Explained variance')\n",
    "\n",
    "plt.show()"
   ]
  },
  {
   "cell_type": "markdown",
   "metadata": {},
   "source": [
    "The two plots above display cumulative explained data variance by principle components.\n",
    "\n",
    "We want to keep a small number of features while retaining high explained data variance. To decide how many top components to include, it's helpful to look at how much data variance the components capture. From the plots, we can conclude that 150 features can explain around 85% data variance. Let's check explained data variance by 160 principle components."
   ]
  },
  {
   "cell_type": "code",
   "execution_count": 85,
   "metadata": {},
   "outputs": [],
   "source": [
    "def reduce_dimension(df, n=160): \n",
    "    \n",
    "    pca = PCA(n_components=n)\n",
    "    \n",
    "    df_160 = pca.fit_transform(df)\n",
    "    df_160 = pd.DataFrame(df_160)\n",
    "    \n",
    "    print('Explained data variance by top 160 principal components is equal to ' \n",
    "          + str(pca.explained_variance_ratio_.sum())) \n",
    "    \n",
    "    return pca, df_160"
   ]
  },
  {
   "cell_type": "code",
   "execution_count": 86,
   "metadata": {},
   "outputs": [
    {
     "name": "stdout",
     "output_type": "stream",
     "text": [
      "Explained data variance by top 160 principal components is equal to 0.8788451625006573\n"
     ]
    }
   ],
   "source": [
    "pca_azdias, azdias_pca_160 = reduce_dimension(azdias_scaled)"
   ]
  },
  {
   "cell_type": "code",
   "execution_count": 87,
   "metadata": {},
   "outputs": [
    {
     "name": "stdout",
     "output_type": "stream",
     "text": [
      "Explained data variance by top 160 principal components is equal to 0.8691326467225284\n"
     ]
    }
   ],
   "source": [
    "pca_customers, customers_pca_160 = reduce_dimension(customers_scaled)"
   ]
  },
  {
   "cell_type": "code",
   "execution_count": 88,
   "metadata": {},
   "outputs": [
    {
     "data": {
      "text/plain": [
       "((737287, 160), (134246, 160))"
      ]
     },
     "execution_count": 88,
     "metadata": {},
     "output_type": "execute_result"
    }
   ],
   "source": [
    "azdias_pca_160.shape , customers_pca_160.shape"
   ]
  },
  {
   "cell_type": "markdown",
   "metadata": {},
   "source": [
    "Now, both of the two datasets have been reduced to only contain 160 principle components"
   ]
  },
  {
   "cell_type": "markdown",
   "metadata": {},
   "source": [
    "## UNSUPERVISED TECH - SEGMENT CUSTOMERS - K-MEANS CLUSTERING\n",
    "\n",
    "Reducing the number of dimensions follows clustering the general popilation into segments.\n",
    "\n",
    "We want to select a k such that data points in a single cluster are close together but that there are enough clusters to effectively separate the data. After trying several values for k, the centroid distance typically reaches some \"elbow\"; it stops decreasing at a sharp rate and this indicates a good value of k."
   ]
  },
  {
   "cell_type": "code",
   "execution_count": null,
   "metadata": {},
   "outputs": [],
   "source": []
  },
  {
   "cell_type": "code",
   "execution_count": 89,
   "metadata": {},
   "outputs": [],
   "source": [
    "def apply_kmeans(data, n_clusters):\n",
    "\n",
    "    \"\"\"\n",
    "    Calculate the average within-cluster distance given a number of cluster\n",
    "    \"\"\"\n",
    "    \n",
    "    kmeans = KMeans(n_clusters=n_clusters)\n",
    "    \n",
    "    model = kmeans.fit(data)\n",
    "    \n",
    "    return abs(model.score(data))"
   ]
  },
  {
   "cell_type": "code",
   "execution_count": 94,
   "metadata": {},
   "outputs": [
    {
     "name": "stdout",
     "output_type": "stream",
     "text": [
      "Wall time: 1min 8s\n"
     ]
    }
   ],
   "source": [
    "%%time\n",
    "within_cluster_distances =[]\n",
    "for n_cluster in range(2, 21):\n",
    "     within_cluster_distances.append(apply_kmeans(azdias_pca_160.sample(20000), n_cluster))"
   ]
  },
  {
   "cell_type": "code",
   "execution_count": 95,
   "metadata": {},
   "outputs": [
    {
     "data": {
      "image/png": "[encoded data removed]",
      "text/plain": [
       "<Figure size 1296x360 with 1 Axes>"
      ]
     },
     "metadata": {
      "needs_background": "light"
     },
     "output_type": "display_data"
    }
   ],
   "source": [
    "clusters = [2,3,4,5,6,7,8,9,10,11,12,13,14,15,16,17,18,19,20]\n",
    "plt.figure(figsize=(18,5))\n",
    "plt.plot(clusters, within_cluster_distances, \\\n",
    "        linestyle= \"--\",marker = \"x\", color=\"blue\")\n",
    "plt.xticks(ticks=clusters)\n",
    "plt.xlabel('Number of clusters')\n",
    "plt.ylabel('Average distance to centroid')\n",
    "plt.title('Elbow graph')\n",
    "\n",
    "plt.show()"
   ]
  },
  {
   "cell_type": "markdown",
   "metadata": {},
   "source": [
    "From the elbow graph, we can see that within-cluster distances decrease at a high rate until reaching 11 clusters. This indicates that there is enough separation to distinguish the data points in each cluster, but also that we included enough clusters so that the data points aren’t extremely far away from each cluster. Thus, we come to the conclusion that 11 is the optimal number of clusters for AZDIAS."
   ]
  },
  {
   "cell_type": "code",
   "execution_count": 109,
   "metadata": {},
   "outputs": [],
   "source": [
    "n_clusters = 11\n",
    "\n",
    "kmeans = KMeans(n_clusters=n_clusters)"
   ]
  },
  {
   "cell_type": "markdown",
   "metadata": {},
   "source": [
    "**AZDIAS (general population)**"
   ]
  },
  {
   "cell_type": "code",
   "execution_count": 110,
   "metadata": {},
   "outputs": [],
   "source": [
    "azdias_clusters = kmeans.fit_predict(azdias_pca_160)"
   ]
  },
  {
   "cell_type": "code",
   "execution_count": 111,
   "metadata": {},
   "outputs": [
    {
     "data": {
      "text/plain": [
       "array([4, 7, 6, ..., 7, 4, 6])"
      ]
     },
     "execution_count": 111,
     "metadata": {},
     "output_type": "execute_result"
    }
   ],
   "source": [
    "azdias_clusters"
   ]
  },
  {
   "cell_type": "markdown",
   "metadata": {},
   "source": [
    "**CUSTOMERS (customer Base)**"
   ]
  },
  {
   "cell_type": "code",
   "execution_count": 112,
   "metadata": {},
   "outputs": [],
   "source": [
    "customers_clusters = kmeans.fit_predict(customers_pca_160)"
   ]
  },
  {
   "cell_type": "code",
   "execution_count": 113,
   "metadata": {},
   "outputs": [
    {
     "data": {
      "text/plain": [
       "array([6, 1, 9, ..., 7, 1, 4])"
      ]
     },
     "execution_count": 113,
     "metadata": {},
     "output_type": "execute_result"
    }
   ],
   "source": [
    "customers_clusters"
   ]
  },
  {
   "cell_type": "code",
   "execution_count": null,
   "metadata": {},
   "outputs": [],
   "source": []
  },
  {
   "cell_type": "code",
   "execution_count": 114,
   "metadata": {},
   "outputs": [],
   "source": [
    "# save data\n",
    "azdias_clustered = pd.DataFrame(azdias_clusters, columns = ['Kmeans_clusters'])\n",
    "azdias_clustered.to_pickle('azdias_clustered.pkl')\n",
    "\n",
    "customers_clustered = pd.DataFrame(customers_clusters, columns = ['Kmeans_clusters'])\n",
    "customers_clustered.to_pickle('customers_clustered.pkl')"
   ]
  },
  {
   "cell_type": "code",
   "execution_count": null,
   "metadata": {},
   "outputs": [],
   "source": []
  },
  {
   "cell_type": "code",
   "execution_count": 115,
   "metadata": {},
   "outputs": [],
   "source": [
    "cluster_info = pd.DataFrame([])\n",
    "\n",
    "cluster_info[\"Population\"] = pd.Series(azdias_clusters).value_counts().sort_index()\n",
    "cluster_info[\"Customer\"] = pd.Series(customers_clusters).value_counts().sort_index()\n",
    "cluster_info.reset_index(inplace=True)\n",
    "cluster_info.rename(columns={\"index\":\"Cluster\"}, inplace=True)"
   ]
  },
  {
   "cell_type": "code",
   "execution_count": 116,
   "metadata": {},
   "outputs": [
    {
     "data": {
      "text/html": [
       "<div>\n",
       "<style scoped>\n",
       "    .dataframe tbody tr th:only-of-type {\n",
       "        vertical-align: middle;\n",
       "    }\n",
       "\n",
       "    .dataframe tbody tr th {\n",
       "        vertical-align: top;\n",
       "    }\n",
       "\n",
       "    .dataframe thead th {\n",
       "        text-align: right;\n",
       "    }\n",
       "</style>\n",
       "<table border=\"1\" class=\"dataframe\">\n",
       "  <thead>\n",
       "    <tr style=\"text-align: right;\">\n",
       "      <th></th>\n",
       "      <th>Cluster</th>\n",
       "      <th>Population</th>\n",
       "      <th>Customer</th>\n",
       "    </tr>\n",
       "  </thead>\n",
       "  <tbody>\n",
       "    <tr>\n",
       "      <th>0</th>\n",
       "      <td>0</td>\n",
       "      <td>47173</td>\n",
       "      <td>9557</td>\n",
       "    </tr>\n",
       "    <tr>\n",
       "      <th>1</th>\n",
       "      <td>1</td>\n",
       "      <td>88128</td>\n",
       "      <td>14990</td>\n",
       "    </tr>\n",
       "    <tr>\n",
       "      <th>2</th>\n",
       "      <td>2</td>\n",
       "      <td>60640</td>\n",
       "      <td>3542</td>\n",
       "    </tr>\n",
       "    <tr>\n",
       "      <th>3</th>\n",
       "      <td>3</td>\n",
       "      <td>54057</td>\n",
       "      <td>9057</td>\n",
       "    </tr>\n",
       "    <tr>\n",
       "      <th>4</th>\n",
       "      <td>4</td>\n",
       "      <td>67074</td>\n",
       "      <td>11660</td>\n",
       "    </tr>\n",
       "    <tr>\n",
       "      <th>5</th>\n",
       "      <td>5</td>\n",
       "      <td>50431</td>\n",
       "      <td>10525</td>\n",
       "    </tr>\n",
       "    <tr>\n",
       "      <th>6</th>\n",
       "      <td>6</td>\n",
       "      <td>88834</td>\n",
       "      <td>19810</td>\n",
       "    </tr>\n",
       "    <tr>\n",
       "      <th>7</th>\n",
       "      <td>7</td>\n",
       "      <td>88094</td>\n",
       "      <td>16314</td>\n",
       "    </tr>\n",
       "    <tr>\n",
       "      <th>8</th>\n",
       "      <td>8</td>\n",
       "      <td>71793</td>\n",
       "      <td>15841</td>\n",
       "    </tr>\n",
       "    <tr>\n",
       "      <th>9</th>\n",
       "      <td>9</td>\n",
       "      <td>52893</td>\n",
       "      <td>17552</td>\n",
       "    </tr>\n",
       "    <tr>\n",
       "      <th>10</th>\n",
       "      <td>10</td>\n",
       "      <td>68170</td>\n",
       "      <td>5398</td>\n",
       "    </tr>\n",
       "  </tbody>\n",
       "</table>\n",
       "</div>"
      ],
      "text/plain": [
       "    Cluster  Population  Customer\n",
       "0         0       47173      9557\n",
       "1         1       88128     14990\n",
       "2         2       60640      3542\n",
       "3         3       54057      9057\n",
       "4         4       67074     11660\n",
       "5         5       50431     10525\n",
       "6         6       88834     19810\n",
       "7         7       88094     16314\n",
       "8         8       71793     15841\n",
       "9         9       52893     17552\n",
       "10       10       68170      5398"
      ]
     },
     "execution_count": 116,
     "metadata": {},
     "output_type": "execute_result"
    }
   ],
   "source": [
    "cluster_info"
   ]
  },
  {
   "cell_type": "code",
   "execution_count": 117,
   "metadata": {},
   "outputs": [],
   "source": [
    "cluster_info['%General population'] = (cluster_info['Population'] / (cluster_info['Population'].sum()) * 100).round(2)\n",
    "cluster_info['%Customer base'] = (cluster_info['Customer'] / (cluster_info['Customer'].sum()) * 100).round(2)"
   ]
  },
  {
   "cell_type": "code",
   "execution_count": 121,
   "metadata": {},
   "outputs": [
    {
     "data": {
      "image/png": "[encoded data removed]",
      "text/plain": [
       "<Figure size 1296x432 with 1 Axes>"
      ]
     },
     "metadata": {
      "needs_background": "light"
     },
     "output_type": "display_data"
    }
   ],
   "source": [
    "fig = plt.figure(figsize=(18,6))\n",
    "\n",
    "ax = fig.add_subplot(111)\n",
    "\n",
    "ax = cluster_info['%General population'].plot(x=cluster_info['Cluster'], \\\n",
    "                                                  width=-0.3, align='edge', \\\n",
    "                                                  color='blue', kind='bar', position=0)\n",
    "ax = cluster_info['%Customer base'].plot(kind='bar', color='red', width = 0.3, align='edge', position=1)\n",
    "\n",
    "ax.set_xlabel('Cluster number', fontsize=15) \n",
    "ax.set_ylabel('%General population/customer case', fontsize=15)\n",
    "\n",
    "ax.xaxis.set(ticklabels=range(11))\n",
    "ax.tick_params(axis = 'x', which = 'major', labelsize = 13)\n",
    "ax.margins(x=0.5,y=0.1)\n",
    "\n",
    "plt.legend(('General population (AZDIAS)', 'Customer base (CUSTOMERS)'), fontsize=9)\n",
    "plt.title(('%General population and customer base in clusters'))\n",
    "\n",
    "plt.show()"
   ]
  },
  {
   "cell_type": "markdown",
   "metadata": {},
   "source": [
    "We can clearly see in the above plot that some clusters are over represented by customers whereas others are not. This gives us an idea of better targetting future customers."
   ]
  },
  {
   "cell_type": "markdown",
   "metadata": {},
   "source": [
    "## SUPERVISED TECH"
   ]
  },
  {
   "cell_type": "markdown",
   "metadata": {},
   "source": [
    "Now that you've found which parts of the population are more likely to be customers of the mail-order company, it's time to build a prediction model. Each of the rows in the \"MAILOUT\" data files represents an individual that was targeted for a mailout campaign. Ideally, we should be able to use the demographic information from each individual to decide whether or not it will be worth it to include that person in the campaign.\n",
    "\n",
    "The \"MAILOUT\" data has been split into two approximately equal parts, each with almost 43 000 data rows. In this part, you can verify your model with the \"TRAIN\" partition, which includes a column, \"RESPONSE\", that states whether or not a person became a customer of the company following the campaign. In the next part, you'll need to create predictions on the \"TEST\" partition, where the \"RESPONSE\" column has been withheld."
   ]
  },
  {
   "cell_type": "code",
   "execution_count": 124,
   "metadata": {},
   "outputs": [
    {
     "data": {
      "text/html": [
       "<div>\n",
       "<style scoped>\n",
       "    .dataframe tbody tr th:only-of-type {\n",
       "        vertical-align: middle;\n",
       "    }\n",
       "\n",
       "    .dataframe tbody tr th {\n",
       "        vertical-align: top;\n",
       "    }\n",
       "\n",
       "    .dataframe thead th {\n",
       "        text-align: right;\n",
       "    }\n",
       "</style>\n",
       "<table border=\"1\" class=\"dataframe\">\n",
       "  <thead>\n",
       "    <tr style=\"text-align: right;\">\n",
       "      <th></th>\n",
       "      <th>LNR</th>\n",
       "      <th>AGER_TYP</th>\n",
       "      <th>AKT_DAT_KL</th>\n",
       "      <th>ALTER_HH</th>\n",
       "      <th>ALTER_KIND1</th>\n",
       "      <th>ALTER_KIND2</th>\n",
       "      <th>ALTER_KIND3</th>\n",
       "      <th>ALTER_KIND4</th>\n",
       "      <th>ALTERSKATEGORIE_FEIN</th>\n",
       "      <th>ANZ_HAUSHALTE_AKTIV</th>\n",
       "      <th>...</th>\n",
       "      <th>VK_DHT4A</th>\n",
       "      <th>VK_DISTANZ</th>\n",
       "      <th>VK_ZG11</th>\n",
       "      <th>W_KEIT_KIND_HH</th>\n",
       "      <th>WOHNDAUER_2008</th>\n",
       "      <th>WOHNLAGE</th>\n",
       "      <th>ZABEOTYP</th>\n",
       "      <th>RESPONSE</th>\n",
       "      <th>ANREDE_KZ</th>\n",
       "      <th>ALTERSKATEGORIE_GROB</th>\n",
       "    </tr>\n",
       "  </thead>\n",
       "  <tbody>\n",
       "    <tr>\n",
       "      <th>0</th>\n",
       "      <td>1763</td>\n",
       "      <td>2</td>\n",
       "      <td>1.0</td>\n",
       "      <td>8.0</td>\n",
       "      <td>NaN</td>\n",
       "      <td>NaN</td>\n",
       "      <td>NaN</td>\n",
       "      <td>NaN</td>\n",
       "      <td>8.0</td>\n",
       "      <td>15.0</td>\n",
       "      <td>...</td>\n",
       "      <td>5.0</td>\n",
       "      <td>2.0</td>\n",
       "      <td>1.0</td>\n",
       "      <td>6.0</td>\n",
       "      <td>9.0</td>\n",
       "      <td>3.0</td>\n",
       "      <td>3</td>\n",
       "      <td>0</td>\n",
       "      <td>2</td>\n",
       "      <td>4</td>\n",
       "    </tr>\n",
       "    <tr>\n",
       "      <th>1</th>\n",
       "      <td>1771</td>\n",
       "      <td>1</td>\n",
       "      <td>4.0</td>\n",
       "      <td>13.0</td>\n",
       "      <td>NaN</td>\n",
       "      <td>NaN</td>\n",
       "      <td>NaN</td>\n",
       "      <td>NaN</td>\n",
       "      <td>13.0</td>\n",
       "      <td>1.0</td>\n",
       "      <td>...</td>\n",
       "      <td>1.0</td>\n",
       "      <td>2.0</td>\n",
       "      <td>1.0</td>\n",
       "      <td>4.0</td>\n",
       "      <td>9.0</td>\n",
       "      <td>7.0</td>\n",
       "      <td>1</td>\n",
       "      <td>0</td>\n",
       "      <td>2</td>\n",
       "      <td>3</td>\n",
       "    </tr>\n",
       "    <tr>\n",
       "      <th>2</th>\n",
       "      <td>1776</td>\n",
       "      <td>1</td>\n",
       "      <td>1.0</td>\n",
       "      <td>9.0</td>\n",
       "      <td>NaN</td>\n",
       "      <td>NaN</td>\n",
       "      <td>NaN</td>\n",
       "      <td>NaN</td>\n",
       "      <td>7.0</td>\n",
       "      <td>0.0</td>\n",
       "      <td>...</td>\n",
       "      <td>6.0</td>\n",
       "      <td>4.0</td>\n",
       "      <td>2.0</td>\n",
       "      <td>NaN</td>\n",
       "      <td>9.0</td>\n",
       "      <td>2.0</td>\n",
       "      <td>3</td>\n",
       "      <td>0</td>\n",
       "      <td>1</td>\n",
       "      <td>4</td>\n",
       "    </tr>\n",
       "    <tr>\n",
       "      <th>3</th>\n",
       "      <td>1460</td>\n",
       "      <td>2</td>\n",
       "      <td>1.0</td>\n",
       "      <td>6.0</td>\n",
       "      <td>NaN</td>\n",
       "      <td>NaN</td>\n",
       "      <td>NaN</td>\n",
       "      <td>NaN</td>\n",
       "      <td>6.0</td>\n",
       "      <td>4.0</td>\n",
       "      <td>...</td>\n",
       "      <td>8.0</td>\n",
       "      <td>11.0</td>\n",
       "      <td>11.0</td>\n",
       "      <td>6.0</td>\n",
       "      <td>9.0</td>\n",
       "      <td>1.0</td>\n",
       "      <td>3</td>\n",
       "      <td>0</td>\n",
       "      <td>2</td>\n",
       "      <td>4</td>\n",
       "    </tr>\n",
       "    <tr>\n",
       "      <th>4</th>\n",
       "      <td>1783</td>\n",
       "      <td>2</td>\n",
       "      <td>1.0</td>\n",
       "      <td>9.0</td>\n",
       "      <td>NaN</td>\n",
       "      <td>NaN</td>\n",
       "      <td>NaN</td>\n",
       "      <td>NaN</td>\n",
       "      <td>9.0</td>\n",
       "      <td>53.0</td>\n",
       "      <td>...</td>\n",
       "      <td>2.0</td>\n",
       "      <td>2.0</td>\n",
       "      <td>1.0</td>\n",
       "      <td>6.0</td>\n",
       "      <td>9.0</td>\n",
       "      <td>3.0</td>\n",
       "      <td>3</td>\n",
       "      <td>0</td>\n",
       "      <td>1</td>\n",
       "      <td>3</td>\n",
       "    </tr>\n",
       "  </tbody>\n",
       "</table>\n",
       "<p>5 rows × 367 columns</p>\n",
       "</div>"
      ],
      "text/plain": [
       "    LNR  AGER_TYP  AKT_DAT_KL  ALTER_HH  ALTER_KIND1  ALTER_KIND2  \\\n",
       "0  1763         2         1.0       8.0          NaN          NaN   \n",
       "1  1771         1         4.0      13.0          NaN          NaN   \n",
       "2  1776         1         1.0       9.0          NaN          NaN   \n",
       "3  1460         2         1.0       6.0          NaN          NaN   \n",
       "4  1783         2         1.0       9.0          NaN          NaN   \n",
       "\n",
       "   ALTER_KIND3  ALTER_KIND4  ALTERSKATEGORIE_FEIN  ANZ_HAUSHALTE_AKTIV  ...  \\\n",
       "0          NaN          NaN                   8.0                 15.0  ...   \n",
       "1          NaN          NaN                  13.0                  1.0  ...   \n",
       "2          NaN          NaN                   7.0                  0.0  ...   \n",
       "3          NaN          NaN                   6.0                  4.0  ...   \n",
       "4          NaN          NaN                   9.0                 53.0  ...   \n",
       "\n",
       "   VK_DHT4A  VK_DISTANZ  VK_ZG11  W_KEIT_KIND_HH  WOHNDAUER_2008  WOHNLAGE  \\\n",
       "0       5.0         2.0      1.0             6.0             9.0       3.0   \n",
       "1       1.0         2.0      1.0             4.0             9.0       7.0   \n",
       "2       6.0         4.0      2.0             NaN             9.0       2.0   \n",
       "3       8.0        11.0     11.0             6.0             9.0       1.0   \n",
       "4       2.0         2.0      1.0             6.0             9.0       3.0   \n",
       "\n",
       "   ZABEOTYP RESPONSE ANREDE_KZ ALTERSKATEGORIE_GROB  \n",
       "0         3        0         2                    4  \n",
       "1         1        0         2                    3  \n",
       "2         3        0         1                    4  \n",
       "3         3        0         2                    4  \n",
       "4         3        0         1                    3  \n",
       "\n",
       "[5 rows x 367 columns]"
      ]
     },
     "execution_count": 124,
     "metadata": {},
     "output_type": "execute_result"
    }
   ],
   "source": [
    "mailout_train = pd.read_csv('../data/Udacity_MAILOUT_052018_TRAIN.csv', sep=';')\n",
    "mailout_train.head()"
   ]
  },
  {
   "cell_type": "code",
   "execution_count": 125,
   "metadata": {},
   "outputs": [
    {
     "data": {
      "text/plain": [
       "(42962, 367)"
      ]
     },
     "execution_count": 125,
     "metadata": {},
     "output_type": "execute_result"
    }
   ],
   "source": [
    "mailout_train.shape"
   ]
  },
  {
   "cell_type": "markdown",
   "metadata": {},
   "source": [
    "### Deal with class imbalance in the train dataset"
   ]
  },
  {
   "cell_type": "code",
   "execution_count": 126,
   "metadata": {},
   "outputs": [
    {
     "name": "stdout",
     "output_type": "stream",
     "text": [
      "0    42430\n",
      "1      532\n",
      "Name: RESPONSE, dtype: int64\n"
     ]
    },
    {
     "data": {
      "text/plain": [
       "<AxesSubplot:xlabel='RESPONSE', ylabel='count'>"
      ]
     },
     "execution_count": 126,
     "metadata": {},
     "output_type": "execute_result"
    },
    {
     "data": {
      "image/png": "[encoded data removed]",
      "text/plain": [
       "<Figure size 432x288 with 1 Axes>"
      ]
     },
     "metadata": {
      "needs_background": "light"
     },
     "output_type": "display_data"
    }
   ],
   "source": [
    "print(mailout_train.RESPONSE.value_counts())\n",
    "sns.countplot(\"RESPONSE\", data=mailout_train)"
   ]
  },
  {
   "cell_type": "markdown",
   "metadata": {},
   "source": [
    "We can see that there's an imbalanced issue we need to deal with"
   ]
  },
  {
   "cell_type": "code",
   "execution_count": 127,
   "metadata": {},
   "outputs": [],
   "source": [
    "customer_1 = mailout_train[mailout_train['RESPONSE']==1] \n",
    "customer_0 = mailout_train[mailout_train['RESPONSE']==0]"
   ]
  },
  {
   "cell_type": "code",
   "execution_count": 128,
   "metadata": {},
   "outputs": [],
   "source": [
    "customer_1_balanced = resample(customer_1, replace=True, n_samples=42430, random_state=1)"
   ]
  },
  {
   "cell_type": "code",
   "execution_count": 129,
   "metadata": {},
   "outputs": [],
   "source": [
    "# combined balance d data\n",
    "mailout_train_balanced = pd.concat([customer_0, customer_1_balanced ])"
   ]
  },
  {
   "cell_type": "code",
   "execution_count": 130,
   "metadata": {},
   "outputs": [
    {
     "name": "stdout",
     "output_type": "stream",
     "text": [
      "0    42430\n",
      "1    42430\n",
      "Name: RESPONSE, dtype: int64\n"
     ]
    }
   ],
   "source": [
    "print(mailout_train_balanced.RESPONSE.value_counts())"
   ]
  },
  {
   "cell_type": "code",
   "execution_count": null,
   "metadata": {},
   "outputs": [],
   "source": []
  },
  {
   "cell_type": "code",
   "execution_count": 131,
   "metadata": {},
   "outputs": [],
   "source": [
    "# take the response column to be labels\n",
    "labels = mailout_train_balanced['RESPONSE']\n",
    "\n",
    "# drop the response column\n",
    "mailout_train_balanced.drop(labels=['RESPONSE'], axis=1, inplace=True)"
   ]
  },
  {
   "cell_type": "code",
   "execution_count": 132,
   "metadata": {},
   "outputs": [],
   "source": [
    "# drop the LNR column\n",
    "mailout_train_balanced.drop(['LNR'], axis=1, inplace=True)"
   ]
  },
  {
   "cell_type": "code",
   "execution_count": 133,
   "metadata": {},
   "outputs": [],
   "source": [
    "# modify the clean_data function\n",
    "def clean_train_data(df, attributes_values, columns_to_drop, corr_features):\n",
    "    \"\"\"\n",
    "    Clean and prerpocess a dataframe\n",
    "    - convert missing and unknown values to nan values\n",
    "    - drop columns (features) with high %nan vlaues\n",
    "    - drop rows with high %nan vlaues\n",
    "    - re-encode categorical and mixed features\n",
    "    - drop too highly correlated features\n",
    "    - impute missing values\n",
    "    \n",
    "    INPUT\n",
    "    - df (DataFrame): the DataFrame to be cleaned and preprocessed\n",
    "    - attributes_values (DataFrame): the DataFrame to find unknown values for each feature\n",
    "    - columns_to_drop (list): list of features to be droped due to high %nan values\n",
    "    - corr_features (list): list of features that too highly correlate with other features\n",
    "    \n",
    "    OUTPUT\n",
    "    - df_imputed (DataFrame): a cleaned and preprocessed DataFrame with nan values imputed\n",
    "    \"\"\"\n",
    "    # convert missing and unknown values to nan values\n",
    "    attributes_values = attributes_values[attributes_values.columns[1:]]\n",
    "    attributes_values = attributes_values[attributes_values['Attribute'].notnull()]\n",
    "    unknown = attributes_values[attributes_values['Meaning'].isin(['unknown', 'unknown / no main age detectable'])]\n",
    "\n",
    "    for column in df.columns:\n",
    "        if df[column].dtype == np.int64:\n",
    "            df[column] = df[column].astype(np.float64)\n",
    "        if column not in set(unknown['Attribute']):\n",
    "            continue\n",
    "        \n",
    "        unknown_value = unknown.loc[unknown['Attribute'] == column].Value.item()\n",
    "        unknown_value = set(float(x) for x in unknown_value.split(', ')) if type(unknown_value) is str else set([float(unknown_value)])\n",
    "        df[column] = df[column].mask(df[column].isin(unknown_value), other=np.nan)\n",
    "    \n",
    "    \n",
    "    \n",
    "\n",
    "    df.drop(labels=columns_to_drop, axis=1, inplace=True)\n",
    "\n",
    "\n",
    "    \n",
    "    # treat 'X' and 'XX' as nan values\n",
    "    df['CAMEO_DEUG_2015'] = df['CAMEO_DEUG_2015'].replace('X', np.nan)\n",
    "    df['CAMEO_INTL_2015'] = df['CAMEO_INTL_2015'].replace('XX', np.nan)\n",
    "    \n",
    "    df['CAMEO_DEUG_2015'] = df['CAMEO_DEUG_2015'].astype(float)\n",
    "    df['CAMEO_INTL_2015'] = df['CAMEO_INTL_2015'].astype(float)\n",
    "    \n",
    "    # re-encode binary categorical variables\n",
    "    df['OST_WEST_KZ'] = df['OST_WEST_KZ'].map({'W': 0, 'O': 1})\n",
    "    \n",
    "    # drop multi-level categorical variables with more than 10 values\n",
    "    df.drop(['CAMEO_DEU_2015', 'D19_LETZTER_KAUF_BRANCHE', 'EINGEFUEGT_AM'], axis=1, inplace=True)\n",
    "    \n",
    "    # re-encode CAMEO_INTL_2015\n",
    "    df['CAMEO_INTL_2015_WEALTH_LEVEL'] = df['CAMEO_INTL_2015'].apply(lambda x: np.floor(pd.to_numeric(x)/10))\n",
    "    df['CAMEO_INTL_2015_STATUS'] = df['CAMEO_INTL_2015'].apply(lambda x: pd.to_numeric(x)%10)\n",
    "    df.drop('CAMEO_INTL_2015', axis=1, inplace=True)\n",
    "    \n",
    "    # re-encode LP_*\n",
    "    df = encode_lp(df)\n",
    "    \n",
    "    # re-encode PRAEGENDE_JUGENDJAHRE\n",
    "    df['PRAEGENDE_JUGENDJAHRE'] = df['PRAEGENDE_JUGENDJAHRE'].apply(lambda x: encode_pj(x))\n",
    "    \n",
    "    # drop too highly correlated features\n",
    "    df.drop(labels=set(df)&corr_features, axis=1, inplace=True)\n",
    "    \n",
    "    # impute missing values\n",
    "    imputer = SimpleImputer(missing_values=np.nan, strategy='median')\n",
    "    df_imputed = pd.DataFrame(imputer.fit_transform(df))\n",
    "    \n",
    "    return df_imputed"
   ]
  },
  {
   "cell_type": "code",
   "execution_count": 135,
   "metadata": {},
   "outputs": [],
   "source": [
    "attributes_values = pd.read_excel('../DIAS Attributes - Values 2017.xlsx', header=1)"
   ]
  },
  {
   "cell_type": "code",
   "execution_count": 136,
   "metadata": {},
   "outputs": [],
   "source": [
    "percent_missing_col_train = mailout_train_balanced.isnull().mean() * 100\n",
    "columns_to_drop_train = percent_missing_col_train [percent_missing_col_train  > 20].index"
   ]
  },
  {
   "cell_type": "code",
   "execution_count": 137,
   "metadata": {},
   "outputs": [],
   "source": [
    "corr_matrix_train = mailout_train_balanced.corr().abs().round(2)\n",
    "\n",
    "corr_features_train = set()\n",
    "for i in range(len(corr_matrix_train.columns)):\n",
    "    for j in range(i):\n",
    "        if abs(corr_matrix_train.iloc[i, j]) > 0.9:\n",
    "            col = corr_matrix_train.columns[i]\n",
    "            corr_features_train.add(col)"
   ]
  },
  {
   "cell_type": "code",
   "execution_count": 138,
   "metadata": {},
   "outputs": [
    {
     "data": {
      "text/plain": [
       "21"
      ]
     },
     "execution_count": 138,
     "metadata": {},
     "output_type": "execute_result"
    }
   ],
   "source": [
    "len(corr_features_train)"
   ]
  },
  {
   "cell_type": "code",
   "execution_count": 139,
   "metadata": {},
   "outputs": [],
   "source": [
    "train = clean_train_data(mailout_train_balanced, attributes_values, columns_to_drop_train, corr_features_train)"
   ]
  },
  {
   "cell_type": "code",
   "execution_count": 140,
   "metadata": {},
   "outputs": [
    {
     "name": "stdout",
     "output_type": "stream",
     "text": [
      "TRAIN|Data shape (rows, cols):  (84860, 270)\n",
      "\n"
     ]
    },
    {
     "data": {
      "text/html": [
       "<div>\n",
       "<style scoped>\n",
       "    .dataframe tbody tr th:only-of-type {\n",
       "        vertical-align: middle;\n",
       "    }\n",
       "\n",
       "    .dataframe tbody tr th {\n",
       "        vertical-align: top;\n",
       "    }\n",
       "\n",
       "    .dataframe thead th {\n",
       "        text-align: right;\n",
       "    }\n",
       "</style>\n",
       "<table border=\"1\" class=\"dataframe\">\n",
       "  <thead>\n",
       "    <tr style=\"text-align: right;\">\n",
       "      <th></th>\n",
       "      <th>0</th>\n",
       "      <th>1</th>\n",
       "      <th>2</th>\n",
       "      <th>3</th>\n",
       "      <th>4</th>\n",
       "      <th>5</th>\n",
       "      <th>6</th>\n",
       "      <th>7</th>\n",
       "      <th>8</th>\n",
       "      <th>9</th>\n",
       "      <th>...</th>\n",
       "      <th>260</th>\n",
       "      <th>261</th>\n",
       "      <th>262</th>\n",
       "      <th>263</th>\n",
       "      <th>264</th>\n",
       "      <th>265</th>\n",
       "      <th>266</th>\n",
       "      <th>267</th>\n",
       "      <th>268</th>\n",
       "      <th>269</th>\n",
       "    </tr>\n",
       "  </thead>\n",
       "  <tbody>\n",
       "    <tr>\n",
       "      <th>0</th>\n",
       "      <td>2.0</td>\n",
       "      <td>1.0</td>\n",
       "      <td>8.0</td>\n",
       "      <td>8.0</td>\n",
       "      <td>15.0</td>\n",
       "      <td>0.0</td>\n",
       "      <td>0.0</td>\n",
       "      <td>1.0</td>\n",
       "      <td>0.0</td>\n",
       "      <td>3.0</td>\n",
       "      <td>...</td>\n",
       "      <td>2.0</td>\n",
       "      <td>5.0</td>\n",
       "      <td>2.0</td>\n",
       "      <td>9.0</td>\n",
       "      <td>3.0</td>\n",
       "      <td>3.0</td>\n",
       "      <td>2.0</td>\n",
       "      <td>4.0</td>\n",
       "      <td>3.0</td>\n",
       "      <td>4.0</td>\n",
       "    </tr>\n",
       "    <tr>\n",
       "      <th>1</th>\n",
       "      <td>1.0</td>\n",
       "      <td>4.0</td>\n",
       "      <td>13.0</td>\n",
       "      <td>13.0</td>\n",
       "      <td>1.0</td>\n",
       "      <td>0.0</td>\n",
       "      <td>0.0</td>\n",
       "      <td>2.0</td>\n",
       "      <td>0.0</td>\n",
       "      <td>2.0</td>\n",
       "      <td>...</td>\n",
       "      <td>3.0</td>\n",
       "      <td>1.0</td>\n",
       "      <td>2.0</td>\n",
       "      <td>9.0</td>\n",
       "      <td>7.0</td>\n",
       "      <td>1.0</td>\n",
       "      <td>2.0</td>\n",
       "      <td>3.0</td>\n",
       "      <td>3.0</td>\n",
       "      <td>2.0</td>\n",
       "    </tr>\n",
       "    <tr>\n",
       "      <th>2</th>\n",
       "      <td>1.0</td>\n",
       "      <td>1.0</td>\n",
       "      <td>9.0</td>\n",
       "      <td>7.0</td>\n",
       "      <td>0.0</td>\n",
       "      <td>0.0</td>\n",
       "      <td>0.0</td>\n",
       "      <td>0.0</td>\n",
       "      <td>0.0</td>\n",
       "      <td>4.0</td>\n",
       "      <td>...</td>\n",
       "      <td>1.0</td>\n",
       "      <td>6.0</td>\n",
       "      <td>4.0</td>\n",
       "      <td>9.0</td>\n",
       "      <td>2.0</td>\n",
       "      <td>3.0</td>\n",
       "      <td>1.0</td>\n",
       "      <td>4.0</td>\n",
       "      <td>1.0</td>\n",
       "      <td>4.0</td>\n",
       "    </tr>\n",
       "    <tr>\n",
       "      <th>3</th>\n",
       "      <td>2.0</td>\n",
       "      <td>1.0</td>\n",
       "      <td>6.0</td>\n",
       "      <td>6.0</td>\n",
       "      <td>4.0</td>\n",
       "      <td>0.0</td>\n",
       "      <td>0.0</td>\n",
       "      <td>2.0</td>\n",
       "      <td>0.0</td>\n",
       "      <td>4.0</td>\n",
       "      <td>...</td>\n",
       "      <td>4.0</td>\n",
       "      <td>8.0</td>\n",
       "      <td>11.0</td>\n",
       "      <td>9.0</td>\n",
       "      <td>1.0</td>\n",
       "      <td>3.0</td>\n",
       "      <td>2.0</td>\n",
       "      <td>4.0</td>\n",
       "      <td>1.0</td>\n",
       "      <td>4.0</td>\n",
       "    </tr>\n",
       "    <tr>\n",
       "      <th>4</th>\n",
       "      <td>2.0</td>\n",
       "      <td>1.0</td>\n",
       "      <td>9.0</td>\n",
       "      <td>9.0</td>\n",
       "      <td>53.0</td>\n",
       "      <td>0.0</td>\n",
       "      <td>0.0</td>\n",
       "      <td>1.0</td>\n",
       "      <td>0.0</td>\n",
       "      <td>3.0</td>\n",
       "      <td>...</td>\n",
       "      <td>4.0</td>\n",
       "      <td>2.0</td>\n",
       "      <td>2.0</td>\n",
       "      <td>9.0</td>\n",
       "      <td>3.0</td>\n",
       "      <td>3.0</td>\n",
       "      <td>1.0</td>\n",
       "      <td>3.0</td>\n",
       "      <td>4.0</td>\n",
       "      <td>1.0</td>\n",
       "    </tr>\n",
       "  </tbody>\n",
       "</table>\n",
       "<p>5 rows × 270 columns</p>\n",
       "</div>"
      ],
      "text/plain": [
       "   0    1     2     3     4    5    6    7    8    9    ...  260  261   262  \\\n",
       "0  2.0  1.0   8.0   8.0  15.0  0.0  0.0  1.0  0.0  3.0  ...  2.0  5.0   2.0   \n",
       "1  1.0  4.0  13.0  13.0   1.0  0.0  0.0  2.0  0.0  2.0  ...  3.0  1.0   2.0   \n",
       "2  1.0  1.0   9.0   7.0   0.0  0.0  0.0  0.0  0.0  4.0  ...  1.0  6.0   4.0   \n",
       "3  2.0  1.0   6.0   6.0   4.0  0.0  0.0  2.0  0.0  4.0  ...  4.0  8.0  11.0   \n",
       "4  2.0  1.0   9.0   9.0  53.0  0.0  0.0  1.0  0.0  3.0  ...  4.0  2.0   2.0   \n",
       "\n",
       "   263  264  265  266  267  268  269  \n",
       "0  9.0  3.0  3.0  2.0  4.0  3.0  4.0  \n",
       "1  9.0  7.0  1.0  2.0  3.0  3.0  2.0  \n",
       "2  9.0  2.0  3.0  1.0  4.0  1.0  4.0  \n",
       "3  9.0  1.0  3.0  2.0  4.0  1.0  4.0  \n",
       "4  9.0  3.0  3.0  1.0  3.0  4.0  1.0  \n",
       "\n",
       "[5 rows x 270 columns]"
      ]
     },
     "execution_count": 140,
     "metadata": {},
     "output_type": "execute_result"
    }
   ],
   "source": [
    "print('TRAIN|Data shape (rows, cols): ', train.shape)\n",
    "print()\n",
    "train.head()"
   ]
  },
  {
   "cell_type": "code",
   "execution_count": 141,
   "metadata": {},
   "outputs": [],
   "source": [
    "# scale features\n",
    "scaler = StandardScaler()\n",
    "train = pd.DataFrame(scaler.fit_transform(train), columns=train.columns)"
   ]
  },
  {
   "cell_type": "markdown",
   "metadata": {},
   "source": [
    "### Test the performances of supervised machine learning algorithms\n",
    "We have preprocessed the train dataset. Now we can choose from supervised machine learning models to train the training dataset.\n",
    "\n",
    "The evaluation metric that we will be using is AUC for the ROC curve. \n",
    "\n",
    "A receiver operating characteristic (ROC) curve is a graphic plot used to display the true positive rate (TPR, known as recall, proportion of correctly labeled actual customers) against the false positive rate (FPR, proportion of non-customers labeled as customers).\n",
    "\n",
    "Mathematical formulas of TPR and FPR are defined as:\n",
    "\n",
    "TPR = TP / (TP + FN)\n",
    "\n",
    "FPR = FP /(FP + TN)\n",
    "\n",
    "where\n",
    "\n",
    "TP = ture positive\n",
    "\n",
    "FP = false postive\n",
    "\n",
    "TN = true negative\n",
    "\n",
    "FN = false negative"
   ]
  },
  {
   "cell_type": "code",
   "execution_count": 142,
   "metadata": {},
   "outputs": [],
   "source": [
    "def train_classifier(classifier, param_grid, X=train, y=labels):\n",
    "    \"\"\"\n",
    "    Fit a classifier using GridSearchCV, compute ROC AUC metric\n",
    "    \n",
    "    INPUT:\n",
    "    - classifier (classifier): classifier to fit \n",
    "    - param_grid (dict): parameters of the classifier used with GridSearchCV\n",
    "    - X (DataFrame): features of the training dataframe\n",
    "    - y (DataFrame): labels of the training dataframe\n",
    "            \n",
    "    OUTPUT:\n",
    "    - classifier: fitted classifier\n",
    "    - AUROC score and elapsed time\n",
    "    \"\"\"\n",
    "    start = time.time()\n",
    "    \n",
    "    grid = GridSearchCV(estimator=classifier, param_grid=param_grid, scoring='roc_auc', cv=5)\n",
    "    grid.fit(X, y)\n",
    "    \n",
    "    end = time.time()\n",
    "    print('Time taken:', end-start)\n",
    "\n",
    "    print('AUROC score:', grid.best_score_)\n",
    "    \n",
    "    return grid.best_estimator_"
   ]
  },
  {
   "cell_type": "markdown",
   "metadata": {},
   "source": [
    "**a.Benchmark Model: Logistic Regression**"
   ]
  },
  {
   "cell_type": "code",
   "execution_count": 143,
   "metadata": {},
   "outputs": [],
   "source": [
    "logistic_reg = LogisticRegression(random_state=10)"
   ]
  },
  {
   "cell_type": "code",
   "execution_count": 144,
   "metadata": {},
   "outputs": [
    {
     "name": "stdout",
     "output_type": "stream",
     "text": [
      "Time taken: 15.302631616592407\n",
      "AUROC score: 0.7869742508616179\n",
      "LogisticRegression(random_state=10)\n"
     ]
    }
   ],
   "source": [
    "print(train_classifier(logistic_reg, {}))"
   ]
  },
  {
   "cell_type": "markdown",
   "metadata": {},
   "source": [
    "**b. RandomForestClssifier**\n",
    "\n",
    "Random forest classifier creates a set of decision trees from randomly selected subset of training set. It then decide the final class of the test object by aggregating the votes from the decision trees."
   ]
  },
  {
   "cell_type": "code",
   "execution_count": 145,
   "metadata": {},
   "outputs": [],
   "source": [
    "random_forest_clf = RandomForestClassifier(random_state=10)"
   ]
  },
  {
   "cell_type": "code",
   "execution_count": 146,
   "metadata": {},
   "outputs": [
    {
     "name": "stdout",
     "output_type": "stream",
     "text": [
      "Time taken: 143.02382254600525\n",
      "AUROC score: 0.9935088703585709\n",
      "RandomForestClassifier(random_state=10)\n"
     ]
    }
   ],
   "source": [
    "print(train_classifier(random_forest_clf, {}))"
   ]
  },
  {
   "cell_type": "markdown",
   "metadata": {},
   "source": [
    "**GradientBoostingClassifier**"
   ]
  },
  {
   "cell_type": "code",
   "execution_count": 147,
   "metadata": {},
   "outputs": [],
   "source": [
    "gradient_boosting_clf = GradientBoostingClassifier(random_state=10)"
   ]
  },
  {
   "cell_type": "code",
   "execution_count": 148,
   "metadata": {},
   "outputs": [
    {
     "name": "stdout",
     "output_type": "stream",
     "text": [
      "Time taken: 425.0988471508026\n",
      "AUROC score: 0.9024049565159767\n",
      "GradientBoostingClassifier(random_state=10)\n"
     ]
    }
   ],
   "source": [
    "print(train_classifier(gradient_boosting_clf, {}))"
   ]
  },
  {
   "cell_type": "markdown",
   "metadata": {},
   "source": [
    "**LightGBMClassifier**\n",
    "\n",
    "Light GBM can handle the large size of data and takes lower memory to run. Another reason why Light GBM is so popular is because it focuses on accuracy of results."
   ]
  },
  {
   "cell_type": "code",
   "execution_count": 155,
   "metadata": {},
   "outputs": [],
   "source": [
    "lightgbm_clf = LGBMClassifier(random_state=10)"
   ]
  },
  {
   "cell_type": "code",
   "execution_count": 156,
   "metadata": {},
   "outputs": [
    {
     "name": "stdout",
     "output_type": "stream",
     "text": [
      "Time taken: 15.292855739593506\n",
      "AUROC score: 0.9874326898738097\n",
      "LGBMClassifier(random_state=10)\n"
     ]
    }
   ],
   "source": [
    "print(train_classifier(lightgbm_clf, {}))"
   ]
  },
  {
   "cell_type": "markdown",
   "metadata": {},
   "source": [
    "**AdaBoostClassifier**"
   ]
  },
  {
   "cell_type": "code",
   "execution_count": 157,
   "metadata": {},
   "outputs": [],
   "source": [
    "adaboost_clf = AdaBoostClassifier(random_state=10)"
   ]
  },
  {
   "cell_type": "code",
   "execution_count": 158,
   "metadata": {},
   "outputs": [
    {
     "name": "stdout",
     "output_type": "stream",
     "text": [
      "Time taken: 98.37448906898499\n",
      "AUROC score: 0.818519529664114\n",
      "AdaBoostClassifier(random_state=10)\n"
     ]
    }
   ],
   "source": [
    "print(train_classifier(adaboost_clf, {}))"
   ]
  },
  {
   "cell_type": "code",
   "execution_count": null,
   "metadata": {},
   "outputs": [],
   "source": []
  },
  {
   "cell_type": "markdown",
   "metadata": {},
   "source": [
    "**XGBClassifier**"
   ]
  },
  {
   "cell_type": "code",
   "execution_count": 161,
   "metadata": {},
   "outputs": [],
   "source": [
    "xgb_clf = xgb.XGBClassifier(random_state=10)"
   ]
  },
  {
   "cell_type": "code",
   "execution_count": 162,
   "metadata": {},
   "outputs": [
    {
     "name": "stdout",
     "output_type": "stream",
     "text": [
      "[13:40:23] WARNING: C:/Users/Administrator/workspace/xgboost-win64_release_1.5.1/src/learner.cc:1115: Starting in XGBoost 1.3.0, the default evaluation metric used with the objective 'binary:logistic' was changed from 'error' to 'logloss'. Explicitly set eval_metric if you'd like to restore the old behavior.\n",
      "[13:40:33] WARNING: C:/Users/Administrator/workspace/xgboost-win64_release_1.5.1/src/learner.cc:1115: Starting in XGBoost 1.3.0, the default evaluation metric used with the objective 'binary:logistic' was changed from 'error' to 'logloss'. Explicitly set eval_metric if you'd like to restore the old behavior.\n",
      "[13:40:43] WARNING: C:/Users/Administrator/workspace/xgboost-win64_release_1.5.1/src/learner.cc:1115: Starting in XGBoost 1.3.0, the default evaluation metric used with the objective 'binary:logistic' was changed from 'error' to 'logloss'. Explicitly set eval_metric if you'd like to restore the old behavior.\n",
      "[13:40:53] WARNING: C:/Users/Administrator/workspace/xgboost-win64_release_1.5.1/src/learner.cc:1115: Starting in XGBoost 1.3.0, the default evaluation metric used with the objective 'binary:logistic' was changed from 'error' to 'logloss'. Explicitly set eval_metric if you'd like to restore the old behavior.\n",
      "[13:41:04] WARNING: C:/Users/Administrator/workspace/xgboost-win64_release_1.5.1/src/learner.cc:1115: Starting in XGBoost 1.3.0, the default evaluation metric used with the objective 'binary:logistic' was changed from 'error' to 'logloss'. Explicitly set eval_metric if you'd like to restore the old behavior.\n",
      "[13:41:14] WARNING: C:/Users/Administrator/workspace/xgboost-win64_release_1.5.1/src/learner.cc:1115: Starting in XGBoost 1.3.0, the default evaluation metric used with the objective 'binary:logistic' was changed from 'error' to 'logloss'. Explicitly set eval_metric if you'd like to restore the old behavior.\n",
      "Time taken: 65.22626829147339\n",
      "AUROC score: 0.99258412283386\n",
      "XGBClassifier(base_score=0.5, booster='gbtree', colsample_bylevel=1,\n",
      "              colsample_bynode=1, colsample_bytree=1, enable_categorical=False,\n",
      "              gamma=0, gpu_id=-1, importance_type=None,\n",
      "              interaction_constraints='', learning_rate=0.300000012,\n",
      "              max_delta_step=0, max_depth=6, min_child_weight=1, missing=nan,\n",
      "              monotone_constraints='()', n_estimators=100, n_jobs=12,\n",
      "              num_parallel_tree=1, predictor='auto', random_state=10,\n",
      "              reg_alpha=0, reg_lambda=1, scale_pos_weight=1, subsample=1,\n",
      "              tree_method='exact', validate_parameters=1, verbosity=None)\n"
     ]
    }
   ],
   "source": [
    "print(train_classifier(xgb_clf, {}))"
   ]
  },
  {
   "cell_type": "markdown",
   "metadata": {},
   "source": [
    "Based upon above results, I suspected that we have some overfitting because values of > 0.98 are very suspicious.  Maybe our resample techinique but be contribuiting to this.\n",
    "\n",
    "Compared with the benchmark model, the GradientBoostingClassifier shows higher AUROC scores and took a fast time to train.\n",
    "\n",
    "Thus, I decide to continue with the GradientBoostingClassifier algorithm with hyperparameters set as the following"
   ]
  },
  {
   "cell_type": "markdown",
   "metadata": {},
   "source": [
    "**FIne tunning GradientBoostingClassifer**"
   ]
  },
  {
   "cell_type": "code",
   "execution_count": 163,
   "metadata": {},
   "outputs": [
    {
     "name": "stdout",
     "output_type": "stream",
     "text": [
      "Time taken: 419.3621542453766\n",
      "AUROC score: 0.9024049565159767\n"
     ]
    }
   ],
   "source": [
    "gbc = GradientBoostingClassifier(random_state=10)\n",
    "\n",
    "gbc_param_grid = {'loss': ['deviance'],\n",
    "              'max_depth': [3],\n",
    "              'learning_rate': [0.1],\n",
    "              'n_estimators': [100],\n",
    "              'random_state': [10]\n",
    "             }\n",
    "\n",
    "gbc_best_estimator = train_classifier(gbc, gbc_param_grid)"
   ]
  },
  {
   "cell_type": "markdown",
   "metadata": {},
   "source": [
    "## Kaggle Competition\n",
    "Now that you've created a model to predict which individuals are most likely to respond to a mailout campaign, it's time to test that model in competition through Kaggle. If you click on the link here, you'll be taken to the competition page where, if you have a Kaggle account, you can enter.\n",
    "\n",
    "Your entry to the competition should be a CSV file with two columns. The first column should be a copy of \"LNR\", which acts as an ID number for each individual in the \"TEST\" partition. The second column, \"RESPONSE\", should be some measure of how likely each individual became a customer – this might not be a straightforward probability. As you should have found in Part 2, there is a large output class imbalance, where most individuals did not respond to the mailout. Thus, predicting individual classes and using accuracy does not seem to be an appropriate performance evaluation method. Instead, the competition will be using AUC to evaluate performance. The exact values of the \"RESPONSE\" column do not matter as much: only that the higher values try to capture as many of the actual customers as possible, early in the ROC curve sweep."
   ]
  },
  {
   "cell_type": "code",
   "execution_count": 164,
   "metadata": {},
   "outputs": [],
   "source": [
    "mailout_test = pd.read_csv('../data/Udacity_MAILOUT_052018_TEST.csv', sep=';')"
   ]
  },
  {
   "cell_type": "code",
   "execution_count": 166,
   "metadata": {
    "scrolled": true
   },
   "outputs": [
    {
     "name": "stdout",
     "output_type": "stream",
     "text": [
      "TEST|Data shape (rows, cols):  (42833, 366)\n",
      "\n"
     ]
    },
    {
     "data": {
      "text/html": [
       "<div>\n",
       "<style scoped>\n",
       "    .dataframe tbody tr th:only-of-type {\n",
       "        vertical-align: middle;\n",
       "    }\n",
       "\n",
       "    .dataframe tbody tr th {\n",
       "        vertical-align: top;\n",
       "    }\n",
       "\n",
       "    .dataframe thead th {\n",
       "        text-align: right;\n",
       "    }\n",
       "</style>\n",
       "<table border=\"1\" class=\"dataframe\">\n",
       "  <thead>\n",
       "    <tr style=\"text-align: right;\">\n",
       "      <th></th>\n",
       "      <th>LNR</th>\n",
       "      <th>AGER_TYP</th>\n",
       "      <th>AKT_DAT_KL</th>\n",
       "      <th>ALTER_HH</th>\n",
       "      <th>ALTER_KIND1</th>\n",
       "      <th>ALTER_KIND2</th>\n",
       "      <th>ALTER_KIND3</th>\n",
       "      <th>ALTER_KIND4</th>\n",
       "      <th>ALTERSKATEGORIE_FEIN</th>\n",
       "      <th>ANZ_HAUSHALTE_AKTIV</th>\n",
       "      <th>...</th>\n",
       "      <th>VHN</th>\n",
       "      <th>VK_DHT4A</th>\n",
       "      <th>VK_DISTANZ</th>\n",
       "      <th>VK_ZG11</th>\n",
       "      <th>W_KEIT_KIND_HH</th>\n",
       "      <th>WOHNDAUER_2008</th>\n",
       "      <th>WOHNLAGE</th>\n",
       "      <th>ZABEOTYP</th>\n",
       "      <th>ANREDE_KZ</th>\n",
       "      <th>ALTERSKATEGORIE_GROB</th>\n",
       "    </tr>\n",
       "  </thead>\n",
       "  <tbody>\n",
       "    <tr>\n",
       "      <th>0</th>\n",
       "      <td>1754</td>\n",
       "      <td>2</td>\n",
       "      <td>1.0</td>\n",
       "      <td>7.0</td>\n",
       "      <td>NaN</td>\n",
       "      <td>NaN</td>\n",
       "      <td>NaN</td>\n",
       "      <td>NaN</td>\n",
       "      <td>6.0</td>\n",
       "      <td>2.0</td>\n",
       "      <td>...</td>\n",
       "      <td>4.0</td>\n",
       "      <td>5.0</td>\n",
       "      <td>6.0</td>\n",
       "      <td>3.0</td>\n",
       "      <td>6.0</td>\n",
       "      <td>9.0</td>\n",
       "      <td>3.0</td>\n",
       "      <td>3</td>\n",
       "      <td>1</td>\n",
       "      <td>4</td>\n",
       "    </tr>\n",
       "    <tr>\n",
       "      <th>1</th>\n",
       "      <td>1770</td>\n",
       "      <td>-1</td>\n",
       "      <td>1.0</td>\n",
       "      <td>0.0</td>\n",
       "      <td>NaN</td>\n",
       "      <td>NaN</td>\n",
       "      <td>NaN</td>\n",
       "      <td>NaN</td>\n",
       "      <td>0.0</td>\n",
       "      <td>20.0</td>\n",
       "      <td>...</td>\n",
       "      <td>1.0</td>\n",
       "      <td>5.0</td>\n",
       "      <td>2.0</td>\n",
       "      <td>1.0</td>\n",
       "      <td>6.0</td>\n",
       "      <td>9.0</td>\n",
       "      <td>5.0</td>\n",
       "      <td>3</td>\n",
       "      <td>1</td>\n",
       "      <td>4</td>\n",
       "    </tr>\n",
       "    <tr>\n",
       "      <th>2</th>\n",
       "      <td>1465</td>\n",
       "      <td>2</td>\n",
       "      <td>9.0</td>\n",
       "      <td>16.0</td>\n",
       "      <td>NaN</td>\n",
       "      <td>NaN</td>\n",
       "      <td>NaN</td>\n",
       "      <td>NaN</td>\n",
       "      <td>11.0</td>\n",
       "      <td>2.0</td>\n",
       "      <td>...</td>\n",
       "      <td>3.0</td>\n",
       "      <td>9.0</td>\n",
       "      <td>6.0</td>\n",
       "      <td>3.0</td>\n",
       "      <td>2.0</td>\n",
       "      <td>9.0</td>\n",
       "      <td>4.0</td>\n",
       "      <td>3</td>\n",
       "      <td>2</td>\n",
       "      <td>4</td>\n",
       "    </tr>\n",
       "    <tr>\n",
       "      <th>3</th>\n",
       "      <td>1470</td>\n",
       "      <td>-1</td>\n",
       "      <td>7.0</td>\n",
       "      <td>0.0</td>\n",
       "      <td>NaN</td>\n",
       "      <td>NaN</td>\n",
       "      <td>NaN</td>\n",
       "      <td>NaN</td>\n",
       "      <td>0.0</td>\n",
       "      <td>1.0</td>\n",
       "      <td>...</td>\n",
       "      <td>2.0</td>\n",
       "      <td>6.0</td>\n",
       "      <td>6.0</td>\n",
       "      <td>3.0</td>\n",
       "      <td>NaN</td>\n",
       "      <td>9.0</td>\n",
       "      <td>2.0</td>\n",
       "      <td>3</td>\n",
       "      <td>2</td>\n",
       "      <td>4</td>\n",
       "    </tr>\n",
       "    <tr>\n",
       "      <th>4</th>\n",
       "      <td>1478</td>\n",
       "      <td>1</td>\n",
       "      <td>1.0</td>\n",
       "      <td>21.0</td>\n",
       "      <td>NaN</td>\n",
       "      <td>NaN</td>\n",
       "      <td>NaN</td>\n",
       "      <td>NaN</td>\n",
       "      <td>13.0</td>\n",
       "      <td>1.0</td>\n",
       "      <td>...</td>\n",
       "      <td>1.0</td>\n",
       "      <td>2.0</td>\n",
       "      <td>4.0</td>\n",
       "      <td>3.0</td>\n",
       "      <td>3.0</td>\n",
       "      <td>9.0</td>\n",
       "      <td>7.0</td>\n",
       "      <td>4</td>\n",
       "      <td>2</td>\n",
       "      <td>4</td>\n",
       "    </tr>\n",
       "  </tbody>\n",
       "</table>\n",
       "<p>5 rows × 366 columns</p>\n",
       "</div>"
      ],
      "text/plain": [
       "    LNR  AGER_TYP  AKT_DAT_KL  ALTER_HH  ALTER_KIND1  ALTER_KIND2  \\\n",
       "0  1754         2         1.0       7.0          NaN          NaN   \n",
       "1  1770        -1         1.0       0.0          NaN          NaN   \n",
       "2  1465         2         9.0      16.0          NaN          NaN   \n",
       "3  1470        -1         7.0       0.0          NaN          NaN   \n",
       "4  1478         1         1.0      21.0          NaN          NaN   \n",
       "\n",
       "   ALTER_KIND3  ALTER_KIND4  ALTERSKATEGORIE_FEIN  ANZ_HAUSHALTE_AKTIV  ...  \\\n",
       "0          NaN          NaN                   6.0                  2.0  ...   \n",
       "1          NaN          NaN                   0.0                 20.0  ...   \n",
       "2          NaN          NaN                  11.0                  2.0  ...   \n",
       "3          NaN          NaN                   0.0                  1.0  ...   \n",
       "4          NaN          NaN                  13.0                  1.0  ...   \n",
       "\n",
       "   VHN  VK_DHT4A  VK_DISTANZ  VK_ZG11  W_KEIT_KIND_HH  WOHNDAUER_2008  \\\n",
       "0  4.0       5.0         6.0      3.0             6.0             9.0   \n",
       "1  1.0       5.0         2.0      1.0             6.0             9.0   \n",
       "2  3.0       9.0         6.0      3.0             2.0             9.0   \n",
       "3  2.0       6.0         6.0      3.0             NaN             9.0   \n",
       "4  1.0       2.0         4.0      3.0             3.0             9.0   \n",
       "\n",
       "   WOHNLAGE ZABEOTYP ANREDE_KZ ALTERSKATEGORIE_GROB  \n",
       "0       3.0        3         1                    4  \n",
       "1       5.0        3         1                    4  \n",
       "2       4.0        3         2                    4  \n",
       "3       2.0        3         2                    4  \n",
       "4       7.0        4         2                    4  \n",
       "\n",
       "[5 rows x 366 columns]"
      ]
     },
     "execution_count": 166,
     "metadata": {},
     "output_type": "execute_result"
    }
   ],
   "source": [
    "print('TEST|Data shape (rows, cols): ', mailout_test.shape)\n",
    "print()\n",
    "mailout_test.head()"
   ]
  },
  {
   "cell_type": "code",
   "execution_count": 167,
   "metadata": {},
   "outputs": [],
   "source": [
    "# Copying LNR column\n",
    "test_LNR = mailout_test['LNR']\n",
    "\n",
    "mailout_test.drop(['LNR'], axis=1, inplace=True)"
   ]
  },
  {
   "cell_type": "code",
   "execution_count": 169,
   "metadata": {},
   "outputs": [],
   "source": [
    "attributes_values = pd.read_excel('../DIAS Attributes - Values 2017.xlsx', header=1)"
   ]
  },
  {
   "cell_type": "code",
   "execution_count": 170,
   "metadata": {},
   "outputs": [],
   "source": [
    "test = clean_train_data(mailout_test, attributes_values, columns_to_drop_train, corr_features_train)"
   ]
  },
  {
   "cell_type": "code",
   "execution_count": 171,
   "metadata": {},
   "outputs": [],
   "source": [
    "# scale features\n",
    "scaler = StandardScaler()\n",
    "\n",
    "test = pd.DataFrame(scaler.fit_transform(test))"
   ]
  },
  {
   "cell_type": "code",
   "execution_count": 172,
   "metadata": {},
   "outputs": [
    {
     "name": "stdout",
     "output_type": "stream",
     "text": [
      "TEST|Data shape (rows, cols):  (42833, 270)\n",
      "\n"
     ]
    },
    {
     "data": {
      "text/html": [
       "<div>\n",
       "<style scoped>\n",
       "    .dataframe tbody tr th:only-of-type {\n",
       "        vertical-align: middle;\n",
       "    }\n",
       "\n",
       "    .dataframe tbody tr th {\n",
       "        vertical-align: top;\n",
       "    }\n",
       "\n",
       "    .dataframe thead th {\n",
       "        text-align: right;\n",
       "    }\n",
       "</style>\n",
       "<table border=\"1\" class=\"dataframe\">\n",
       "  <thead>\n",
       "    <tr style=\"text-align: right;\">\n",
       "      <th></th>\n",
       "      <th>0</th>\n",
       "      <th>1</th>\n",
       "      <th>2</th>\n",
       "      <th>3</th>\n",
       "      <th>4</th>\n",
       "      <th>5</th>\n",
       "      <th>6</th>\n",
       "      <th>7</th>\n",
       "      <th>8</th>\n",
       "      <th>9</th>\n",
       "      <th>...</th>\n",
       "      <th>260</th>\n",
       "      <th>261</th>\n",
       "      <th>262</th>\n",
       "      <th>263</th>\n",
       "      <th>264</th>\n",
       "      <th>265</th>\n",
       "      <th>266</th>\n",
       "      <th>267</th>\n",
       "      <th>268</th>\n",
       "      <th>269</th>\n",
       "    </tr>\n",
       "  </thead>\n",
       "  <tbody>\n",
       "    <tr>\n",
       "      <th>0</th>\n",
       "      <td>0.358149</td>\n",
       "      <td>-0.271646</td>\n",
       "      <td>-1.388820</td>\n",
       "      <td>-0.970957</td>\n",
       "      <td>-0.287584</td>\n",
       "      <td>-0.120872</td>\n",
       "      <td>-0.206929</td>\n",
       "      <td>-0.015838</td>\n",
       "      <td>-0.088595</td>\n",
       "      <td>-0.034350</td>\n",
       "      <td>...</td>\n",
       "      <td>1.627638</td>\n",
       "      <td>0.310496</td>\n",
       "      <td>0.532270</td>\n",
       "      <td>0.244893</td>\n",
       "      <td>-0.468790</td>\n",
       "      <td>0.178441</td>\n",
       "      <td>-1.213276</td>\n",
       "      <td>0.728696</td>\n",
       "      <td>-1.494812</td>\n",
       "      <td>-0.309375</td>\n",
       "    </tr>\n",
       "    <tr>\n",
       "      <th>1</th>\n",
       "      <td>0.358149</td>\n",
       "      <td>-0.271646</td>\n",
       "      <td>-0.275654</td>\n",
       "      <td>-2.481701</td>\n",
       "      <td>1.038302</td>\n",
       "      <td>-0.120872</td>\n",
       "      <td>-0.206929</td>\n",
       "      <td>-0.819601</td>\n",
       "      <td>-0.088595</td>\n",
       "      <td>1.024156</td>\n",
       "      <td>...</td>\n",
       "      <td>-1.245023</td>\n",
       "      <td>0.310496</td>\n",
       "      <td>-0.803958</td>\n",
       "      <td>0.244893</td>\n",
       "      <td>0.579374</td>\n",
       "      <td>0.178441</td>\n",
       "      <td>-1.213276</td>\n",
       "      <td>0.728696</td>\n",
       "      <td>0.025539</td>\n",
       "      <td>-1.829213</td>\n",
       "    </tr>\n",
       "    <tr>\n",
       "      <th>2</th>\n",
       "      <td>0.358149</td>\n",
       "      <td>4.719141</td>\n",
       "      <td>1.115804</td>\n",
       "      <td>0.287996</td>\n",
       "      <td>-0.287584</td>\n",
       "      <td>-0.120872</td>\n",
       "      <td>-0.206929</td>\n",
       "      <td>1.591688</td>\n",
       "      <td>-0.088595</td>\n",
       "      <td>1.024156</td>\n",
       "      <td>...</td>\n",
       "      <td>0.670084</td>\n",
       "      <td>1.674508</td>\n",
       "      <td>0.532270</td>\n",
       "      <td>0.244893</td>\n",
       "      <td>0.055292</td>\n",
       "      <td>0.178441</td>\n",
       "      <td>0.824215</td>\n",
       "      <td>0.728696</td>\n",
       "      <td>0.785714</td>\n",
       "      <td>-1.829213</td>\n",
       "    </tr>\n",
       "    <tr>\n",
       "      <th>3</th>\n",
       "      <td>0.358149</td>\n",
       "      <td>3.471445</td>\n",
       "      <td>-0.275654</td>\n",
       "      <td>-2.481701</td>\n",
       "      <td>-0.361244</td>\n",
       "      <td>-0.120872</td>\n",
       "      <td>-0.206929</td>\n",
       "      <td>-1.623364</td>\n",
       "      <td>-0.088595</td>\n",
       "      <td>1.024156</td>\n",
       "      <td>...</td>\n",
       "      <td>-0.287470</td>\n",
       "      <td>0.651499</td>\n",
       "      <td>0.532270</td>\n",
       "      <td>0.244893</td>\n",
       "      <td>-0.992871</td>\n",
       "      <td>0.178441</td>\n",
       "      <td>0.824215</td>\n",
       "      <td>0.728696</td>\n",
       "      <td>-1.494812</td>\n",
       "      <td>-0.309375</td>\n",
       "    </tr>\n",
       "    <tr>\n",
       "      <th>4</th>\n",
       "      <td>-1.414307</td>\n",
       "      <td>-0.271646</td>\n",
       "      <td>2.507261</td>\n",
       "      <td>0.791577</td>\n",
       "      <td>-0.361244</td>\n",
       "      <td>-0.120872</td>\n",
       "      <td>-0.206929</td>\n",
       "      <td>1.591688</td>\n",
       "      <td>-0.088595</td>\n",
       "      <td>-0.034350</td>\n",
       "      <td>...</td>\n",
       "      <td>-1.245023</td>\n",
       "      <td>-0.712513</td>\n",
       "      <td>-0.135844</td>\n",
       "      <td>0.244893</td>\n",
       "      <td>1.627537</td>\n",
       "      <td>1.070811</td>\n",
       "      <td>0.824215</td>\n",
       "      <td>0.728696</td>\n",
       "      <td>0.025539</td>\n",
       "      <td>-1.829213</td>\n",
       "    </tr>\n",
       "  </tbody>\n",
       "</table>\n",
       "<p>5 rows × 270 columns</p>\n",
       "</div>"
      ],
      "text/plain": [
       "        0         1         2         3         4         5         6    \\\n",
       "0  0.358149 -0.271646 -1.388820 -0.970957 -0.287584 -0.120872 -0.206929   \n",
       "1  0.358149 -0.271646 -0.275654 -2.481701  1.038302 -0.120872 -0.206929   \n",
       "2  0.358149  4.719141  1.115804  0.287996 -0.287584 -0.120872 -0.206929   \n",
       "3  0.358149  3.471445 -0.275654 -2.481701 -0.361244 -0.120872 -0.206929   \n",
       "4 -1.414307 -0.271646  2.507261  0.791577 -0.361244 -0.120872 -0.206929   \n",
       "\n",
       "        7         8         9    ...       260       261       262       263  \\\n",
       "0 -0.015838 -0.088595 -0.034350  ...  1.627638  0.310496  0.532270  0.244893   \n",
       "1 -0.819601 -0.088595  1.024156  ... -1.245023  0.310496 -0.803958  0.244893   \n",
       "2  1.591688 -0.088595  1.024156  ...  0.670084  1.674508  0.532270  0.244893   \n",
       "3 -1.623364 -0.088595  1.024156  ... -0.287470  0.651499  0.532270  0.244893   \n",
       "4  1.591688 -0.088595 -0.034350  ... -1.245023 -0.712513 -0.135844  0.244893   \n",
       "\n",
       "        264       265       266       267       268       269  \n",
       "0 -0.468790  0.178441 -1.213276  0.728696 -1.494812 -0.309375  \n",
       "1  0.579374  0.178441 -1.213276  0.728696  0.025539 -1.829213  \n",
       "2  0.055292  0.178441  0.824215  0.728696  0.785714 -1.829213  \n",
       "3 -0.992871  0.178441  0.824215  0.728696 -1.494812 -0.309375  \n",
       "4  1.627537  1.070811  0.824215  0.728696  0.025539 -1.829213  \n",
       "\n",
       "[5 rows x 270 columns]"
      ]
     },
     "execution_count": 172,
     "metadata": {},
     "output_type": "execute_result"
    }
   ],
   "source": [
    "print('TEST|Data shape (rows, cols): ', test.shape)\n",
    "print()\n",
    "test.head()"
   ]
  },
  {
   "cell_type": "markdown",
   "metadata": {},
   "source": [
    "### Classify the test dataset with the selected trained model"
   ]
  },
  {
   "cell_type": "code",
   "execution_count": 173,
   "metadata": {},
   "outputs": [],
   "source": [
    "test_gbc_pred = gbc_best_estimator.predict_proba(test)"
   ]
  },
  {
   "cell_type": "markdown",
   "metadata": {},
   "source": [
    "### CSV file for kaggle competition"
   ]
  },
  {
   "cell_type": "code",
   "execution_count": 175,
   "metadata": {},
   "outputs": [],
   "source": [
    "kaggle = pd.DataFrame({'LNR':test_LNR.astype(np.int32), 'RESPONSE':test_gbc_pred[:, 1]})\n",
    "\n",
    "kaggle.to_csv('kaggle.csv', index=False)"
   ]
  },
  {
   "cell_type": "code",
   "execution_count": 176,
   "metadata": {},
   "outputs": [
    {
     "data": {
      "text/html": [
       "<div>\n",
       "<style scoped>\n",
       "    .dataframe tbody tr th:only-of-type {\n",
       "        vertical-align: middle;\n",
       "    }\n",
       "\n",
       "    .dataframe tbody tr th {\n",
       "        vertical-align: top;\n",
       "    }\n",
       "\n",
       "    .dataframe thead th {\n",
       "        text-align: right;\n",
       "    }\n",
       "</style>\n",
       "<table border=\"1\" class=\"dataframe\">\n",
       "  <thead>\n",
       "    <tr style=\"text-align: right;\">\n",
       "      <th></th>\n",
       "      <th>LNR</th>\n",
       "      <th>RESPONSE</th>\n",
       "    </tr>\n",
       "  </thead>\n",
       "  <tbody>\n",
       "    <tr>\n",
       "      <th>0</th>\n",
       "      <td>1754</td>\n",
       "      <td>0.705380</td>\n",
       "    </tr>\n",
       "    <tr>\n",
       "      <th>1</th>\n",
       "      <td>1770</td>\n",
       "      <td>0.709228</td>\n",
       "    </tr>\n",
       "    <tr>\n",
       "      <th>2</th>\n",
       "      <td>1465</td>\n",
       "      <td>0.181873</td>\n",
       "    </tr>\n",
       "    <tr>\n",
       "      <th>3</th>\n",
       "      <td>1470</td>\n",
       "      <td>0.065821</td>\n",
       "    </tr>\n",
       "    <tr>\n",
       "      <th>4</th>\n",
       "      <td>1478</td>\n",
       "      <td>0.127932</td>\n",
       "    </tr>\n",
       "  </tbody>\n",
       "</table>\n",
       "</div>"
      ],
      "text/plain": [
       "    LNR  RESPONSE\n",
       "0  1754  0.705380\n",
       "1  1770  0.709228\n",
       "2  1465  0.181873\n",
       "3  1470  0.065821\n",
       "4  1478  0.127932"
      ]
     },
     "execution_count": 176,
     "metadata": {},
     "output_type": "execute_result"
    }
   ],
   "source": [
    "kaggle.head()"
   ]
  },
  {
   "cell_type": "code",
   "execution_count": 177,
   "metadata": {},
   "outputs": [
    {
     "data": {
      "text/plain": [
       "9115"
      ]
     },
     "execution_count": 177,
     "metadata": {},
     "output_type": "execute_result"
    }
   ],
   "source": [
    "len(kaggle[kaggle['RESPONSE']>0.5])"
   ]
  },
  {
   "cell_type": "markdown",
   "metadata": {},
   "source": [
    "Among 42,833 individuals listed in the test dataset, 9,115 individuals are likely to become a customer of the maril-order company, which accounts for approximately 21% of the test individuals."
   ]
  }
 ],
 "metadata": {
  "kernelspec": {
   "display_name": "Python 3 (ipykernel)",
   "language": "python",
   "name": "python3"
  },
  "language_info": {
   "codemirror_mode": {
    "name": "ipython",
    "version": 3
   },
   "file_extension": ".py",
   "mimetype": "text/x-python",
   "name": "python",
   "nbconvert_exporter": "python",
   "pygments_lexer": "ipython3",
   "version": "3.9.7"
  },
  "toc": {
   "base_numbering": 1,
   "nav_menu": {},
   "number_sections": true,
   "sideBar": true,
   "skip_h1_title": false,
   "title_cell": "Table of Contents",
   "title_sidebar": "Contents",
   "toc_cell": false,
   "toc_position": {},
   "toc_section_display": true,
   "toc_window_display": false
  }
 },
 "nbformat": 4,
 "nbformat_minor": 2
}
